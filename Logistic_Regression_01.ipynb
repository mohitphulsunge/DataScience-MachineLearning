{
  "nbformat": 4,
  "nbformat_minor": 0,
  "metadata": {
    "colab": {
      "provenance": [],
      "collapsed_sections": [],
      "authorship_tag": "ABX9TyPDHn+ZaRNhoqhUawNKry1e",
      "include_colab_link": true
    },
    "kernelspec": {
      "name": "python3",
      "display_name": "Python 3"
    },
    "language_info": {
      "name": "python"
    }
  },
  "cells": [
    {
      "cell_type": "markdown",
      "metadata": {
        "id": "view-in-github",
        "colab_type": "text"
      },
      "source": [
        "<a href=\"https://colab.research.google.com/github/mohitphulsunge/DataScience-MachineLearning/blob/main/Logistic_Regression_01.ipynb\" target=\"_parent\"><img src=\"https://colab.research.google.com/assets/colab-badge.svg\" alt=\"Open In Colab\"/></a>"
      ]
    },
    {
      "cell_type": "code",
      "metadata": {
        "id": "kS14IjMMNgN1"
      },
      "source": [
        "import numpy as np\n",
        "import pandas as pd\n",
        "import matplotlib.pyplot as plt\n",
        "import seaborn as sns\n",
        "import math"
      ],
      "execution_count": null,
      "outputs": []
    },
    {
      "cell_type": "markdown",
      "metadata": {
        "id": "bFrTrbBBNvKP"
      },
      "source": [
        "Import dataset"
      ]
    },
    {
      "cell_type": "code",
      "metadata": {
        "colab": {
          "base_uri": "https://localhost:8080/"
        },
        "id": "vik17ldSN0wJ",
        "outputId": "3c169d19-1564-4079-eaf9-5778cbf8a24e"
      },
      "source": [
        "dataset = pd.read_csv(\"ex2data1.txt\", header=None)\n",
        "X = dataset.iloc[:,:-1].values\n",
        "Y = dataset.iloc[:, -1].values.reshape(100,1)\n",
        "X.shape"
      ],
      "execution_count": null,
      "outputs": [
        {
          "output_type": "execute_result",
          "data": {
            "text/plain": [
              "(100, 2)"
            ]
          },
          "metadata": {
            "tags": []
          },
          "execution_count": 8
        }
      ]
    },
    {
      "cell_type": "markdown",
      "metadata": {
        "id": "2WWuBnhMOXYV"
      },
      "source": [
        "Check if there are any null values"
      ]
    },
    {
      "cell_type": "code",
      "metadata": {
        "id": "jDNC-ZHOOZ36",
        "colab": {
          "base_uri": "https://localhost:8080/"
        },
        "outputId": "07070520-61ed-441b-ebfa-52a6ffad25f1"
      },
      "source": [
        "dataset.isnull().sum()"
      ],
      "execution_count": null,
      "outputs": [
        {
          "output_type": "execute_result",
          "data": {
            "text/plain": [
              "0    0\n",
              "1    0\n",
              "2    0\n",
              "dtype: int64"
            ]
          },
          "metadata": {
            "tags": []
          },
          "execution_count": 27
        }
      ]
    },
    {
      "cell_type": "markdown",
      "metadata": {
        "id": "emG76MX4OjHT"
      },
      "source": [
        "Visualize the data"
      ]
    },
    {
      "cell_type": "code",
      "metadata": {
        "id": "gjCh1rPvOo1K",
        "colab": {
          "base_uri": "https://localhost:8080/",
          "height": 296
        },
        "outputId": "f62a3bbf-4ffa-497a-81f0-c791d5bddd1b"
      },
      "source": [
        "sns.scatterplot(x=dataset[0], y=dataset[1], hue=dataset[2], data=dataset)\n",
        "x = np.linspace(5,100,1000)\n",
        "y = (-22.21660051 + 0.1826898*x)/(-0.17763707)\n",
        "plt.plot(x, y, '-r')"
      ],
      "execution_count": null,
      "outputs": [
        {
          "output_type": "execute_result",
          "data": {
            "text/plain": [
              "[<matplotlib.lines.Line2D at 0x7fb221ec9710>]"
            ]
          },
          "metadata": {
            "tags": []
          },
          "execution_count": 143
        },
        {
          "output_type": "display_data",
          "data": {
            "image/png": "[encoded data removed]",
            "text/plain": [
              "<Figure size 432x288 with 1 Axes>"
            ]
          },
          "metadata": {
            "tags": [],
            "needs_background": "light"
          }
        }
      ]
    },
    {
      "cell_type": "markdown",
      "metadata": {
        "id": "Q8O7fWBj5k-0"
      },
      "source": [
        "Accuracy"
      ]
    },
    {
      "cell_type": "code",
      "metadata": {
        "id": "r5NMADbxPZMm"
      },
      "source": [
        "def sigmoid(X):\n",
        "    return 1/(1 + np.exp(-X))"
      ],
      "execution_count": null,
      "outputs": []
    },
    {
      "cell_type": "markdown",
      "metadata": {
        "id": "Kx2CrhLlRGJr"
      },
      "source": [
        "Implementation of cost function"
      ]
    },
    {
      "cell_type": "code",
      "metadata": {
        "id": "6IMBEfmSRIDv"
      },
      "source": [
        "def cost(X, Y, theta):\n",
        "    temp = Y*np.log(sigmoid(np.dot(X, theta))) + (1-Y)*np.log(1-sigmoid(np.dot(X, theta)))\n",
        "    temp = temp / 100\n",
        "    return -temp.sum()\n",
        "\n",
        "def costFunction(theta, X, y):\n",
        "    J = (-1/100) * np.sum(np.multiply(y, np.log(sigmoid(X @ theta))) \n",
        "        + np.multiply((1-y), np.log(1 - sigmoid(X @ theta))))\n",
        "    return J"
      ],
      "execution_count": null,
      "outputs": []
    },
    {
      "cell_type": "markdown",
      "metadata": {
        "id": "0TK75W-VSmSt"
      },
      "source": [
        "Initialize params"
      ]
    },
    {
      "cell_type": "code",
      "metadata": {
        "id": "VIL3OMhKTHsB"
      },
      "source": [
        "ones = np.ones(len(X)).reshape(100,1)\n",
        "X = np.hstack((ones, X))\n",
        "theta = np.zeros(3).reshape(3,1)"
      ],
      "execution_count": null,
      "outputs": []
    },
    {
      "cell_type": "markdown",
      "metadata": {
        "id": "EmabcGMJbg6R"
      },
      "source": [
        "Test the cost function"
      ]
    },
    {
      "cell_type": "code",
      "metadata": {
        "colab": {
          "base_uri": "https://localhost:8080/"
        },
        "id": "E5_dfAAFbi3k",
        "outputId": "18cb821f-1ab8-4278-a427-e85d4cc6cf4b"
      },
      "source": [
        "print(cost(X,Y,theta))"
      ],
      "execution_count": null,
      "outputs": [
        {
          "output_type": "stream",
          "text": [
            "0.6931471805599457\n"
          ],
          "name": "stdout"
        }
      ]
    },
    {
      "cell_type": "markdown",
      "metadata": {
        "id": "oSdWLa8lo7ks"
      },
      "source": [
        "Gradient Descent"
      ]
    },
    {
      "cell_type": "code",
      "metadata": {
        "id": "4AwnI5Aco9Vq"
      },
      "source": [
        "def gradient_descent(X, Y, theta, alpha, iteration):\n",
        "    for i in range(iteration):\n",
        "        res = gradient(theta, X, Y)\n",
        "        temp = theta - (alpha*res)\n",
        "        theta = temp\n",
        "    print(cost(X, Y, theta))\n",
        "    print(theta)\n",
        "    return theta\n",
        "\n",
        "def calc(X, Y, theta):\n",
        "    return sigmoid(np.dot(X, theta)) - Y\n",
        "\n",
        "def gradient(theta, X, y):\n",
        "    return ((1/100) * X.T @ (sigmoid(X @ theta) - y))\n"
      ],
      "execution_count": null,
      "outputs": []
    },
    {
      "cell_type": "markdown",
      "metadata": {
        "id": "xeYjQUVkp8oS"
      },
      "source": []
    },
    {
      "cell_type": "code",
      "metadata": {
        "colab": {
          "base_uri": "https://localhost:8080/"
        },
        "id": "hU_hkDVop87H",
        "outputId": "3f902bfd-cd2e-4b66-f23d-2d7fad72c045"
      },
      "source": [
        " theta_optimized=gradient_descent(X, Y, theta, 0.003, 1000000)\n",
        "# gradient_descent(X, Y, theta, 0.01, 50000)"
      ],
      "execution_count": null,
      "outputs": [
        {
          "output_type": "stream",
          "text": [
            "0.2049307804026723\n",
            "[[-22.21660051]\n",
            " [  0.1826898 ]\n",
            " [  0.17763707]]\n"
          ],
          "name": "stdout"
        }
      ]
    },
    {
      "cell_type": "markdown",
      "metadata": {
        "id": "Vwo8Gm4m4N4t"
      },
      "source": [
        "Plot"
      ]
    },
    {
      "cell_type": "code",
      "metadata": {
        "colab": {
          "base_uri": "https://localhost:8080/",
          "height": 282
        },
        "id": "2w-Ggmq14Osr",
        "outputId": "73c7c1bf-826a-4a29-8c59-140a982c162c"
      },
      "source": [
        "x = np.linspace(5,25,100)\n",
        "y = (-22.21660051 + 0.1826898*x)/(-0.17763707)\n",
        "plt.plot(x, y, '-r')"
      ],
      "execution_count": null,
      "outputs": [
        {
          "output_type": "execute_result",
          "data": {
            "text/plain": [
              "[<matplotlib.lines.Line2D at 0x7f9d7fa63b10>]"
            ]
          },
          "metadata": {
            "tags": []
          },
          "execution_count": 13
        },
        {
          "output_type": "display_data",
          "data": {
            "image/png": "[encoded data removed]",
            "text/plain": [
              "<Figure size 432x288 with 1 Axes>"
            ]
          },
          "metadata": {
            "tags": [],
            "needs_background": "light"
          }
        }
      ]
    },
    {
      "cell_type": "markdown",
      "metadata": {
        "id": "19UyB2pl5p3D"
      },
      "source": [
        "Accuracy"
      ]
    },
    {
      "cell_type": "code",
      "metadata": {
        "colab": {
          "base_uri": "https://localhost:8080/"
        },
        "id": "NIcIo-Ku5qz0",
        "outputId": "3ce0c8d3-4569-4cd7-8133-871ecd2bb9b3"
      },
      "source": [
        "def accuracy(X, y, theta, cutoff):\n",
        "    pred_op = sigmoid(np.dot(X, theta))\n",
        "    pred = [sigmoid(np.dot(X, theta)) >= cutoff]\n",
        "    acc = np.mean(pred == y)\n",
        "    print(acc * 100)\n",
        "\n",
        "print(theta_optimized)\n",
        "accuracy(X, Y, theta_optimized, 0.5)"
      ],
      "execution_count": null,
      "outputs": [
        {
          "output_type": "stream",
          "text": [
            "[[-22.21660051]\n",
            " [  0.1826898 ]\n",
            " [  0.17763707]]\n",
            "89.0\n"
          ],
          "name": "stdout"
        }
      ]
    }
  ]
}