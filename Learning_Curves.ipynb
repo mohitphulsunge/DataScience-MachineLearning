{
  "nbformat": 4,
  "nbformat_minor": 0,
  "metadata": {
    "colab": {
      "provenance": [],
      "authorship_tag": "ABX9TyNBT0PH8KAfcxNnVvLy2G7G",
      "include_colab_link": true
    },
    "kernelspec": {
      "name": "python3",
      "display_name": "Python 3"
    },
    "language_info": {
      "name": "python"
    }
  },
  "cells": [
    {
      "cell_type": "markdown",
      "metadata": {
        "id": "view-in-github",
        "colab_type": "text"
      },
      "source": [
        "<a href=\"https://colab.research.google.com/github/mohitphulsunge/DataScience-MachineLearning/blob/main/Learning_Curves.ipynb\" target=\"_parent\"><img src=\"https://colab.research.google.com/assets/colab-badge.svg\" alt=\"Open In Colab\"/></a>"
      ]
    },
    {
      "cell_type": "code",
      "metadata": {
        "id": "LrBecDK-kp7q"
      },
      "source": [
        "import numpy as np\n",
        "import pandas as pd\n",
        "import seaborn as sns\n",
        "from scipy.io import loadmat\n",
        "import matplotlib.pyplot as plt\n",
        "from sklearn.linear_model import Ridge, LinearRegression\n",
        "from sklearn.metrics import mean_squared_error\n",
        "from sklearn.preprocessing import StandardScaler"
      ],
      "execution_count": null,
      "outputs": []
    },
    {
      "cell_type": "markdown",
      "metadata": {
        "id": "346-e2MBlDxI"
      },
      "source": [
        "Import the dataset"
      ]
    },
    {
      "cell_type": "code",
      "metadata": {
        "colab": {
          "base_uri": "https://localhost:8080/"
        },
        "id": "5IAn0C9elFFY",
        "outputId": "722e0a3b-25e2-4b6f-8331-ee389e94ba55"
      },
      "source": [
        "mat = loadmat(\"ex5data1.mat\")\n",
        "X = mat[\"X\"]\n",
        "y = mat[\"y\"]\n",
        "Xval = mat[\"Xval\"]\n",
        "yval = mat[\"yval\"]\n",
        "Xtest = mat[\"Xtest\"]\n",
        "X"
      ],
      "execution_count": null,
      "outputs": [
        {
          "output_type": "execute_result",
          "data": {
            "text/plain": [
              "array([[-15.93675813],\n",
              "       [-29.15297922],\n",
              "       [ 36.18954863],\n",
              "       [ 37.49218733],\n",
              "       [-48.05882945],\n",
              "       [ -8.94145794],\n",
              "       [ 15.30779289],\n",
              "       [-34.70626581],\n",
              "       [  1.38915437],\n",
              "       [-44.38375985],\n",
              "       [  7.01350208],\n",
              "       [ 22.76274892]])"
            ]
          },
          "metadata": {
            "tags": []
          },
          "execution_count": 294
        }
      ]
    },
    {
      "cell_type": "markdown",
      "metadata": {
        "id": "V_8oX599mI-N"
      },
      "source": [
        "Visualize the data"
      ]
    },
    {
      "cell_type": "code",
      "metadata": {
        "colab": {
          "base_uri": "https://localhost:8080/",
          "height": 282
        },
        "id": "8nnpLa2MmKGP",
        "outputId": "ab9d6747-ab5b-4952-9099-cd1700db0053"
      },
      "source": [
        "plt.scatter(X, y)"
      ],
      "execution_count": null,
      "outputs": [
        {
          "output_type": "execute_result",
          "data": {
            "text/plain": [
              "<matplotlib.collections.PathCollection at 0x7fb5f1f0f250>"
            ]
          },
          "metadata": {
            "tags": []
          },
          "execution_count": 295
        },
        {
          "output_type": "display_data",
          "data": {
            "image/png": "[encoded data removed]",
            "text/plain": [
              "<Figure size 432x288 with 1 Axes>"
            ]
          },
          "metadata": {
            "tags": [],
            "needs_background": "light"
          }
        }
      ]
    },
    {
      "cell_type": "markdown",
      "metadata": {
        "id": "QQcRY4e3nRpP"
      },
      "source": [
        "Train the model using Linear Regression"
      ]
    },
    {
      "cell_type": "code",
      "metadata": {
        "colab": {
          "base_uri": "https://localhost:8080/"
        },
        "id": "EcHznlCOnUcX",
        "outputId": "38c352f9-c6d3-4d2f-a7b1-8293b3b08400"
      },
      "source": [
        "regressor = LinearRegression()\n",
        "regressor.fit(X,y)\n",
        "print(regressor.coef_)"
      ],
      "execution_count": null,
      "outputs": [
        {
          "output_type": "stream",
          "text": [
            "[[0.36777923]]\n"
          ],
          "name": "stdout"
        }
      ]
    },
    {
      "cell_type": "markdown",
      "metadata": {
        "id": "7WVY88uwnzhr"
      },
      "source": [
        "Visualize"
      ]
    },
    {
      "cell_type": "code",
      "metadata": {
        "colab": {
          "base_uri": "https://localhost:8080/",
          "height": 282
        },
        "id": "pED_Pvjgn0p2",
        "outputId": "29391f5d-1645-4715-c2a5-cb09b70191ce"
      },
      "source": [
        "plt.scatter(X, y)\n",
        "eq_x = np.linspace(-50,50, 100)\n",
        "plt.plot(eq_x, 13.08790351 + (0.36777923*eq_x)) \n",
        "eq_x.shape"
      ],
      "execution_count": null,
      "outputs": [
        {
          "output_type": "execute_result",
          "data": {
            "text/plain": [
              "(100,)"
            ]
          },
          "metadata": {
            "tags": []
          },
          "execution_count": 297
        },
        {
          "output_type": "display_data",
          "data": {
            "image/png": "[encoded data removed]",
            "text/plain": [
              "<Figure size 432x288 with 1 Axes>"
            ]
          },
          "metadata": {
            "tags": [],
            "needs_background": "light"
          }
        }
      ]
    },
    {
      "cell_type": "markdown",
      "metadata": {
        "id": "T4rnzXL_rPJt"
      },
      "source": [
        "Calculate errors"
      ]
    },
    {
      "cell_type": "code",
      "metadata": {
        "colab": {
          "base_uri": "https://localhost:8080/",
          "height": 282
        },
        "id": "ewt2_a9Pr_vM",
        "outputId": "d91805a3-d293-49f2-8c04-3200ab7669a7"
      },
      "source": [
        "train_error = []\n",
        "cv_error = []\n",
        "for i in range(1, len(X), 1):\n",
        "    regressor = LinearRegression()\n",
        "    regressor.fit(X[:i],y[:i])\n",
        "    train_error.append(mean_squared_error(y[:i], regressor.predict(X[:i])))\n",
        "    cv_error.append(mean_squared_error(yval, regressor.predict(Xval)))\n",
        "\n",
        "plt.plot(train_error)\n",
        "plt.plot(cv_error)\n"
      ],
      "execution_count": null,
      "outputs": [
        {
          "output_type": "execute_result",
          "data": {
            "text/plain": [
              "[<matplotlib.lines.Line2D at 0x7fb5f1449790>]"
            ]
          },
          "metadata": {
            "tags": []
          },
          "execution_count": 298
        },
        {
          "output_type": "display_data",
          "data": {
            "image/png": "[encoded data removed]",
            "text/plain": [
              "<Figure size 432x288 with 1 Axes>"
            ]
          },
          "metadata": {
            "tags": [],
            "needs_background": "light"
          }
        }
      ]
    },
    {
      "cell_type": "markdown",
      "metadata": {
        "id": "ZuHT8WETvof5"
      },
      "source": [
        "Feature Scaling"
      ]
    },
    {
      "cell_type": "code",
      "metadata": {
        "id": "KAD0N-WLvp5a"
      },
      "source": [
        "def increasePower(X, p):\n",
        "    for power in range(2, p+1, 1):\n",
        "        X = np.concatenate((X, X[:,0].reshape(len(X[:,0]),1)**power), axis=1)\n",
        "    return X\n",
        "\n",
        "X_poly = increasePower(X, 8)\n",
        "eq_x_poly = increasePower(eq_x.reshape(100, 1), 8)\n",
        "eq_x_poly"
      ],
      "execution_count": null,
      "outputs": []
    },
    {
      "cell_type": "markdown",
      "metadata": {
        "id": "29NIqyVE4p-x"
      },
      "source": [
        "Standarize"
      ]
    },
    {
      "cell_type": "code",
      "metadata": {
        "id": "dYhdIy0o4rNV"
      },
      "source": [
        "sc_X = StandardScaler()\n",
        "sc_X.fit(X_poly)\n",
        "X_poly = sc_X.transform(X_poly)\n",
        "\n",
        "sc_Y = StandardScaler()\n",
        "sc_Y.fit(y)\n",
        "y_poly = sc_Y.transform(y)\n",
        "\n",
        "eq_x_poly_std = sc_X.transform(eq_x_poly)\n",
        "eq_x_poly"
      ],
      "execution_count": null,
      "outputs": []
    },
    {
      "cell_type": "markdown",
      "metadata": {
        "id": "S_r5whyIc2k2"
      },
      "source": [
        "Train the polynomial features"
      ]
    },
    {
      "cell_type": "code",
      "metadata": {
        "colab": {
          "base_uri": "https://localhost:8080/"
        },
        "id": "glAtY09Wc5Sw",
        "outputId": "5bb74588-208e-4f3c-a24d-042528966ab9"
      },
      "source": [
        "regressor_poly = Ridge(alpha=1000.0)\n",
        "regressor_poly.fit(X_poly,y_poly)\n",
        "print(np.concatenate((y_poly, regressor_poly.predict(X_poly)), axis=1))\n",
        "Z = regressor_poly.predict(sc_X.transform(increasePower(np.arange(-100,100,1).reshape(200,1), 8)))\n",
        "# print(mean_squared_error(y_poly, regressor_poly.predict(X_poly)))"
      ],
      "execution_count": null,
      "outputs": [
        {
          "output_type": "stream",
          "text": [
            "[[-7.27072067e-01  1.48369947e-03]\n",
            " [-8.03999728e-01 -7.15730062e-03]\n",
            " [ 1.85236554e+00  3.66876059e-02]\n",
            " [ 2.05078504e+00  3.94615629e-02]\n",
            " [-6.73069267e-01 -6.51124043e-02]\n",
            " [-7.28131707e-01  4.07431845e-03]\n",
            " [ 2.79571879e-01  1.35925211e-02]\n",
            " [-6.88660509e-01 -1.48448436e-02]\n",
            " [-5.98530732e-01  7.53163902e-03]\n",
            " [-5.99209543e-01 -4.41027975e-02]\n",
            " [-2.87356386e-01  9.64010008e-03]\n",
            " [ 9.23307474e-01  1.87458991e-02]]\n"
          ],
          "name": "stdout"
        }
      ]
    },
    {
      "cell_type": "markdown",
      "metadata": {
        "id": "He3zKZsmdPAk"
      },
      "source": [
        "Visulaize"
      ]
    },
    {
      "cell_type": "code",
      "metadata": {
        "colab": {
          "base_uri": "https://localhost:8080/",
          "height": 284
        },
        "id": "VMfAcR_WdP39",
        "outputId": "a971e410-b756-4dae-8562-1a4f5154f096"
      },
      "source": [
        "plt.scatter(X, y)\n",
        "plt.plot(np.arange(-100, 100, 1).reshape(200,1), sc_Y.inverse_transform(Z)) "
      ],
      "execution_count": null,
      "outputs": [
        {
          "output_type": "execute_result",
          "data": {
            "text/plain": [
              "[<matplotlib.lines.Line2D at 0x7fb5f1181d10>]"
            ]
          },
          "metadata": {
            "tags": []
          },
          "execution_count": 321
        },
        {
          "output_type": "display_data",
          "data": {
            "image/png": "[encoded data removed]",
            "text/plain": [
              "<Figure size 432x288 with 1 Axes>"
            ]
          },
          "metadata": {
            "tags": [],
            "needs_background": "light"
          }
        }
      ]
    },
    {
      "cell_type": "markdown",
      "metadata": {
        "id": "YHV51W6HbNHg"
      },
      "source": [
        "Calculate Errors"
      ]
    },
    {
      "cell_type": "code",
      "metadata": {
        "colab": {
          "base_uri": "https://localhost:8080/",
          "height": 286
        },
        "id": "FQFM0H5UbOOB",
        "outputId": "f4e48ea9-a35a-4ac1-e2ab-9c3966c83600"
      },
      "source": [
        "train_error = []\n",
        "cv_error = []\n",
        "for i in range(1, len(X), 1):\n",
        "    regressor_1 = Ridge(alpha=100)\n",
        "    regressor_1.fit(X_poly[:i],y_poly[:i])\n",
        "    train_error.append(mean_squared_error(y_poly[:i], regressor_1.predict(X_poly[:i])))\n",
        "    cv_error.append(mean_squared_error(yval, sc_Y.inverse_transform(regressor_1.predict(sc_X.transform(increasePower(Xval, 8))))))\n",
        "\n",
        "plt.plot(train_error)\n",
        "plt.plot(cv_error)"
      ],
      "execution_count": null,
      "outputs": [
        {
          "output_type": "execute_result",
          "data": {
            "text/plain": [
              "[<matplotlib.lines.Line2D at 0x7fb5f10a97d0>]"
            ]
          },
          "metadata": {
            "tags": []
          },
          "execution_count": 347
        },
        {
          "output_type": "display_data",
          "data": {
            "image/png": "[encoded data removed]",
            "text/plain": [
              "<Figure size 432x288 with 1 Axes>"
            ]
          },
          "metadata": {
            "tags": [],
            "needs_background": "light"
          }
        }
      ]
    },
    {
      "cell_type": "markdown",
      "metadata": {
        "id": "G0LzOYQXfsAO"
      },
      "source": [
        "Lambda vs error"
      ]
    },
    {
      "cell_type": "code",
      "metadata": {
        "colab": {
          "base_uri": "https://localhost:8080/",
          "height": 282
        },
        "id": "MOm4veQZfumC",
        "outputId": "9437cdc3-7e66-4e46-e934-f228c3f36144"
      },
      "source": [
        "train_error = []\n",
        "cv_error = []\n",
        "for al in range(0, 10, 1):\n",
        "    regressor_2 = Ridge(alpha=al)\n",
        "    regressor_2.fit(X_poly,y_poly)\n",
        "    train_error.append(mean_squared_error(y_poly, regressor_2.predict(X_poly)))\n",
        "    cv_error.append(mean_squared_error(yval, sc_Y.inverse_transform(regressor_2.predict(sc_X.transform(increasePower(Xval, 8))))))\n",
        "\n",
        "plt.plot(train_error)\n",
        "plt.plot(cv_error)"
      ],
      "execution_count": null,
      "outputs": [
        {
          "output_type": "execute_result",
          "data": {
            "text/plain": [
              "[<matplotlib.lines.Line2D at 0x7fb5f09981d0>]"
            ]
          },
          "metadata": {
            "tags": []
          },
          "execution_count": 349
        },
        {
          "output_type": "display_data",
          "data": {
            "image/png": "[encoded data removed]",
            "text/plain": [
              "<Figure size 432x288 with 1 Axes>"
            ]
          },
          "metadata": {
            "tags": [],
            "needs_background": "light"
          }
        }
      ]
    }
  ]
}