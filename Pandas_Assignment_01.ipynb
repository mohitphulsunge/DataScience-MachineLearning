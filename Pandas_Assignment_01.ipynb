{
  "nbformat": 4,
  "nbformat_minor": 0,
  "metadata": {
    "colab": {
      "provenance": [],
      "authorship_tag": "ABX9TyNq8BhYUndqmn2NLGkaTdZ2",
      "include_colab_link": true
    },
    "kernelspec": {
      "name": "python3",
      "display_name": "Python 3"
    }
  },
  "cells": [
    {
      "cell_type": "markdown",
      "metadata": {
        "id": "view-in-github",
        "colab_type": "text"
      },
      "source": [
        "<a href=\"https://colab.research.google.com/github/mohitphulsunge/DataScience-MachineLearning/blob/main/Pandas_Assignment_01.ipynb\" target=\"_parent\"><img src=\"https://colab.research.google.com/assets/colab-badge.svg\" alt=\"Open In Colab\"/></a>"
      ]
    },
    {
      "cell_type": "code",
      "metadata": {
        "id": "hrILoPrwiJz1"
      },
      "source": [
        "import pandas as pd\n",
        "import numpy as np\n",
        "import seaborn as sns"
      ],
      "execution_count": null,
      "outputs": []
    },
    {
      "cell_type": "code",
      "metadata": {
        "id": "CrUoaefQiTZO",
        "outputId": "d70ed2bd-5282-4eef-efe7-fda5f6fce726",
        "colab": {
          "base_uri": "https://localhost:8080/"
        }
      },
      "source": [
        "s = pd.Series([1,2,3,4,5])\n",
        "print(s)"
      ],
      "execution_count": null,
      "outputs": [
        {
          "output_type": "stream",
          "text": [
            "0    1\n",
            "1    2\n",
            "2    3\n",
            "3    4\n",
            "4    5\n",
            "dtype: int64\n"
          ],
          "name": "stdout"
        }
      ]
    },
    {
      "cell_type": "code",
      "metadata": {
        "id": "nyEXUx_did-1",
        "outputId": "54a03fd1-48af-45dd-e84c-c49aa6b51a9c",
        "colab": {
          "base_uri": "https://localhost:8080/"
        }
      },
      "source": [
        "marks = pd.Series([89, 87, 91], index = [\"Maths\", \"Science\", \"Physics\"])\n",
        "print(marks[\"Maths\"])"
      ],
      "execution_count": null,
      "outputs": [
        {
          "output_type": "stream",
          "text": [
            "89\n"
          ],
          "name": "stdout"
        }
      ]
    },
    {
      "cell_type": "code",
      "metadata": {
        "id": "5VjkVNg6jqVt",
        "outputId": "117ce05d-d3e9-4911-9b74-a05de9b98b2e",
        "colab": {
          "base_uri": "https://localhost:8080/"
        }
      },
      "source": [
        "dict = {}\n",
        "dict[\"Maths\"] = 87\n",
        "dict[\"English\"] = 76\n",
        "dict[\"Physics\"] = 98\n",
        "mohitMarks = pd.Series(dict, index = [\"Maths\", \"Physics\"])\n",
        "print(mohitMarks)\n"
      ],
      "execution_count": null,
      "outputs": [
        {
          "output_type": "stream",
          "text": [
            "Maths      87\n",
            "Physics    98\n",
            "dtype: int64\n"
          ],
          "name": "stdout"
        }
      ]
    },
    {
      "cell_type": "code",
      "metadata": {
        "id": "2XMQj2EMkTCz",
        "outputId": "a574b48a-3833-48c9-8945-424de2357724",
        "colab": {
          "base_uri": "https://localhost:8080/"
        }
      },
      "source": [
        "#iloc and loc\n",
        "countDict = {}\n",
        "countDict[1] = 0\n",
        "countDict[2] = 1\n",
        "countDict[3] = 2\n",
        "countDict[4] = 3\n",
        "countDict[5] = 4\n",
        "countDict[6] = 5\n",
        "count = pd.Series(countDict)\n",
        "print(count)\n",
        "\n",
        "print(count.loc[3])\n",
        "print(count.iloc[3])\n",
        "print(marks.loc[\"Maths\"])\n",
        "print(marks.iloc[0:2])\n"
      ],
      "execution_count": null,
      "outputs": [
        {
          "output_type": "stream",
          "text": [
            "1    0\n",
            "2    1\n",
            "3    2\n",
            "4    3\n",
            "5    4\n",
            "6    5\n",
            "dtype: int64\n",
            "2\n",
            "3\n",
            "89\n",
            "Maths      89\n",
            "Science    87\n",
            "dtype: int64\n"
          ],
          "name": "stdout"
        }
      ]
    },
    {
      "cell_type": "code",
      "metadata": {
        "id": "fQ0lI-zAnC6s"
      },
      "source": [
        "#Pandas is built on top of numpy \n",
        "\n",
        "marks = pd.Series([89, 67, 87, 98, 82], index = [\"Maths\", \"English\", \"Physics\", \"Chem\", \"PE\"])\n"
      ],
      "execution_count": null,
      "outputs": []
    },
    {
      "cell_type": "code",
      "metadata": {
        "id": "Sy7H-PJJnagS",
        "outputId": "384971cc-b543-4944-94d4-edc4ced50395",
        "colab": {
          "base_uri": "https://localhost:8080/"
        }
      },
      "source": [
        "goodMarks = marks[marks > 85]\n",
        "newMarks = goodMarks + marks\n",
        "newMarks[pd.isnull(newMarks)] = np.mean(newMarks)\n",
        "newMarks\n"
      ],
      "execution_count": null,
      "outputs": [
        {
          "output_type": "execute_result",
          "data": {
            "text/plain": [
              "Chem       196.000000\n",
              "English    182.666667\n",
              "Maths      178.000000\n",
              "PE         182.666667\n",
              "Physics    174.000000\n",
              "dtype: float64"
            ]
          },
          "metadata": {
            "tags": []
          },
          "execution_count": 10
        }
      ]
    },
    {
      "cell_type": "code",
      "metadata": {
        "id": "dyT9osYhoPjM"
      },
      "source": [],
      "execution_count": null,
      "outputs": []
    },
    {
      "cell_type": "code",
      "metadata": {
        "id": "sNPYW4CIo41n",
        "outputId": "21b21ef1-669b-406f-a5e7-c49884e6e2ef",
        "colab": {
          "base_uri": "https://localhost:8080/"
        }
      },
      "source": [
        "diameter = pd.Series([4879, 12104, 12756], index = [\"Mercury\", \"Venus\", \"Earth\"])\n",
        "mass = pd.Series([0.33, 5.25, 4.24], [\"Mercury\", \"Venus\", \"Earth\"])\n",
        "\n",
        "density = mass / (np.pi * np.power(diameter, 3) / 6)\n",
        "print(density)\n"
      ],
      "execution_count": null,
      "outputs": [
        {
          "output_type": "stream",
          "text": [
            "Mercury    5.426538e-12\n",
            "Venus      5.654236e-12\n",
            "Earth      3.901429e-12\n",
            "dtype: float64\n"
          ],
          "name": "stdout"
        }
      ]
    },
    {
      "cell_type": "code",
      "metadata": {
        "id": "sKyIu7AroRiQ",
        "outputId": "b4d14f2f-f906-4118-99be-f98363256138",
        "colab": {
          "base_uri": "https://localhost:8080/"
        }
      },
      "source": [
        "#NIFTY CASE STUDY\n",
        "\n",
        "nifty = pd.read_csv('nifty-200623-235920.csv', index_col = 0).iloc[:, 0]\n",
        "#What fraction of days did the market closed with a positive increase.\n",
        "np.sum(nifty.values[1 : ] - nifty.values[:-1] > 0)\n",
        "\n",
        "#Comupte moving average of last 5 days\n",
        "#Subset the data to include only Fridays\n",
        "new_index = map(pd.Timestamp, nifty.index)\n",
        "new_nifty = pd.Series(nifty, index = new_index)\n",
        "new_nifty.rolling('5d').mean().head(10)\n",
        "nifty_series = pd.Series(nifty, index = new_index)\n",
        "nifty_series.diff()\n",
        "\n"
      ],
      "execution_count": null,
      "outputs": [
        {
          "output_type": "execute_result",
          "data": {
            "text/plain": [
              "Series([], Name: Close, dtype: float64)"
            ]
          },
          "metadata": {
            "tags": []
          },
          "execution_count": 47
        }
      ]
    },
    {
      "cell_type": "code",
      "metadata": {
        "id": "x5uV6pPF4dcW"
      },
      "source": [],
      "execution_count": null,
      "outputs": []
    },
    {
      "cell_type": "code",
      "metadata": {
        "id": "nqRdI7rizAS0",
        "outputId": "8eadfec9-f484-4859-fdec-374ccf8e3cba",
        "colab": {
          "base_uri": "https://localhost:8080/"
        }
      },
      "source": [
        "data = [0 ,1 , 1, 2, 3, 5, 8, 13, 21]\n",
        "s=pd.Series(data)\n",
        "b = s.diff()\n",
        "print(b.loc[5])\n"
      ],
      "execution_count": null,
      "outputs": [
        {
          "output_type": "stream",
          "text": [
            "2.0\n"
          ],
          "name": "stdout"
        }
      ]
    },
    {
      "cell_type": "code",
      "metadata": {
        "id": "91_O2co64eq7",
        "outputId": "8960a574-1462-43a4-b2ee-b2ae6b1dbccd",
        "colab": {
          "base_uri": "https://localhost:8080/",
          "height": 171
        }
      },
      "source": [
        "def createDF(nRows, nCols, nRange = 10):\n",
        "    arr = np.random.randint(0 , nRange, (nRows, nCols))\n",
        "    index = [\"R\" + str(x) for x in np.arange(1, nRows+1)]\n",
        "    column = [\"C\" + str(x) for x in np.arange(1, nCols+1)]\n",
        "    df = pd.DataFrame(arr, index = index, columns = column)\n",
        "    return df\n",
        "\n",
        "df = createDF(3, 4 , 10)\n",
        "\n",
        "def createMeanRow(df):\n",
        "    for col in df.columns:\n",
        "        df.loc[\"Mean\", col] = np.mean(df[col])\n",
        "    return df\n",
        "\n",
        "    \n",
        "def createMeanRowEfficient(df):\n",
        "        df.loc[\"Mean\"] = np.mean(df)\n",
        "        return df\n",
        "\n",
        "\n",
        "\n",
        "createMeanRowEfficient(df)\n"
      ],
      "execution_count": null,
      "outputs": [
        {
          "output_type": "execute_result",
          "data": {
            "text/html": [
              "<div>\n",
              "<style scoped>\n",
              "    .dataframe tbody tr th:only-of-type {\n",
              "        vertical-align: middle;\n",
              "    }\n",
              "\n",
              "    .dataframe tbody tr th {\n",
              "        vertical-align: top;\n",
              "    }\n",
              "\n",
              "    .dataframe thead th {\n",
              "        text-align: right;\n",
              "    }\n",
              "</style>\n",
              "<table border=\"1\" class=\"dataframe\">\n",
              "  <thead>\n",
              "    <tr style=\"text-align: right;\">\n",
              "      <th></th>\n",
              "      <th>C1</th>\n",
              "      <th>C2</th>\n",
              "      <th>C3</th>\n",
              "      <th>C4</th>\n",
              "    </tr>\n",
              "  </thead>\n",
              "  <tbody>\n",
              "    <tr>\n",
              "      <th>R1</th>\n",
              "      <td>4.000000</td>\n",
              "      <td>2.000000</td>\n",
              "      <td>9.000000</td>\n",
              "      <td>2.000000</td>\n",
              "    </tr>\n",
              "    <tr>\n",
              "      <th>R2</th>\n",
              "      <td>1.000000</td>\n",
              "      <td>8.000000</td>\n",
              "      <td>4.000000</td>\n",
              "      <td>3.000000</td>\n",
              "    </tr>\n",
              "    <tr>\n",
              "      <th>R3</th>\n",
              "      <td>8.000000</td>\n",
              "      <td>7.000000</td>\n",
              "      <td>6.000000</td>\n",
              "      <td>8.000000</td>\n",
              "    </tr>\n",
              "    <tr>\n",
              "      <th>Mean</th>\n",
              "      <td>4.333333</td>\n",
              "      <td>5.666667</td>\n",
              "      <td>6.333333</td>\n",
              "      <td>4.333333</td>\n",
              "    </tr>\n",
              "  </tbody>\n",
              "</table>\n",
              "</div>"
            ],
            "text/plain": [
              "            C1        C2        C3        C4\n",
              "R1    4.000000  2.000000  9.000000  2.000000\n",
              "R2    1.000000  8.000000  4.000000  3.000000\n",
              "R3    8.000000  7.000000  6.000000  8.000000\n",
              "Mean  4.333333  5.666667  6.333333  4.333333"
            ]
          },
          "metadata": {
            "tags": []
          },
          "execution_count": 79
        }
      ]
    },
    {
      "cell_type": "code",
      "metadata": {
        "id": "OTt0Za8UOjbl",
        "outputId": "a8e18cd7-52c9-4b67-fac4-ade6a08b6c7d",
        "colab": {
          "base_uri": "https://localhost:8080/"
        }
      },
      "source": [
        "df = sns.load_dataset('planets')\n",
        "df.head(10)\n",
        "dropCol = []\n",
        "for row in df.index:\n",
        "    for col in df.columns:\n",
        "        if(pd.isnull(df.loc[row][col])):\n",
        "            dropCol.append( df.loc[row] )\n",
        "            break\n",
        "\n",
        "#Query\n",
        "\n",
        "for i, r in df.iterrows():\n",
        "    if(r.loc[\"method\"] == \"Radial Velocity\" and r.loc[\"year\"] == 2010 and r.loc[\"distance\"] > df[\"distance\"].quantile(0.75)):\n",
        "        print(r)\n",
        "        break\n",
        "\n",
        "df[(df[\"year\"] > 2010) & (df[\"method\"] == \"Radial Velocity\")]\n",
        "\n",
        "    \n",
        "#Modify the method name to contain only the abbreviaton\n",
        "df.method.unique()\n",
        "\n",
        "          "
      ],
      "execution_count": null,
      "outputs": [
        {
          "output_type": "stream",
          "text": [
            "method            Radial Velocity\n",
            "number                          1\n",
            "orbital_period               16.2\n",
            "mass                         1.25\n",
            "distance                   223.21\n",
            "year                         2010\n",
            "Name: 627, dtype: object\n"
          ],
          "name": "stdout"
        },
        {
          "output_type": "execute_result",
          "data": {
            "text/plain": [
              "array(['Radial Velocity', 'Imaging', 'Eclipse Timing Variations',\n",
              "       'Transit', 'Astrometry', 'Transit Timing Variations',\n",
              "       'Orbital Brightness Modulation', 'Microlensing', 'Pulsar Timing',\n",
              "       'Pulsation Timing Variations'], dtype=object)"
            ]
          },
          "metadata": {
            "tags": []
          },
          "execution_count": 3
        }
      ]
    },
    {
      "cell_type": "code",
      "metadata": {
        "id": "L-JYnz-HjDgj",
        "outputId": "68d08a75-aa69-4550-a3ac-a29426a48ba8",
        "colab": {
          "base_uri": "https://localhost:8080/",
          "height": 415
        }
      },
      "source": [
        "def shorten_name(planet_name):\n",
        "    return ''.join(x[0] for x in planet_name.split(' '))\n",
        "\n",
        "df[\"short_name\"] = df[\"method\"].apply(shorten_name)\n",
        "df\n"
      ],
      "execution_count": null,
      "outputs": [
        {
          "output_type": "execute_result",
          "data": {
            "text/html": [
              "<div>\n",
              "<style scoped>\n",
              "    .dataframe tbody tr th:only-of-type {\n",
              "        vertical-align: middle;\n",
              "    }\n",
              "\n",
              "    .dataframe tbody tr th {\n",
              "        vertical-align: top;\n",
              "    }\n",
              "\n",
              "    .dataframe thead th {\n",
              "        text-align: right;\n",
              "    }\n",
              "</style>\n",
              "<table border=\"1\" class=\"dataframe\">\n",
              "  <thead>\n",
              "    <tr style=\"text-align: right;\">\n",
              "      <th></th>\n",
              "      <th>method</th>\n",
              "      <th>number</th>\n",
              "      <th>orbital_period</th>\n",
              "      <th>mass</th>\n",
              "      <th>distance</th>\n",
              "      <th>year</th>\n",
              "      <th>short_name</th>\n",
              "    </tr>\n",
              "  </thead>\n",
              "  <tbody>\n",
              "    <tr>\n",
              "      <th>0</th>\n",
              "      <td>Radial Velocity</td>\n",
              "      <td>1</td>\n",
              "      <td>269.300000</td>\n",
              "      <td>7.10</td>\n",
              "      <td>77.40</td>\n",
              "      <td>2006</td>\n",
              "      <td>RV</td>\n",
              "    </tr>\n",
              "    <tr>\n",
              "      <th>1</th>\n",
              "      <td>Radial Velocity</td>\n",
              "      <td>1</td>\n",
              "      <td>874.774000</td>\n",
              "      <td>2.21</td>\n",
              "      <td>56.95</td>\n",
              "      <td>2008</td>\n",
              "      <td>RV</td>\n",
              "    </tr>\n",
              "    <tr>\n",
              "      <th>2</th>\n",
              "      <td>Radial Velocity</td>\n",
              "      <td>1</td>\n",
              "      <td>763.000000</td>\n",
              "      <td>2.60</td>\n",
              "      <td>19.84</td>\n",
              "      <td>2011</td>\n",
              "      <td>RV</td>\n",
              "    </tr>\n",
              "    <tr>\n",
              "      <th>3</th>\n",
              "      <td>Radial Velocity</td>\n",
              "      <td>1</td>\n",
              "      <td>326.030000</td>\n",
              "      <td>19.40</td>\n",
              "      <td>110.62</td>\n",
              "      <td>2007</td>\n",
              "      <td>RV</td>\n",
              "    </tr>\n",
              "    <tr>\n",
              "      <th>4</th>\n",
              "      <td>Radial Velocity</td>\n",
              "      <td>1</td>\n",
              "      <td>516.220000</td>\n",
              "      <td>10.50</td>\n",
              "      <td>119.47</td>\n",
              "      <td>2009</td>\n",
              "      <td>RV</td>\n",
              "    </tr>\n",
              "    <tr>\n",
              "      <th>...</th>\n",
              "      <td>...</td>\n",
              "      <td>...</td>\n",
              "      <td>...</td>\n",
              "      <td>...</td>\n",
              "      <td>...</td>\n",
              "      <td>...</td>\n",
              "      <td>...</td>\n",
              "    </tr>\n",
              "    <tr>\n",
              "      <th>1030</th>\n",
              "      <td>Transit</td>\n",
              "      <td>1</td>\n",
              "      <td>3.941507</td>\n",
              "      <td>NaN</td>\n",
              "      <td>172.00</td>\n",
              "      <td>2006</td>\n",
              "      <td>T</td>\n",
              "    </tr>\n",
              "    <tr>\n",
              "      <th>1031</th>\n",
              "      <td>Transit</td>\n",
              "      <td>1</td>\n",
              "      <td>2.615864</td>\n",
              "      <td>NaN</td>\n",
              "      <td>148.00</td>\n",
              "      <td>2007</td>\n",
              "      <td>T</td>\n",
              "    </tr>\n",
              "    <tr>\n",
              "      <th>1032</th>\n",
              "      <td>Transit</td>\n",
              "      <td>1</td>\n",
              "      <td>3.191524</td>\n",
              "      <td>NaN</td>\n",
              "      <td>174.00</td>\n",
              "      <td>2007</td>\n",
              "      <td>T</td>\n",
              "    </tr>\n",
              "    <tr>\n",
              "      <th>1033</th>\n",
              "      <td>Transit</td>\n",
              "      <td>1</td>\n",
              "      <td>4.125083</td>\n",
              "      <td>NaN</td>\n",
              "      <td>293.00</td>\n",
              "      <td>2008</td>\n",
              "      <td>T</td>\n",
              "    </tr>\n",
              "    <tr>\n",
              "      <th>1034</th>\n",
              "      <td>Transit</td>\n",
              "      <td>1</td>\n",
              "      <td>4.187757</td>\n",
              "      <td>NaN</td>\n",
              "      <td>260.00</td>\n",
              "      <td>2008</td>\n",
              "      <td>T</td>\n",
              "    </tr>\n",
              "  </tbody>\n",
              "</table>\n",
              "<p>1035 rows × 7 columns</p>\n",
              "</div>"
            ],
            "text/plain": [
              "               method  number  orbital_period   mass  distance  year short_name\n",
              "0     Radial Velocity       1      269.300000   7.10     77.40  2006         RV\n",
              "1     Radial Velocity       1      874.774000   2.21     56.95  2008         RV\n",
              "2     Radial Velocity       1      763.000000   2.60     19.84  2011         RV\n",
              "3     Radial Velocity       1      326.030000  19.40    110.62  2007         RV\n",
              "4     Radial Velocity       1      516.220000  10.50    119.47  2009         RV\n",
              "...               ...     ...             ...    ...       ...   ...        ...\n",
              "1030          Transit       1        3.941507    NaN    172.00  2006          T\n",
              "1031          Transit       1        2.615864    NaN    148.00  2007          T\n",
              "1032          Transit       1        3.191524    NaN    174.00  2007          T\n",
              "1033          Transit       1        4.125083    NaN    293.00  2008          T\n",
              "1034          Transit       1        4.187757    NaN    260.00  2008          T\n",
              "\n",
              "[1035 rows x 7 columns]"
            ]
          },
          "metadata": {
            "tags": []
          },
          "execution_count": 10
        }
      ]
    },
    {
      "cell_type": "code",
      "metadata": {
        "id": "hdcOiwrrUsAr",
        "outputId": "a0693930-c7e1-4ec1-f6d0-cb8938b19b22",
        "colab": {
          "base_uri": "https://localhost:8080/",
          "height": 477
        }
      },
      "source": [
        "nifty50_2018 = pd.read_csv('NIFTY50_2018.csv', index_col= 0 )\n",
        "nifty50_2019 = pd.read_csv('NIFTY50_2019.csv', index_col= 0 )\n",
        "nifty50 = pd.concat([nifty50_2018, nifty50_2019])\n",
        "nifty_next50_2019 = pd.read_csv('NIFTYNext50_2019.csv', index_col= 0 )\n",
        "nifty2019 = pd.concat([nifty50_2019, nifty_next50_2019], axis = 1, keys = [\"nifty50\", \"niftynext50\"])\n",
        "nifty2019_copy = nifty2019.copy()\n",
        "#In how many days was nifty50 volatile\n",
        "nifty2019_copy['volatile'] = nifty2019_copy['nifty50']['High'] > (nifty2019_copy['nifty50']['Low'] + 0.05*nifty2019_copy['nifty50']['Low']) \n",
        "nifty2019_copy\n",
        "\n",
        "\n"
      ],
      "execution_count": null,
      "outputs": [
        {
          "output_type": "execute_result",
          "data": {
            "text/html": [
              "<div>\n",
              "<style scoped>\n",
              "    .dataframe tbody tr th:only-of-type {\n",
              "        vertical-align: middle;\n",
              "    }\n",
              "\n",
              "    .dataframe tbody tr th {\n",
              "        vertical-align: top;\n",
              "    }\n",
              "\n",
              "    .dataframe thead tr th {\n",
              "        text-align: left;\n",
              "    }\n",
              "\n",
              "    .dataframe thead tr:last-of-type th {\n",
              "        text-align: right;\n",
              "    }\n",
              "</style>\n",
              "<table border=\"1\" class=\"dataframe\">\n",
              "  <thead>\n",
              "    <tr>\n",
              "      <th></th>\n",
              "      <th colspan=\"4\" halign=\"left\">nifty50</th>\n",
              "      <th colspan=\"4\" halign=\"left\">niftynext50</th>\n",
              "      <th>volatile</th>\n",
              "    </tr>\n",
              "    <tr>\n",
              "      <th></th>\n",
              "      <th>Open</th>\n",
              "      <th>High</th>\n",
              "      <th>Low</th>\n",
              "      <th>Close</th>\n",
              "      <th>Open</th>\n",
              "      <th>High</th>\n",
              "      <th>Low</th>\n",
              "      <th>Close</th>\n",
              "      <th></th>\n",
              "    </tr>\n",
              "    <tr>\n",
              "      <th>Date</th>\n",
              "      <th></th>\n",
              "      <th></th>\n",
              "      <th></th>\n",
              "      <th></th>\n",
              "      <th></th>\n",
              "      <th></th>\n",
              "      <th></th>\n",
              "      <th></th>\n",
              "      <th></th>\n",
              "    </tr>\n",
              "  </thead>\n",
              "  <tbody>\n",
              "    <tr>\n",
              "      <th>31 Dec 2019</th>\n",
              "      <td>12247.10</td>\n",
              "      <td>12247.10</td>\n",
              "      <td>12151.80</td>\n",
              "      <td>12168.45</td>\n",
              "      <td>28495.00</td>\n",
              "      <td>28549.50</td>\n",
              "      <td>28270.25</td>\n",
              "      <td>28307.55</td>\n",
              "      <td>False</td>\n",
              "    </tr>\n",
              "    <tr>\n",
              "      <th>30 Dec 2019</th>\n",
              "      <td>12274.90</td>\n",
              "      <td>12286.45</td>\n",
              "      <td>12213.80</td>\n",
              "      <td>12255.85</td>\n",
              "      <td>28528.95</td>\n",
              "      <td>28612.95</td>\n",
              "      <td>28406.70</td>\n",
              "      <td>28484.85</td>\n",
              "      <td>False</td>\n",
              "    </tr>\n",
              "    <tr>\n",
              "      <th>27 Dec 2019</th>\n",
              "      <td>12172.90</td>\n",
              "      <td>12258.45</td>\n",
              "      <td>12157.90</td>\n",
              "      <td>12245.80</td>\n",
              "      <td>28354.50</td>\n",
              "      <td>28500.25</td>\n",
              "      <td>28319.90</td>\n",
              "      <td>28476.80</td>\n",
              "      <td>False</td>\n",
              "    </tr>\n",
              "    <tr>\n",
              "      <th>26 Dec 2019</th>\n",
              "      <td>12211.85</td>\n",
              "      <td>12221.55</td>\n",
              "      <td>12118.85</td>\n",
              "      <td>12126.55</td>\n",
              "      <td>28409.10</td>\n",
              "      <td>28435.25</td>\n",
              "      <td>28259.75</td>\n",
              "      <td>28280.25</td>\n",
              "      <td>False</td>\n",
              "    </tr>\n",
              "    <tr>\n",
              "      <th>24 Dec 2019</th>\n",
              "      <td>12269.25</td>\n",
              "      <td>12283.70</td>\n",
              "      <td>12202.10</td>\n",
              "      <td>12214.55</td>\n",
              "      <td>28423.70</td>\n",
              "      <td>28430.40</td>\n",
              "      <td>28318.75</td>\n",
              "      <td>28382.85</td>\n",
              "      <td>False</td>\n",
              "    </tr>\n",
              "    <tr>\n",
              "      <th>...</th>\n",
              "      <td>...</td>\n",
              "      <td>...</td>\n",
              "      <td>...</td>\n",
              "      <td>...</td>\n",
              "      <td>...</td>\n",
              "      <td>...</td>\n",
              "      <td>...</td>\n",
              "      <td>...</td>\n",
              "      <td>...</td>\n",
              "    </tr>\n",
              "    <tr>\n",
              "      <th>07 Jan 2019</th>\n",
              "      <td>10804.85</td>\n",
              "      <td>10835.95</td>\n",
              "      <td>10750.15</td>\n",
              "      <td>10771.80</td>\n",
              "      <td>27893.95</td>\n",
              "      <td>27932.00</td>\n",
              "      <td>27652.95</td>\n",
              "      <td>27706.60</td>\n",
              "      <td>False</td>\n",
              "    </tr>\n",
              "    <tr>\n",
              "      <th>04 Jan 2019</th>\n",
              "      <td>10699.70</td>\n",
              "      <td>10741.05</td>\n",
              "      <td>10628.65</td>\n",
              "      <td>10727.35</td>\n",
              "      <td>27707.20</td>\n",
              "      <td>27842.75</td>\n",
              "      <td>27533.90</td>\n",
              "      <td>27719.50</td>\n",
              "      <td>False</td>\n",
              "    </tr>\n",
              "    <tr>\n",
              "      <th>03 Jan 2019</th>\n",
              "      <td>10796.80</td>\n",
              "      <td>10814.05</td>\n",
              "      <td>10661.25</td>\n",
              "      <td>10672.25</td>\n",
              "      <td>27874.05</td>\n",
              "      <td>28045.30</td>\n",
              "      <td>27630.20</td>\n",
              "      <td>27674.65</td>\n",
              "      <td>False</td>\n",
              "    </tr>\n",
              "    <tr>\n",
              "      <th>02 Jan 2019</th>\n",
              "      <td>10868.85</td>\n",
              "      <td>10895.35</td>\n",
              "      <td>10735.05</td>\n",
              "      <td>10792.50</td>\n",
              "      <td>28074.05</td>\n",
              "      <td>28188.40</td>\n",
              "      <td>27801.75</td>\n",
              "      <td>27876.95</td>\n",
              "      <td>False</td>\n",
              "    </tr>\n",
              "    <tr>\n",
              "      <th>01 Jan 2019</th>\n",
              "      <td>10881.70</td>\n",
              "      <td>10923.60</td>\n",
              "      <td>10807.10</td>\n",
              "      <td>10910.10</td>\n",
              "      <td>28243.95</td>\n",
              "      <td>28252.20</td>\n",
              "      <td>27988.60</td>\n",
              "      <td>28111.65</td>\n",
              "      <td>False</td>\n",
              "    </tr>\n",
              "  </tbody>\n",
              "</table>\n",
              "<p>245 rows × 9 columns</p>\n",
              "</div>"
            ],
            "text/plain": [
              "              nifty50                      ... niftynext50           volatile\n",
              "                 Open      High       Low  ...         Low     Close         \n",
              "Date                                       ...                               \n",
              "31 Dec 2019  12247.10  12247.10  12151.80  ...    28270.25  28307.55    False\n",
              "30 Dec 2019  12274.90  12286.45  12213.80  ...    28406.70  28484.85    False\n",
              "27 Dec 2019  12172.90  12258.45  12157.90  ...    28319.90  28476.80    False\n",
              "26 Dec 2019  12211.85  12221.55  12118.85  ...    28259.75  28280.25    False\n",
              "24 Dec 2019  12269.25  12283.70  12202.10  ...    28318.75  28382.85    False\n",
              "...               ...       ...       ...  ...         ...       ...      ...\n",
              "07 Jan 2019  10804.85  10835.95  10750.15  ...    27652.95  27706.60    False\n",
              "04 Jan 2019  10699.70  10741.05  10628.65  ...    27533.90  27719.50    False\n",
              "03 Jan 2019  10796.80  10814.05  10661.25  ...    27630.20  27674.65    False\n",
              "02 Jan 2019  10868.85  10895.35  10735.05  ...    27801.75  27876.95    False\n",
              "01 Jan 2019  10881.70  10923.60  10807.10  ...    27988.60  28111.65    False\n",
              "\n",
              "[245 rows x 9 columns]"
            ]
          },
          "metadata": {
            "tags": []
          },
          "execution_count": 21
        }
      ]
    }
  ]
}