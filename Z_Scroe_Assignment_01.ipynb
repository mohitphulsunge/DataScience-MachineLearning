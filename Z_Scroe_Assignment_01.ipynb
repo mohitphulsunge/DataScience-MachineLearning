{
  "nbformat": 4,
  "nbformat_minor": 0,
  "metadata": {
    "colab": {
      "provenance": [],
      "collapsed_sections": [],
      "authorship_tag": "ABX9TyPaw6LF6ph0PmYoMk2mJen4",
      "include_colab_link": true
    },
    "kernelspec": {
      "name": "python3",
      "display_name": "Python 3"
    },
    "language_info": {
      "name": "python"
    }
  },
  "cells": [
    {
      "cell_type": "markdown",
      "metadata": {
        "id": "view-in-github",
        "colab_type": "text"
      },
      "source": [
        "<a href=\"https://colab.research.google.com/github/mohitphulsunge/DataScience-MachineLearning/blob/main/Z_Scroe_Assignment_01.ipynb\" target=\"_parent\"><img src=\"https://colab.research.google.com/assets/colab-badge.svg\" alt=\"Open In Colab\"/></a>"
      ]
    },
    {
      "cell_type": "code",
      "metadata": {
        "id": "4PcC_VwGWkcQ"
      },
      "source": [
        "import numpy as np\n",
        "import pandas as pd\n",
        "import seaborn as sns"
      ],
      "execution_count": null,
      "outputs": []
    },
    {
      "cell_type": "code",
      "metadata": {
        "id": "1qALficUWvEe"
      },
      "source": [
        "np.random.seed(34)\n",
        "pdArr = []\n",
        "for n in range(3, 200):\n",
        "    arr = np.random.randn(10000, n)\n",
        "    pdArr.append(np.var(arr, axis=1, ddof=1).mean())\n",
        "df = pd.DataFrame({\"num\" : range(3, len(pdArr) + 3),\"var\" : pdArr})\n",
        "#sns.lineplot(x=\"num\", y = \"var\", data = df)\n",
        "df"
      ],
      "execution_count": null,
      "outputs": []
    },
    {
      "cell_type": "code",
      "metadata": {
        "colab": {
          "base_uri": "https://localhost:8080/",
          "height": 525
        },
        "id": "oLi9oE0joiKs",
        "outputId": "1c151b59-e142-449e-98ca-3d08ac0958f5"
      },
      "source": [
        "def zscorefunc(x, mean, std):\n",
        "   # print((x.iloc[:-2] - mean))\n",
        "    return (((x.iloc[:-2] - mean)/std)**2).sum()\n",
        "np.random.seed(0)\n",
        "for n in range(3, 4):\n",
        "    arr = np.random.randn(1000, n)\n",
        "    df = pd.DataFrame(arr)\n",
        "    row_mean = 0#df.mean(axis=1)\n",
        "    row_std = 1#df.std(axis=1)\n",
        "    df[\"row_mean\"] = row_mean\n",
        "    df[\"row_std\"] = row_std\n",
        "    df[\"zscore_sum\"] = df.apply(zscorefunc, axis=1, args=(row_mean, row_std))\n",
        "    print(df)\n",
        "    sns.kdeplot(data=df[\"zscore_sum\"])\n",
        "\n"
      ],
      "execution_count": null,
      "outputs": [
        {
          "output_type": "stream",
          "text": [
            "            0         1         2  row_mean  row_std  zscore_sum\n",
            "0    1.764052  0.400157  0.978738         0        1    4.229935\n",
            "1    2.240893  1.867558 -0.977278         0        1    9.464447\n",
            "2    0.950088 -0.151357 -0.103219         0        1    0.936231\n",
            "3    0.410599  0.144044  1.454274         0        1    2.304251\n",
            "4    0.761038  0.121675  0.443863         0        1    0.790998\n",
            "..        ...       ...       ...       ...      ...         ...\n",
            "995 -0.224092  1.967730  0.447683         0        1    4.122598\n",
            "996 -0.662191 -1.577607 -0.340560         0        1    3.043323\n",
            "997 -1.303220  0.466751  0.161106         0        1    1.942194\n",
            "998  0.320032  2.079177 -0.907466         0        1    5.248891\n",
            "999 -0.192404 -1.212516 -0.080599         0        1    1.513710\n",
            "\n",
            "[1000 rows x 6 columns]\n"
          ],
          "name": "stdout"
        },
        {
          "output_type": "display_data",
          "data": {
            "image/png": "[encoded data removed]",
            "text/plain": [
              "<Figure size 432x288 with 1 Axes>"
            ]
          },
          "metadata": {
            "tags": [],
            "needs_background": "light"
          }
        }
      ]
    }
  ]
}