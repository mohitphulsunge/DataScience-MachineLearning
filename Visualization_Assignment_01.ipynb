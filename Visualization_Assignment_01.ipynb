{
  "nbformat": 4,
  "nbformat_minor": 0,
  "metadata": {
    "colab": {
      "provenance": [],
      "authorship_tag": "ABX9TyNzrDUhPmXpFrBj6d8QUM1H",
      "include_colab_link": true
    },
    "kernelspec": {
      "name": "python3",
      "display_name": "Python 3"
    },
    "language_info": {
      "name": "python"
    }
  },
  "cells": [
    {
      "cell_type": "markdown",
      "metadata": {
        "id": "view-in-github",
        "colab_type": "text"
      },
      "source": [
        "<a href=\"https://colab.research.google.com/github/mohitphulsunge/DataScience-MachineLearning/blob/main/Visualization_Assignment_01.ipynb\" target=\"_parent\"><img src=\"https://colab.research.google.com/assets/colab-badge.svg\" alt=\"Open In Colab\"/></a>"
      ]
    },
    {
      "cell_type": "code",
      "metadata": {
        "id": "U_K10lI255vO"
      },
      "source": [
        "import numpy as np\n",
        "import pandas as pd\n",
        "import seaborn as sns\n",
        "\n",
        "np.random.seed(0)"
      ],
      "execution_count": null,
      "outputs": []
    },
    {
      "cell_type": "markdown",
      "metadata": {
        "id": "hOiQy9rI6Jvb"
      },
      "source": [
        "#Suppose we take 1000 samples with each sample havin varing n elements. "
      ]
    },
    {
      "cell_type": "code",
      "metadata": {
        "colab": {
          "base_uri": "https://localhost:8080/",
          "height": 334
        },
        "id": "_JnZV2pe6UA1",
        "outputId": "3afb8c5d-0f2f-44aa-fd6c-1ee76a2ac3f6"
      },
      "source": [
        "np.random.seed(0)\n",
        "arr = []\n",
        "meanarr = []\n",
        "for n in range(1, 40):\n",
        "    arr2d = pd.DataFrame(np.random.randint(1, 7, (1000, n)))\n",
        "    arr2d[\"mean\"] = arr2d.mean(axis=1)\n",
        "    mean = arr2d[\"mean\"].mean()\n",
        "    var = arr2d[\"mean\"].var()\n",
        "    # print(\"Mean : \", mean)\n",
        "    # print(\"Variance : \",var )\n",
        "    arr.append(var)\n",
        "    meanarr.append(mean)\n",
        "print(meanarr)\n",
        "pdarr = pd.DataFrame({'var':arr, 'mean': meanarr}, index=range(1, 40))\n",
        "sns.kdeplot(data=pdarr['mean'])\n",
        "\n"
      ],
      "execution_count": null,
      "outputs": [
        {
          "output_type": "stream",
          "text": [
            "[3.519, 3.5305, 3.4846666666666657, 3.47625, 3.5015999999999967, 3.525833333333333, 3.523428571428572, 3.52275, 3.5425555555555572, 3.5004999999999966, 3.4981818181818203, 3.4993333333333316, 3.4875384615384597, 3.515357142857142, 3.492000000000001, 3.5028125, 3.5159411764705895, 3.503499999999993, 3.508684210526315, 3.5079499999999952, 3.5097142857142867, 3.4793636363636415, 3.5058260869565228, 3.51191666666667, 3.480759999999999, 3.4836153846153857, 3.4932592592592586, 3.5139285714285706, 3.4846896551724185, 3.511166666666668, 3.495387096774198, 3.4809375, 3.498181818181816, 3.5092352941176452, 3.4869142857142807, 3.493722222222217, 3.5021621621621617, 3.4852894736842135, 3.500410256410256]\n"
          ],
          "name": "stdout"
        },
        {
          "output_type": "execute_result",
          "data": {
            "text/plain": [
              "<matplotlib.axes._subplots.AxesSubplot at 0x7fe5bcc67cd0>"
            ]
          },
          "metadata": {
            "tags": []
          },
          "execution_count": 74
        },
        {
          "output_type": "display_data",
          "data": {
            "image/png": "[encoded data removed]",
            "text/plain": [
              "<Figure size 432x288 with 1 Axes>"
            ]
          },
          "metadata": {
            "tags": [],
            "needs_background": "light"
          }
        }
      ]
    },
    {
      "cell_type": "code",
      "metadata": {
        "colab": {
          "base_uri": "https://localhost:8080/"
        },
        "id": "IEByOyxBWn7q",
        "outputId": "1e77df69-aca9-4141-daaf-dc304c446001"
      },
      "source": [
        "np.random.seed(0) \n",
        "# for m in range(-1, 1.5, 0.5):\n",
        "arr2d = pd.DataFrame(np.random.normal(loc=-10, scale=4, size=(1000,10)))\n",
        "arr2d[\"mean\"] = arr2d.mean(axis=1)\n",
        "arr2d[\"mean\"].var()"
      ],
      "execution_count": null,
      "outputs": [
        {
          "output_type": "execute_result",
          "data": {
            "text/plain": [
              "1.4791714370410134"
            ]
          },
          "metadata": {
            "tags": []
          },
          "execution_count": 88
        }
      ]
    }
  ]
}