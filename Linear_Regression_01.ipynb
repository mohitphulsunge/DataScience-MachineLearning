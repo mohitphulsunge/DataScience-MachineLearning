{
  "nbformat": 4,
  "nbformat_minor": 0,
  "metadata": {
    "colab": {
      "provenance": [],
      "authorship_tag": "ABX9TyMmiOmqXEqV1EfBp1rwvsZu",
      "include_colab_link": true
    },
    "kernelspec": {
      "name": "python3",
      "display_name": "Python 3"
    },
    "language_info": {
      "name": "python"
    }
  },
  "cells": [
    {
      "cell_type": "markdown",
      "metadata": {
        "id": "view-in-github",
        "colab_type": "text"
      },
      "source": [
        "<a href=\"https://colab.research.google.com/github/mohitphulsunge/DataScience-MachineLearning/blob/main/Linear_Regression_01.ipynb\" target=\"_parent\"><img src=\"https://colab.research.google.com/assets/colab-badge.svg\" alt=\"Open In Colab\"/></a>"
      ]
    },
    {
      "cell_type": "code",
      "metadata": {
        "id": "Wy3_cbVVp2v1"
      },
      "source": [
        "import numpy as np\n",
        "import pandas as pd\n",
        "import matplotlib.pyplot as plt\n",
        "from sklearn.impute import SimpleImputer\n",
        "from sklearn.compose import ColumnTransformer\n",
        "from sklearn.preprocessing import OneHotEncoder\n",
        "from sklearn.preprocessing import LabelEncoder\n",
        "from sklearn.model_selection import train_test_split\n",
        "from sklearn.preprocessing import StandardScaler\n",
        "from sklearn.linear_model import LinearRegression"
      ],
      "execution_count": null,
      "outputs": []
    },
    {
      "cell_type": "markdown",
      "metadata": {
        "id": "k2mdPyo0qE7H"
      },
      "source": [
        "Importing dataset"
      ]
    },
    {
      "cell_type": "code",
      "metadata": {
        "id": "1aQl9biYqGdM"
      },
      "source": [
        "dataset = pd.read_csv(\"Salary_Data.csv\")\n",
        "X = dataset.iloc[:, :-1].values\n",
        "Y = dataset.iloc[:,-1].values"
      ],
      "execution_count": null,
      "outputs": []
    },
    {
      "cell_type": "markdown",
      "metadata": {
        "id": "rWB2oc8Aqtd5"
      },
      "source": [
        "Splitting data into train and test dataset"
      ]
    },
    {
      "cell_type": "code",
      "metadata": {
        "id": "h2zMm9bFqwIv"
      },
      "source": [
        "X_train, X_test, Y_train, Y_test = train_test_split(X, Y, train_size=0.8, random_state=1)\n",
        "X_train"
      ],
      "execution_count": null,
      "outputs": []
    },
    {
      "cell_type": "markdown",
      "metadata": {
        "id": "fqeBDAR7q43T"
      },
      "source": [
        "Simple Linear Regression on training set"
      ]
    },
    {
      "cell_type": "code",
      "metadata": {
        "colab": {
          "base_uri": "https://localhost:8080/"
        },
        "id": "zGkQ7aR6q7nc",
        "outputId": "7e7ca8dc-bc5a-4952-d13e-5a4251851a58"
      },
      "source": [
        "regressor = LinearRegression()\n",
        "regressor.fit(X_train, Y_train)"
      ],
      "execution_count": null,
      "outputs": [
        {
          "output_type": "execute_result",
          "data": {
            "text/plain": [
              "LinearRegression(copy_X=True, fit_intercept=True, n_jobs=None, normalize=False)"
            ]
          },
          "metadata": {
            "tags": []
          },
          "execution_count": 7
        }
      ]
    },
    {
      "cell_type": "markdown",
      "metadata": {
        "id": "ZLAbq0oFtDKg"
      },
      "source": [
        "Predicting the test set results"
      ]
    },
    {
      "cell_type": "code",
      "metadata": {
        "id": "IiGkpLVKtGtJ"
      },
      "source": [
        "Y_pred = regressor.predict(X_test)"
      ],
      "execution_count": null,
      "outputs": []
    },
    {
      "cell_type": "markdown",
      "metadata": {
        "id": "OOzJ4HG5v0sv"
      },
      "source": [
        "Visualising Training set results"
      ]
    },
    {
      "cell_type": "code",
      "metadata": {
        "colab": {
          "base_uri": "https://localhost:8080/",
          "height": 295
        },
        "id": "4XEj2Gzov4Yp",
        "outputId": "75fd6304-de6d-4389-fd17-fe1a411ee3c7"
      },
      "source": [
        "plt.scatter(X_train, Y_train)\n",
        "plt.plot(X_train, regressor.predict(X_train), color=\"red\")\n",
        "plt.title('Exp vs Salary')\n",
        "plt.xlabel(\"Exp\")\n",
        "plt.ylabel(\"Salary\")\n",
        "plt.show()"
      ],
      "execution_count": null,
      "outputs": [
        {
          "output_type": "display_data",
          "data": {
            "image/png": "[encoded data removed]",
            "text/plain": [
              "<Figure size 432x288 with 1 Axes>"
            ]
          },
          "metadata": {
            "tags": [],
            "needs_background": "light"
          }
        }
      ]
    },
    {
      "cell_type": "markdown",
      "metadata": {
        "id": "lP4F-513wccn"
      },
      "source": [
        "Visualizing test set resut"
      ]
    },
    {
      "cell_type": "code",
      "metadata": {
        "colab": {
          "base_uri": "https://localhost:8080/",
          "height": 295
        },
        "id": "Vl-Z7MW_wewY",
        "outputId": "d7a26370-bec0-49c7-9508-85da9776ff05"
      },
      "source": [
        "plt.scatter(X_test, Y_test)\n",
        "plt.plot(X_train, regressor.predict(X_train), color=\"red\")\n",
        "plt.title('Exp vs Salary')\n",
        "plt.xlabel(\"Exp\")\n",
        "plt.ylabel(\"Salary\")\n",
        "plt.show()"
      ],
      "execution_count": null,
      "outputs": [
        {
          "output_type": "display_data",
          "data": {
            "image/png": "[encoded data removed]",
            "text/plain": [
              "<Figure size 432x288 with 1 Axes>"
            ]
          },
          "metadata": {
            "tags": [],
            "needs_background": "light"
          }
        }
      ]
    }
  ]
}