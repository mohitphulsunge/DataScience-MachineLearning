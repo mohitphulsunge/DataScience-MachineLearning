{
  "nbformat": 4,
  "nbformat_minor": 0,
  "metadata": {
    "colab": {
      "provenance": [],
      "collapsed_sections": [],
      "authorship_tag": "ABX9TyMfD/Y35nXPqc5vKCFRg4Pb",
      "include_colab_link": true
    },
    "kernelspec": {
      "name": "python3",
      "display_name": "Python 3"
    },
    "language_info": {
      "name": "python"
    }
  },
  "cells": [
    {
      "cell_type": "markdown",
      "metadata": {
        "id": "view-in-github",
        "colab_type": "text"
      },
      "source": [
        "<a href=\"https://colab.research.google.com/github/mohitphulsunge/DataScience-MachineLearning/blob/main/Regularized_Logistic_Regression.ipynb\" target=\"_parent\"><img src=\"https://colab.research.google.com/assets/colab-badge.svg\" alt=\"Open In Colab\"/></a>"
      ]
    },
    {
      "cell_type": "code",
      "metadata": {
        "id": "0RlDI6NBjBgs"
      },
      "source": [
        "import numpy as np\n",
        "import pandas as pd\n",
        "import matplotlib.pyplot as plt\n",
        "import seaborn as sns\n",
        "import scipy.optimize as opt "
      ],
      "execution_count": null,
      "outputs": []
    },
    {
      "cell_type": "markdown",
      "metadata": {
        "id": "8X6FS2RrjJNo"
      },
      "source": [
        "Import dataset"
      ]
    },
    {
      "cell_type": "code",
      "metadata": {
        "colab": {
          "base_uri": "https://localhost:8080/"
        },
        "id": "ZwGD3GNLjKfa",
        "outputId": "86a7fa2c-a0c9-4365-c2d5-f563e086557f"
      },
      "source": [
        "dataset = pd.read_csv(\"ex2data2.txt\", header=None)\n",
        "X = dataset.iloc[:,:-1].values\n",
        "Y = dataset.iloc[:, -1].values.reshape(len(X), 1)\n",
        "Y.shape"
      ],
      "execution_count": null,
      "outputs": [
        {
          "output_type": "execute_result",
          "data": {
            "text/plain": [
              "(118, 1)"
            ]
          },
          "metadata": {
            "tags": []
          },
          "execution_count": 15
        }
      ]
    },
    {
      "cell_type": "markdown",
      "metadata": {
        "id": "smWtSufcjoLf"
      },
      "source": [
        "Visualize"
      ]
    },
    {
      "cell_type": "code",
      "metadata": {
        "colab": {
          "base_uri": "https://localhost:8080/",
          "height": 296
        },
        "id": "r-3fBZODjpSn",
        "outputId": "f3055c18-1f9e-4890-f2da-77f64659f5ce"
      },
      "source": [
        "sns.scatterplot(x=dataset[0], y=dataset[1], hue=dataset[2], data=dataset)\n",
        "# x = np.linspace(5,25,100)\n",
        "# y = (-22.21660051 + 0.1826898*x)/(-0.17763707)\n",
        "# plt.plot(x, y, '-r')\n",
        "u = np.linspace(-1, 1.5, 50)\n",
        "v = np.linspace(-1, 1.5, 50)\n",
        "z = np.zeros((len(u), len(v)))"
      ],
      "execution_count": null,
      "outputs": [
        {
          "output_type": "execute_result",
          "data": {
            "text/plain": [
              "<matplotlib.axes._subplots.AxesSubplot at 0x7fc18f0f23d0>"
            ]
          },
          "metadata": {
            "tags": []
          },
          "execution_count": 98
        },
        {
          "output_type": "display_data",
          "data": {
            "image/png": "[encoded data removed]",
            "text/plain": [
              "<Figure size 432x288 with 1 Axes>"
            ]
          },
          "metadata": {
            "tags": [],
            "needs_background": "light"
          }
        }
      ]
    },
    {
      "cell_type": "markdown",
      "metadata": {
        "id": "yiSIwzFgj9Vw"
      },
      "source": [
        "Fetaure Map"
      ]
    },
    {
      "cell_type": "code",
      "metadata": {
        "id": "c-xIkKQliHQs"
      },
      "source": [
        "def featureMap(X1, X2, degree):\n",
        "    arr = np.ones(len(X1)).reshape(len(X1), 1)\n",
        "    for i in range(1, degree+1):\n",
        "        for j in range(i+1):\n",
        "            arrColToAdd = (X1**j)*(X2**(i-j))\n",
        "            arr = np.concatenate((arr, arrColToAdd), axis=1) \n",
        "    return arr\n",
        "\n",
        "# for i in range(7):\n",
        "#     print(\"For : \" , i)\n",
        "#     for j in range(i + 1):\n",
        "#         print(j, i-j)\n",
        "\n",
        "X = featureMap(X[:, 0].reshape(len(X), 1), X[:, 1].reshape(len(X), 1), 6)"
      ],
      "execution_count": null,
      "outputs": []
    },
    {
      "cell_type": "markdown",
      "metadata": {
        "id": "Odl8boAuqUTs"
      },
      "source": [
        "Sigmoid Function"
      ]
    },
    {
      "cell_type": "code",
      "metadata": {
        "id": "5PO2Qe8EqVs-"
      },
      "source": [
        "def sigmoid(X):\n",
        "    return 1/(1 + np.exp(-X))"
      ],
      "execution_count": null,
      "outputs": []
    },
    {
      "cell_type": "markdown",
      "metadata": {
        "id": "5wHawcMaqj8w"
      },
      "source": [
        "Regularized cost function"
      ]
    },
    {
      "cell_type": "code",
      "metadata": {
        "id": "4Z0VXFH8qljB"
      },
      "source": [
        "def lrCostFunction(theta_t, X_t, y_t, lambda_t):\n",
        "    m = len(y_t)\n",
        "    J = (-1/m) * (y_t.T @ np.log(sigmoid(X_t @ theta_t)) + (1 - y_t.T) @ np.log(1 - sigmoid(X_t @ theta_t)))\n",
        "    reg = (lambda_t/(2*m)) * (theta_t[1:].T @ theta_t[1:])\n",
        "    J = J + reg\n",
        "    return J"
      ],
      "execution_count": null,
      "outputs": []
    },
    {
      "cell_type": "markdown",
      "metadata": {
        "id": "rl8tgjSgyqIJ"
      },
      "source": [
        "gradient"
      ]
    },
    {
      "cell_type": "code",
      "metadata": {
        "id": "hlrHE6Nfyq8C"
      },
      "source": [
        "def gradient(theta, X, y, lambda_t):\n",
        "    grad = np.zeros((len(X),1))\n",
        "    grad = (1/len(X))*(np.dot((sigmoid(np.dot(X,theta)) - Y).T, X)).reshape(len(X), 1)\n",
        "    grad[1:] = grad[1:] + (lambda_t / m) * theta[1:]\n",
        "    return grad\n",
        "\n",
        "def lrGradientDescent(theta, X, y, lambda_t):\n",
        "    m = len(y)\n",
        "    grad = np.zeros([m,1])\n",
        "    grad = (1/m) * X.T @ (sigmoid(X @ theta) - y)\n",
        "    grad[1:] = grad[1:] + (lambda_t / m) * theta[1:]\n",
        "    return grad"
      ],
      "execution_count": null,
      "outputs": []
    },
    {
      "cell_type": "markdown",
      "metadata": {
        "id": "q-664NBWruLg"
      },
      "source": [
        "Initialize params"
      ]
    },
    {
      "cell_type": "code",
      "metadata": {
        "id": "WZWrMFnQrvks"
      },
      "source": [
        "\n",
        "theta = np.zeros(28).reshape(28,1)"
      ],
      "execution_count": null,
      "outputs": []
    },
    {
      "cell_type": "markdown",
      "metadata": {
        "id": "xtsAvcrwr113"
      },
      "source": [
        "Test cost function"
      ]
    },
    {
      "cell_type": "code",
      "metadata": {
        "colab": {
          "base_uri": "https://localhost:8080/"
        },
        "id": "dT1abTnnr27l",
        "outputId": "01146608-4835-49d4-ff55-2d5a2437bdcc"
      },
      "source": [
        "print(cost(X,Y,theta, 0))\n",
        "# np.insert(theta[1:], 0, 0).shape"
      ],
      "execution_count": null,
      "outputs": [
        {
          "output_type": "stream",
          "text": [
            "0.6931471805599451\n"
          ],
          "name": "stdout"
        }
      ]
    },
    {
      "cell_type": "code",
      "metadata": {
        "colab": {
          "base_uri": "https://localhost:8080/"
        },
        "id": "Ylw4N_sO0U96",
        "outputId": "a9736a13-a605-41f1-abd8-add4132080f1"
      },
      "source": [
        "lam=1\n",
        "output = opt.fmin_tnc(func = lrCostFunction, x0 = theta.flatten(), fprime = lrGradientDescent, \\\n",
        "                         args = (X, Y.flatten(), lam))\n",
        "theta = output[0]\n",
        "print(theta) # theta contains the optimized values"
      ],
      "execution_count": null,
      "outputs": [
        {
          "output_type": "stream",
          "text": [
            "[ 1.27271026  1.18111686  0.62529964 -1.43166927 -0.9174319  -2.01987399\n",
            " -0.17516292 -0.35725404 -0.36553118  0.12393228 -1.19271299 -0.27469165\n",
            " -0.61558556 -0.05098418 -1.45817009 -0.45645981 -0.29539514 -0.27778949\n",
            " -0.04466178 -0.20603301 -0.24217841 -0.92467488 -0.1438915  -0.32742404\n",
            "  0.0155576  -0.29244867  0.02779373 -1.04319154]\n"
          ],
          "name": "stdout"
        }
      ]
    },
    {
      "cell_type": "code",
      "metadata": {
        "colab": {
          "base_uri": "https://localhost:8080/",
          "height": 269
        },
        "id": "5cUfQLSX6l6c",
        "outputId": "910753b0-b1fc-456a-dfac-e55ec39cf022"
      },
      "source": [
        "u = np.linspace(-1, 1.5, 50)\n",
        "v = np.linspace(-1, 1.5, 50)\n",
        "z = np.zeros((len(u), len(v)))\n",
        "def mapFeatureForPlotting(X1, X2):\n",
        "    degree = 6\n",
        "    out = np.ones(1)\n",
        "    for i in range(1, degree+1):\n",
        "        for j in range(i+1):\n",
        "            out = np.hstack((out, np.multiply(np.power(X1, i-j), np.power(X2, j))))\n",
        "    return out\n",
        "for i in range(len(u)):\n",
        "    for j in range(len(v)):\n",
        "        z[i,j] = np.dot(mapFeatureForPlotting(u[i], v[j]), theta)\n",
        "# mask = Y.flatten() == 1\n",
        "# X = dataset.iloc[:,:-1]\n",
        "# passed = plt.scatter(X[mask][0], X[mask][1])\n",
        "# failed = plt.scatter(X[~mask][0], X[~mask][1])\n",
        "plt.contour(u,v,z,0)\n",
        "# plt.xlabel('Microchip Test1')\n",
        "# plt.ylabel('Microchip Test2')\n",
        "# plt.legend((passed, failed), ('Passed', 'Failed'))\n",
        "plt.show()"
      ],
      "execution_count": null,
      "outputs": [
        {
          "output_type": "display_data",
          "data": {
            "image/png": "[encoded data removed]",
            "text/plain": [
              "<Figure size 432x288 with 1 Axes>"
            ]
          },
          "metadata": {
            "tags": [],
            "needs_background": "light"
          }
        }
      ]
    }
  ]
}