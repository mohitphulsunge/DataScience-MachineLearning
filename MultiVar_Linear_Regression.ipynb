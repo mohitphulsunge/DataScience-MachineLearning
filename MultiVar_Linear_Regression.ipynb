{
  "nbformat": 4,
  "nbformat_minor": 0,
  "metadata": {
    "colab": {
      "provenance": [],
      "collapsed_sections": [],
      "authorship_tag": "ABX9TyMzemmIBW+EjoDlZPgDnsel",
      "include_colab_link": true
    },
    "kernelspec": {
      "name": "python3",
      "display_name": "Python 3"
    },
    "language_info": {
      "name": "python"
    }
  },
  "cells": [
    {
      "cell_type": "markdown",
      "metadata": {
        "id": "view-in-github",
        "colab_type": "text"
      },
      "source": [
        "<a href=\"https://colab.research.google.com/github/mohitphulsunge/DataScience-MachineLearning/blob/main/MultiVar_Linear_Regression.ipynb\" target=\"_parent\"><img src=\"https://colab.research.google.com/assets/colab-badge.svg\" alt=\"Open In Colab\"/></a>"
      ]
    },
    {
      "cell_type": "code",
      "metadata": {
        "id": "KfejzKU2RhMT"
      },
      "source": [
        "import numpy as np\n",
        "import pandas as pd\n",
        "import seaborn as sns\n",
        "import matplotlib.pyplot as plt\n",
        "from sklearn.preprocessing import StandardScaler\n",
        "import seaborn as sns"
      ],
      "execution_count": null,
      "outputs": []
    },
    {
      "cell_type": "markdown",
      "metadata": {
        "id": "EDX4ppL3RmHM"
      },
      "source": [
        "Load Data"
      ]
    },
    {
      "cell_type": "code",
      "metadata": {
        "id": "5tSbYIUgRnNr"
      },
      "source": [
        "dataset = pd.read_csv(\"ex1data2.txt\", header=None) \n",
        "X = np.array(dataset.iloc[:, :-1].values)\n",
        "Y = np.array(dataset.iloc[:,-1].values)\n",
        "Y = Y.reshape(len(Y),1)"
      ],
      "execution_count": null,
      "outputs": []
    },
    {
      "cell_type": "markdown",
      "metadata": {
        "id": "p2SehfD9SAda"
      },
      "source": [
        "Feature normalization"
      ]
    },
    {
      "cell_type": "code",
      "metadata": {
        "id": "PXACDiNZSE-N"
      },
      "source": [
        "sc = StandardScaler()  \n",
        "sc.fit(X)\n",
        "X = sc.transform(X)\n",
        "# print(np.var(np.array(X[:,0])))\n",
        "# sns.kdeplot(x=X[:,1],data=X)"
      ],
      "execution_count": null,
      "outputs": []
    },
    {
      "cell_type": "markdown",
      "metadata": {
        "id": "4alZFdOiWLUN"
      },
      "source": [
        "Initialization of parameters"
      ]
    },
    {
      "cell_type": "code",
      "metadata": {
        "colab": {
          "base_uri": "https://localhost:8080/"
        },
        "id": "nqZrgk3kWNNA",
        "outputId": "520a79ae-82f1-443c-b4d2-33b35f6a0f5c"
      },
      "source": [
        "ones = np.ones(len(Y)).reshape(len(Y),1)\n",
        "X = np.hstack((ones, X))\n",
        "theta = np.zeros(3).reshape(3,1)\n",
        "print(X.shape, theta.shape)\n",
        "iteration = 400\n",
        "alpha = 1"
      ],
      "execution_count": null,
      "outputs": [
        {
          "output_type": "stream",
          "text": [
            "(47, 3) (3, 1)\n"
          ],
          "name": "stdout"
        }
      ]
    },
    {
      "cell_type": "code",
      "metadata": {
        "id": "6-Vn-6-hWc3N"
      },
      "source": [
        "def computeCost(X, y, theta):\n",
        "    temp = np.dot(X, theta) - y\n",
        "    return np.sum(np.power(temp, 2)) / (2*len(Y))\n",
        "\n",
        "def gradientDescent(X, Y, theta, alpha, iterations):\n",
        "    cost = computeCost(X, Y, theta)\n",
        "    print(cost)\n",
        "    for _ in range(iterations):\n",
        "        res = calc(X, Y, theta)\n",
        "        const_coeff = alpha/len(Y)\n",
        "        temp = theta - (const_coeff * np.dot(res.T, X)).T\n",
        "        theta = temp\n",
        "    print(computeCost(X, Y, theta))\n",
        "    print(theta)\n",
        "\n",
        "def calc(X, Y, theta):\n",
        "    return (np.dot(X, theta) - Y)"
      ],
      "execution_count": null,
      "outputs": []
    },
    {
      "cell_type": "code",
      "metadata": {
        "colab": {
          "base_uri": "https://localhost:8080/"
        },
        "id": "vs1s5FQpWeNV",
        "outputId": "54d6b211-29fc-416d-f978-36884a7083d5"
      },
      "source": [
        "gradientDescent(X, Y, theta, alpha, 3000)"
      ],
      "execution_count": null,
      "outputs": [
        {
          "output_type": "stream",
          "text": [
            "65591548106.45744\n",
            "2043280050.602829\n",
            "[[340412.65957447]\n",
            " [109447.79646964]\n",
            " [ -6578.35485416]]\n"
          ],
          "name": "stdout"
        }
      ]
    }
  ]
}