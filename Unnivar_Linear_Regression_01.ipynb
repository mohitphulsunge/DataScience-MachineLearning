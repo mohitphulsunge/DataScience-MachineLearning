{
  "nbformat": 4,
  "nbformat_minor": 0,
  "metadata": {
    "colab": {
      "provenance": [],
      "collapsed_sections": [],
      "authorship_tag": "ABX9TyN2ZC83jkBj+p/TfrOudZVw",
      "include_colab_link": true
    },
    "kernelspec": {
      "name": "python3",
      "display_name": "Python 3"
    },
    "language_info": {
      "name": "python"
    }
  },
  "cells": [
    {
      "cell_type": "markdown",
      "metadata": {
        "id": "view-in-github",
        "colab_type": "text"
      },
      "source": [
        "<a href=\"https://colab.research.google.com/github/mohitphulsunge/DataScience-MachineLearning/blob/main/Unnivar_Linear_Regression_01.ipynb\" target=\"_parent\"><img src=\"https://colab.research.google.com/assets/colab-badge.svg\" alt=\"Open In Colab\"/></a>"
      ]
    },
    {
      "cell_type": "code",
      "metadata": {
        "id": "qZFJcTKuPtkx"
      },
      "source": [
        "import numpy as np\n",
        "import pandas as pd\n",
        "import seaborn as sns\n",
        "import matplotlib.pyplot as plt"
      ],
      "execution_count": null,
      "outputs": []
    },
    {
      "cell_type": "markdown",
      "metadata": {
        "id": "p4Xn6NzwP-C4"
      },
      "source": [
        "Load data"
      ]
    },
    {
      "cell_type": "code",
      "metadata": {
        "colab": {
          "base_uri": "https://localhost:8080/",
          "height": 296
        },
        "id": "p8oSnALyP_Pu",
        "outputId": "257b5a4c-62ce-45b2-b013-017738cdfe01"
      },
      "source": [
        "dataset = pd.read_csv(\"ex1data1.txt\", header=None) \n",
        "dataset.columns = [\"population\", \"profit\"]\n",
        "sns.regplot(x=\"population\", y=\"profit\", data=dataset)\n",
        "#To compare our solution\n",
        "x = np.linspace(5,25,100)\n",
        "y = -3.63029144 + 1.16636235*x\n",
        "plt.plot(x, y, '-r')"
      ],
      "execution_count": null,
      "outputs": [
        {
          "output_type": "execute_result",
          "data": {
            "text/plain": [
              "[<matplotlib.lines.Line2D at 0x7fada586d7d0>]"
            ]
          },
          "metadata": {
            "tags": []
          },
          "execution_count": 144
        },
        {
          "output_type": "display_data",
          "data": {
            "image/png": "[encoded data removed]",
            "text/plain": [
              "<Figure size 432x288 with 1 Axes>"
            ]
          },
          "metadata": {
            "tags": [],
            "needs_background": "light"
          }
        }
      ]
    },
    {
      "cell_type": "code",
      "metadata": {
        "colab": {
          "base_uri": "https://localhost:8080/"
        },
        "id": "HEjqSakDTaT6",
        "outputId": "d4dd6dc0-c476-4d98-c54f-8c2e6dc875b9"
      },
      "source": [
        "X = np.array(dataset.iloc[:, :-1].values)\n",
        "Y = np.array(dataset.iloc[:,-1].values)\n",
        "Y = Y.reshape(97,1)\n",
        "type(Y)"
      ],
      "execution_count": null,
      "outputs": [
        {
          "output_type": "execute_result",
          "data": {
            "text/plain": [
              "numpy.ndarray"
            ]
          },
          "metadata": {
            "tags": []
          },
          "execution_count": 82
        }
      ]
    },
    {
      "cell_type": "markdown",
      "metadata": {
        "id": "SwJOD8RSUGTT"
      },
      "source": [
        "Initialization of parameters"
      ]
    },
    {
      "cell_type": "code",
      "metadata": {
        "colab": {
          "base_uri": "https://localhost:8080/"
        },
        "id": "acJVjC39UJdy",
        "outputId": "231ecca1-6d4e-421b-ffea-a8028c512fc9"
      },
      "source": [
        "ones = np.ones(len(X)).reshape(97,1)\n",
        "X = np.hstack((ones, X))\n",
        "theta = np.zeros(2).reshape(2,1)\n",
        "print(X.shape, theta.shape)\n",
        "iteration = 5\n",
        "alpha = 0.01"
      ],
      "execution_count": null,
      "outputs": [
        {
          "output_type": "stream",
          "text": [
            "(97, 2) (2, 1)\n"
          ],
          "name": "stdout"
        }
      ]
    },
    {
      "cell_type": "markdown",
      "metadata": {
        "id": "wkLteZVeW9VH"
      },
      "source": [
        "Compute Cost fuction and gradient descent functions"
      ]
    },
    {
      "cell_type": "code",
      "metadata": {
        "id": "e7_QTGuiXAHE"
      },
      "source": [
        "def computeCost(X, y, theta):\n",
        "    temp = np.dot(X, theta) - y\n",
        "    return np.sum(np.power(temp, 2)) / (2*len(Y))\n",
        "\n",
        "def gradientDescent(X, Y, theta, alpha, iterations):\n",
        "    cost = computeCost(X, Y, theta)\n",
        "    print(cost)\n",
        "    for _ in range(iterations):\n",
        "        res = calc(X, Y, theta)\n",
        "        const_coeff = alpha/len(Y)\n",
        "        temp = theta - (const_coeff * np.dot(res.T, X)).T\n",
        "        theta = temp\n",
        "    print(computeCost(X, Y, theta))\n",
        "    print(theta)\n",
        "\n",
        "def calc(X, Y, theta):\n",
        "    return (np.dot(X, theta) - Y)\n"
      ],
      "execution_count": null,
      "outputs": []
    },
    {
      "cell_type": "markdown",
      "metadata": {
        "id": "kRLRkbNkZkqH"
      },
      "source": [
        "Compute Cost"
      ]
    },
    {
      "cell_type": "code",
      "metadata": {
        "colab": {
          "base_uri": "https://localhost:8080/"
        },
        "id": "qMU95GRFZmra",
        "outputId": "017943bc-e4e3-479c-df3a-077dceaba9a9"
      },
      "source": [
        "costFunction(X, Y, theta)"
      ],
      "execution_count": null,
      "outputs": [
        {
          "output_type": "execute_result",
          "data": {
            "text/plain": [
              "32.072733877455676"
            ]
          },
          "metadata": {
            "tags": []
          },
          "execution_count": 88
        }
      ]
    },
    {
      "cell_type": "markdown",
      "metadata": {
        "id": "39QxDitivZnP"
      },
      "source": [
        "Gradient Descent"
      ]
    },
    {
      "cell_type": "code",
      "metadata": {
        "colab": {
          "base_uri": "https://localhost:8080/"
        },
        "id": "dluG0iDLvcGE",
        "outputId": "b21bd335-059c-470a-e474-60e90c4b43b4"
      },
      "source": [
        "gradientDescent(X, Y, theta, alpha, 1500)\n"
      ],
      "execution_count": null,
      "outputs": [
        {
          "output_type": "stream",
          "text": [
            "32.072733877455676\n",
            "4.483388256587726\n",
            "[[-3.63029144]\n",
            " [ 1.16636235]]\n"
          ],
          "name": "stdout"
        }
      ]
    },
    {
      "cell_type": "markdown",
      "metadata": {
        "id": "5H6sQCEdI8fO"
      },
      "source": [
        "Graph for best theta"
      ]
    },
    {
      "cell_type": "code",
      "metadata": {
        "colab": {
          "base_uri": "https://localhost:8080/",
          "height": 296
        },
        "id": "F2i9BuAiJABI",
        "outputId": "7b7dfaa6-e281-4c9f-cf69-c499d1be9d38"
      },
      "source": [
        "x = np.linspace(5,25,100)\n",
        "y = -3.63029144 + 1.16636235*x\n",
        "plt.plot(x, y, '-r')\n",
        "plt.xlabel('population')\n",
        "plt.ylabel('profit')"
      ],
      "execution_count": null,
      "outputs": [
        {
          "output_type": "execute_result",
          "data": {
            "text/plain": [
              "Text(0, 0.5, 'profit')"
            ]
          },
          "metadata": {
            "tags": []
          },
          "execution_count": 143
        },
        {
          "output_type": "display_data",
          "data": {
            "image/png": "[encoded data removed]",
            "text/plain": [
              "<Figure size 432x288 with 1 Axes>"
            ]
          },
          "metadata": {
            "tags": [],
            "needs_background": "light"
          }
        }
      ]
    },
    {
      "cell_type": "markdown",
      "metadata": {
        "id": "4M0JFAQD5Yd6"
      },
      "source": [
        "Accuracy"
      ]
    },
    {
      "cell_type": "code",
      "metadata": {
        "id": "zcYSDwhD5Zkp"
      },
      "source": [],
      "execution_count": null,
      "outputs": []
    }
  ]
}