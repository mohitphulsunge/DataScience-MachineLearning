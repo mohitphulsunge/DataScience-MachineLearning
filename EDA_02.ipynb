{
  "nbformat": 4,
  "nbformat_minor": 0,
  "metadata": {
    "colab": {
      "provenance": [],
      "collapsed_sections": [],
      "toc_visible": true,
      "include_colab_link": true
    },
    "kernelspec": {
      "name": "python3",
      "display_name": "Python 3"
    },
    "language_info": {
      "name": "python"
    }
  },
  "cells": [
    {
      "cell_type": "markdown",
      "metadata": {
        "id": "view-in-github",
        "colab_type": "text"
      },
      "source": [
        "<a href=\"https://colab.research.google.com/github/mohitphulsunge/DataScience-MachineLearning/blob/main/EDA_02.ipynb\" target=\"_parent\"><img src=\"https://colab.research.google.com/assets/colab-badge.svg\" alt=\"Open In Colab\"/></a>"
      ]
    },
    {
      "cell_type": "code",
      "execution_count": null,
      "metadata": {
        "id": "pfIyTdzEWdep"
      },
      "outputs": [],
      "source": [
        "import numpy as np\n",
        "import pandas as pd\n",
        "import seaborn as sns\n",
        "import matplotlib.pyplot as plt"
      ]
    },
    {
      "cell_type": "code",
      "source": [
        "#Loading data into dataframe\n",
        "application_data = pd.read_csv(\"application_data.csv\")\n",
        "#Look into first 5 rows of data\n",
        "application_data.head()"
      ],
      "metadata": {
        "colab": {
          "base_uri": "https://localhost:8080/",
          "height": 299
        },
        "id": "aShlXaPPWmT9",
        "outputId": "f5b01061-d907-48f0-b1cf-24c25520d43c"
      },
      "execution_count": null,
      "outputs": [
        {
          "output_type": "execute_result",
          "data": {
            "text/plain": [
              "   SK_ID_CURR  TARGET NAME_CONTRACT_TYPE CODE_GENDER FLAG_OWN_CAR  \\\n",
              "0      100002       1         Cash loans           M            N   \n",
              "1      100003       0         Cash loans           F            N   \n",
              "2      100004       0    Revolving loans           M            Y   \n",
              "3      100006       0         Cash loans           F            N   \n",
              "4      100007       0         Cash loans           M            N   \n",
              "\n",
              "  FLAG_OWN_REALTY  CNT_CHILDREN  AMT_INCOME_TOTAL  AMT_CREDIT  AMT_ANNUITY  \\\n",
              "0               Y             0          202500.0    406597.5      24700.5   \n",
              "1               N             0          270000.0   1293502.5      35698.5   \n",
              "2               Y             0           67500.0    135000.0       6750.0   \n",
              "3               Y             0          135000.0    312682.5      29686.5   \n",
              "4               Y             0          121500.0    513000.0      21865.5   \n",
              "\n",
              "   ...  FLAG_DOCUMENT_18 FLAG_DOCUMENT_19 FLAG_DOCUMENT_20 FLAG_DOCUMENT_21  \\\n",
              "0  ...               0.0              0.0              0.0              0.0   \n",
              "1  ...               0.0              0.0              0.0              0.0   \n",
              "2  ...               0.0              0.0              0.0              0.0   \n",
              "3  ...               0.0              0.0              0.0              0.0   \n",
              "4  ...               0.0              0.0              0.0              0.0   \n",
              "\n",
              "  AMT_REQ_CREDIT_BUREAU_HOUR AMT_REQ_CREDIT_BUREAU_DAY  \\\n",
              "0                        0.0                       0.0   \n",
              "1                        0.0                       0.0   \n",
              "2                        0.0                       0.0   \n",
              "3                        NaN                       NaN   \n",
              "4                        0.0                       0.0   \n",
              "\n",
              "   AMT_REQ_CREDIT_BUREAU_WEEK  AMT_REQ_CREDIT_BUREAU_MON  \\\n",
              "0                         0.0                        0.0   \n",
              "1                         0.0                        0.0   \n",
              "2                         0.0                        0.0   \n",
              "3                         NaN                        NaN   \n",
              "4                         0.0                        0.0   \n",
              "\n",
              "   AMT_REQ_CREDIT_BUREAU_QRT  AMT_REQ_CREDIT_BUREAU_YEAR  \n",
              "0                        0.0                         1.0  \n",
              "1                        0.0                         0.0  \n",
              "2                        0.0                         0.0  \n",
              "3                        NaN                         NaN  \n",
              "4                        0.0                         0.0  \n",
              "\n",
              "[5 rows x 122 columns]"
            ],
            "text/html": [
              "\n",
              "  <div id=\"df-c4e163ae-a917-44a1-89ca-62a85e190d3b\">\n",
              "    <div class=\"colab-df-container\">\n",
              "      <div>\n",
              "<style scoped>\n",
              "    .dataframe tbody tr th:only-of-type {\n",
              "        vertical-align: middle;\n",
              "    }\n",
              "\n",
              "    .dataframe tbody tr th {\n",
              "        vertical-align: top;\n",
              "    }\n",
              "\n",
              "    .dataframe thead th {\n",
              "        text-align: right;\n",
              "    }\n",
              "</style>\n",
              "<table border=\"1\" class=\"dataframe\">\n",
              "  <thead>\n",
              "    <tr style=\"text-align: right;\">\n",
              "      <th></th>\n",
              "      <th>SK_ID_CURR</th>\n",
              "      <th>TARGET</th>\n",
              "      <th>NAME_CONTRACT_TYPE</th>\n",
              "      <th>CODE_GENDER</th>\n",
              "      <th>FLAG_OWN_CAR</th>\n",
              "      <th>FLAG_OWN_REALTY</th>\n",
              "      <th>CNT_CHILDREN</th>\n",
              "      <th>AMT_INCOME_TOTAL</th>\n",
              "      <th>AMT_CREDIT</th>\n",
              "      <th>AMT_ANNUITY</th>\n",
              "      <th>...</th>\n",
              "      <th>FLAG_DOCUMENT_18</th>\n",
              "      <th>FLAG_DOCUMENT_19</th>\n",
              "      <th>FLAG_DOCUMENT_20</th>\n",
              "      <th>FLAG_DOCUMENT_21</th>\n",
              "      <th>AMT_REQ_CREDIT_BUREAU_HOUR</th>\n",
              "      <th>AMT_REQ_CREDIT_BUREAU_DAY</th>\n",
              "      <th>AMT_REQ_CREDIT_BUREAU_WEEK</th>\n",
              "      <th>AMT_REQ_CREDIT_BUREAU_MON</th>\n",
              "      <th>AMT_REQ_CREDIT_BUREAU_QRT</th>\n",
              "      <th>AMT_REQ_CREDIT_BUREAU_YEAR</th>\n",
              "    </tr>\n",
              "  </thead>\n",
              "  <tbody>\n",
              "    <tr>\n",
              "      <th>0</th>\n",
              "      <td>100002</td>\n",
              "      <td>1</td>\n",
              "      <td>Cash loans</td>\n",
              "      <td>M</td>\n",
              "      <td>N</td>\n",
              "      <td>Y</td>\n",
              "      <td>0</td>\n",
              "      <td>202500.0</td>\n",
              "      <td>406597.5</td>\n",
              "      <td>24700.5</td>\n",
              "      <td>...</td>\n",
              "      <td>0.0</td>\n",
              "      <td>0.0</td>\n",
              "      <td>0.0</td>\n",
              "      <td>0.0</td>\n",
              "      <td>0.0</td>\n",
              "      <td>0.0</td>\n",
              "      <td>0.0</td>\n",
              "      <td>0.0</td>\n",
              "      <td>0.0</td>\n",
              "      <td>1.0</td>\n",
              "    </tr>\n",
              "    <tr>\n",
              "      <th>1</th>\n",
              "      <td>100003</td>\n",
              "      <td>0</td>\n",
              "      <td>Cash loans</td>\n",
              "      <td>F</td>\n",
              "      <td>N</td>\n",
              "      <td>N</td>\n",
              "      <td>0</td>\n",
              "      <td>270000.0</td>\n",
              "      <td>1293502.5</td>\n",
              "      <td>35698.5</td>\n",
              "      <td>...</td>\n",
              "      <td>0.0</td>\n",
              "      <td>0.0</td>\n",
              "      <td>0.0</td>\n",
              "      <td>0.0</td>\n",
              "      <td>0.0</td>\n",
              "      <td>0.0</td>\n",
              "      <td>0.0</td>\n",
              "      <td>0.0</td>\n",
              "      <td>0.0</td>\n",
              "      <td>0.0</td>\n",
              "    </tr>\n",
              "    <tr>\n",
              "      <th>2</th>\n",
              "      <td>100004</td>\n",
              "      <td>0</td>\n",
              "      <td>Revolving loans</td>\n",
              "      <td>M</td>\n",
              "      <td>Y</td>\n",
              "      <td>Y</td>\n",
              "      <td>0</td>\n",
              "      <td>67500.0</td>\n",
              "      <td>135000.0</td>\n",
              "      <td>6750.0</td>\n",
              "      <td>...</td>\n",
              "      <td>0.0</td>\n",
              "      <td>0.0</td>\n",
              "      <td>0.0</td>\n",
              "      <td>0.0</td>\n",
              "      <td>0.0</td>\n",
              "      <td>0.0</td>\n",
              "      <td>0.0</td>\n",
              "      <td>0.0</td>\n",
              "      <td>0.0</td>\n",
              "      <td>0.0</td>\n",
              "    </tr>\n",
              "    <tr>\n",
              "      <th>3</th>\n",
              "      <td>100006</td>\n",
              "      <td>0</td>\n",
              "      <td>Cash loans</td>\n",
              "      <td>F</td>\n",
              "      <td>N</td>\n",
              "      <td>Y</td>\n",
              "      <td>0</td>\n",
              "      <td>135000.0</td>\n",
              "      <td>312682.5</td>\n",
              "      <td>29686.5</td>\n",
              "      <td>...</td>\n",
              "      <td>0.0</td>\n",
              "      <td>0.0</td>\n",
              "      <td>0.0</td>\n",
              "      <td>0.0</td>\n",
              "      <td>NaN</td>\n",
              "      <td>NaN</td>\n",
              "      <td>NaN</td>\n",
              "      <td>NaN</td>\n",
              "      <td>NaN</td>\n",
              "      <td>NaN</td>\n",
              "    </tr>\n",
              "    <tr>\n",
              "      <th>4</th>\n",
              "      <td>100007</td>\n",
              "      <td>0</td>\n",
              "      <td>Cash loans</td>\n",
              "      <td>M</td>\n",
              "      <td>N</td>\n",
              "      <td>Y</td>\n",
              "      <td>0</td>\n",
              "      <td>121500.0</td>\n",
              "      <td>513000.0</td>\n",
              "      <td>21865.5</td>\n",
              "      <td>...</td>\n",
              "      <td>0.0</td>\n",
              "      <td>0.0</td>\n",
              "      <td>0.0</td>\n",
              "      <td>0.0</td>\n",
              "      <td>0.0</td>\n",
              "      <td>0.0</td>\n",
              "      <td>0.0</td>\n",
              "      <td>0.0</td>\n",
              "      <td>0.0</td>\n",
              "      <td>0.0</td>\n",
              "    </tr>\n",
              "  </tbody>\n",
              "</table>\n",
              "<p>5 rows × 122 columns</p>\n",
              "</div>\n",
              "      <button class=\"colab-df-convert\" onclick=\"convertToInteractive('df-c4e163ae-a917-44a1-89ca-62a85e190d3b')\"\n",
              "              title=\"Convert this dataframe to an interactive table.\"\n",
              "              style=\"display:none;\">\n",
              "        \n",
              "  <svg xmlns=\"http://www.w3.org/2000/svg\" height=\"24px\"viewBox=\"0 0 24 24\"\n",
              "       width=\"24px\">\n",
              "    <path d=\"M0 0h24v24H0V0z\" fill=\"none\"/>\n",
              "    <path d=\"M18.56 5.44l.94 2.06.94-2.06 2.06-.94-2.06-.94-.94-2.06-.94 2.06-2.06.94zm-11 1L8.5 8.5l.94-2.06 2.06-.94-2.06-.94L8.5 2.5l-.94 2.06-2.06.94zm10 10l.94 2.06.94-2.06 2.06-.94-2.06-.94-.94-2.06-.94 2.06-2.06.94z\"/><path d=\"M17.41 7.96l-1.37-1.37c-.4-.4-.92-.59-1.43-.59-.52 0-1.04.2-1.43.59L10.3 9.45l-7.72 7.72c-.78.78-.78 2.05 0 2.83L4 21.41c.39.39.9.59 1.41.59.51 0 1.02-.2 1.41-.59l7.78-7.78 2.81-2.81c.8-.78.8-2.07 0-2.86zM5.41 20L4 18.59l7.72-7.72 1.47 1.35L5.41 20z\"/>\n",
              "  </svg>\n",
              "      </button>\n",
              "      \n",
              "  <style>\n",
              "    .colab-df-container {\n",
              "      display:flex;\n",
              "      flex-wrap:wrap;\n",
              "      gap: 12px;\n",
              "    }\n",
              "\n",
              "    .colab-df-convert {\n",
              "      background-color: #E8F0FE;\n",
              "      border: none;\n",
              "      border-radius: 50%;\n",
              "      cursor: pointer;\n",
              "      display: none;\n",
              "      fill: #1967D2;\n",
              "      height: 32px;\n",
              "      padding: 0 0 0 0;\n",
              "      width: 32px;\n",
              "    }\n",
              "\n",
              "    .colab-df-convert:hover {\n",
              "      background-color: #E2EBFA;\n",
              "      box-shadow: 0px 1px 2px rgba(60, 64, 67, 0.3), 0px 1px 3px 1px rgba(60, 64, 67, 0.15);\n",
              "      fill: #174EA6;\n",
              "    }\n",
              "\n",
              "    [theme=dark] .colab-df-convert {\n",
              "      background-color: #3B4455;\n",
              "      fill: #D2E3FC;\n",
              "    }\n",
              "\n",
              "    [theme=dark] .colab-df-convert:hover {\n",
              "      background-color: #434B5C;\n",
              "      box-shadow: 0px 1px 3px 1px rgba(0, 0, 0, 0.15);\n",
              "      filter: drop-shadow(0px 1px 2px rgba(0, 0, 0, 0.3));\n",
              "      fill: #FFFFFF;\n",
              "    }\n",
              "  </style>\n",
              "\n",
              "      <script>\n",
              "        const buttonEl =\n",
              "          document.querySelector('#df-c4e163ae-a917-44a1-89ca-62a85e190d3b button.colab-df-convert');\n",
              "        buttonEl.style.display =\n",
              "          google.colab.kernel.accessAllowed ? 'block' : 'none';\n",
              "\n",
              "        async function convertToInteractive(key) {\n",
              "          const element = document.querySelector('#df-c4e163ae-a917-44a1-89ca-62a85e190d3b');\n",
              "          const dataTable =\n",
              "            await google.colab.kernel.invokeFunction('convertToInteractive',\n",
              "                                                     [key], {});\n",
              "          if (!dataTable) return;\n",
              "\n",
              "          const docLinkHtml = 'Like what you see? Visit the ' +\n",
              "            '<a target=\"_blank\" href=https://colab.research.google.com/notebooks/data_table.ipynb>data table notebook</a>'\n",
              "            + ' to learn more about interactive tables.';\n",
              "          element.innerHTML = '';\n",
              "          dataTable['output_type'] = 'display_data';\n",
              "          await google.colab.output.renderOutput(dataTable, element);\n",
              "          const docLink = document.createElement('div');\n",
              "          docLink.innerHTML = docLinkHtml;\n",
              "          element.appendChild(docLink);\n",
              "        }\n",
              "      </script>\n",
              "    </div>\n",
              "  </div>\n",
              "  "
            ]
          },
          "metadata": {},
          "execution_count": 3
        }
      ]
    },
    {
      "cell_type": "code",
      "source": [
        "#Shape of datafram\n",
        "application_data.shape"
      ],
      "metadata": {
        "id": "3_P6Kz1OiARW",
        "colab": {
          "base_uri": "https://localhost:8080/"
        },
        "outputId": "f0437d58-a27f-43a6-8b8a-4875170808d0"
      },
      "execution_count": null,
      "outputs": [
        {
          "output_type": "execute_result",
          "data": {
            "text/plain": [
              "(19395, 122)"
            ]
          },
          "metadata": {},
          "execution_count": 5
        }
      ]
    },
    {
      "cell_type": "code",
      "source": [
        "#Inspecting null values\n",
        "missing_application_data = application_data.isnull().sum()\n",
        "print(missing_application_data)"
      ],
      "metadata": {
        "id": "anOTXq08iUbu",
        "colab": {
          "base_uri": "https://localhost:8080/"
        },
        "outputId": "b44bfb5d-a6ec-4a14-9406-140552a01d65"
      },
      "execution_count": null,
      "outputs": [
        {
          "output_type": "stream",
          "name": "stdout",
          "text": [
            "SK_ID_CURR                       0\n",
            "TARGET                           0\n",
            "NAME_CONTRACT_TYPE               0\n",
            "CODE_GENDER                      0\n",
            "FLAG_OWN_CAR                     0\n",
            "                              ... \n",
            "AMT_REQ_CREDIT_BUREAU_DAY     2608\n",
            "AMT_REQ_CREDIT_BUREAU_WEEK    2608\n",
            "AMT_REQ_CREDIT_BUREAU_MON     2608\n",
            "AMT_REQ_CREDIT_BUREAU_QRT     2608\n",
            "AMT_REQ_CREDIT_BUREAU_YEAR    2608\n",
            "Length: 122, dtype: int64\n"
          ]
        }
      ]
    },
    {
      "cell_type": "code",
      "source": [
        "#Filtring out columns which has null values greater than 40%\n",
        "column_missing_percent = missing_application_data / len(application_data)\n",
        "columns_to_drop = column_missing_percent[column_missing_percent > 0.4].index.values\n",
        "application_data.drop(columns = columns_to_drop)"
      ],
      "metadata": {
        "colab": {
          "base_uri": "https://localhost:8080/",
          "height": 488
        },
        "id": "USjxI5K1ilXm",
        "outputId": "b62f0d12-8984-48f3-fa57-2b97fbf628af"
      },
      "execution_count": null,
      "outputs": [
        {
          "output_type": "execute_result",
          "data": {
            "text/plain": [
              "       SK_ID_CURR  TARGET NAME_CONTRACT_TYPE CODE_GENDER FLAG_OWN_CAR  \\\n",
              "0          100002       1         Cash loans           M            N   \n",
              "1          100003       0         Cash loans           F            N   \n",
              "2          100004       0    Revolving loans           M            Y   \n",
              "3          100006       0         Cash loans           F            N   \n",
              "4          100007       0         Cash loans           M            N   \n",
              "...           ...     ...                ...         ...          ...   \n",
              "19390      122616       0         Cash loans           F            Y   \n",
              "19391      122618       0         Cash loans           F            N   \n",
              "19392      122619       0         Cash loans           F            N   \n",
              "19393      122620       0    Revolving loans           F            N   \n",
              "19394      122622       0         Cash loans           M            Y   \n",
              "\n",
              "      FLAG_OWN_REALTY  CNT_CHILDREN  AMT_INCOME_TOTAL  AMT_CREDIT  \\\n",
              "0                   Y             0          202500.0    406597.5   \n",
              "1                   N             0          270000.0   1293502.5   \n",
              "2                   Y             0           67500.0    135000.0   \n",
              "3                   Y             0          135000.0    312682.5   \n",
              "4                   Y             0          121500.0    513000.0   \n",
              "...               ...           ...               ...         ...   \n",
              "19390               Y             0          180000.0    237024.0   \n",
              "19391               Y             0          135000.0    781920.0   \n",
              "19392               Y             1           90000.0    454500.0   \n",
              "19393               Y             1           45000.0    135000.0   \n",
              "19394               Y             1          157500.0    900000.0   \n",
              "\n",
              "       AMT_ANNUITY  ...  FLAG_DOCUMENT_18 FLAG_DOCUMENT_19 FLAG_DOCUMENT_20  \\\n",
              "0          24700.5  ...               0.0              0.0              0.0   \n",
              "1          35698.5  ...               0.0              0.0              0.0   \n",
              "2           6750.0  ...               0.0              0.0              0.0   \n",
              "3          29686.5  ...               0.0              0.0              0.0   \n",
              "4          21865.5  ...               0.0              0.0              0.0   \n",
              "...            ...  ...               ...              ...              ...   \n",
              "19390      12231.0  ...               0.0              0.0              0.0   \n",
              "19391      25969.5  ...               0.0              0.0              0.0   \n",
              "19392      19237.5  ...               0.0              0.0              0.0   \n",
              "19393       6750.0  ...               0.0              0.0              0.0   \n",
              "19394      26446.5  ...               NaN              NaN              NaN   \n",
              "\n",
              "      FLAG_DOCUMENT_21 AMT_REQ_CREDIT_BUREAU_HOUR AMT_REQ_CREDIT_BUREAU_DAY  \\\n",
              "0                  0.0                        0.0                       0.0   \n",
              "1                  0.0                        0.0                       0.0   \n",
              "2                  0.0                        0.0                       0.0   \n",
              "3                  0.0                        NaN                       NaN   \n",
              "4                  0.0                        0.0                       0.0   \n",
              "...                ...                        ...                       ...   \n",
              "19390              0.0                        0.0                       0.0   \n",
              "19391              0.0                        0.0                       0.0   \n",
              "19392              0.0                        NaN                       NaN   \n",
              "19393              0.0                        0.0                       0.0   \n",
              "19394              NaN                        NaN                       NaN   \n",
              "\n",
              "       AMT_REQ_CREDIT_BUREAU_WEEK  AMT_REQ_CREDIT_BUREAU_MON  \\\n",
              "0                             0.0                        0.0   \n",
              "1                             0.0                        0.0   \n",
              "2                             0.0                        0.0   \n",
              "3                             NaN                        NaN   \n",
              "4                             0.0                        0.0   \n",
              "...                           ...                        ...   \n",
              "19390                         0.0                        1.0   \n",
              "19391                         0.0                        0.0   \n",
              "19392                         NaN                        NaN   \n",
              "19393                         0.0                        0.0   \n",
              "19394                         NaN                        NaN   \n",
              "\n",
              "       AMT_REQ_CREDIT_BUREAU_QRT  AMT_REQ_CREDIT_BUREAU_YEAR  \n",
              "0                            0.0                         1.0  \n",
              "1                            0.0                         0.0  \n",
              "2                            0.0                         0.0  \n",
              "3                            NaN                         NaN  \n",
              "4                            0.0                         0.0  \n",
              "...                          ...                         ...  \n",
              "19390                        0.0                         3.0  \n",
              "19391                        0.0                         1.0  \n",
              "19392                        NaN                         NaN  \n",
              "19393                        0.0                         0.0  \n",
              "19394                        NaN                         NaN  \n",
              "\n",
              "[19395 rows x 73 columns]"
            ],
            "text/html": [
              "\n",
              "  <div id=\"df-13766076-c499-4b92-b8ff-24a919d03ac2\">\n",
              "    <div class=\"colab-df-container\">\n",
              "      <div>\n",
              "<style scoped>\n",
              "    .dataframe tbody tr th:only-of-type {\n",
              "        vertical-align: middle;\n",
              "    }\n",
              "\n",
              "    .dataframe tbody tr th {\n",
              "        vertical-align: top;\n",
              "    }\n",
              "\n",
              "    .dataframe thead th {\n",
              "        text-align: right;\n",
              "    }\n",
              "</style>\n",
              "<table border=\"1\" class=\"dataframe\">\n",
              "  <thead>\n",
              "    <tr style=\"text-align: right;\">\n",
              "      <th></th>\n",
              "      <th>SK_ID_CURR</th>\n",
              "      <th>TARGET</th>\n",
              "      <th>NAME_CONTRACT_TYPE</th>\n",
              "      <th>CODE_GENDER</th>\n",
              "      <th>FLAG_OWN_CAR</th>\n",
              "      <th>FLAG_OWN_REALTY</th>\n",
              "      <th>CNT_CHILDREN</th>\n",
              "      <th>AMT_INCOME_TOTAL</th>\n",
              "      <th>AMT_CREDIT</th>\n",
              "      <th>AMT_ANNUITY</th>\n",
              "      <th>...</th>\n",
              "      <th>FLAG_DOCUMENT_18</th>\n",
              "      <th>FLAG_DOCUMENT_19</th>\n",
              "      <th>FLAG_DOCUMENT_20</th>\n",
              "      <th>FLAG_DOCUMENT_21</th>\n",
              "      <th>AMT_REQ_CREDIT_BUREAU_HOUR</th>\n",
              "      <th>AMT_REQ_CREDIT_BUREAU_DAY</th>\n",
              "      <th>AMT_REQ_CREDIT_BUREAU_WEEK</th>\n",
              "      <th>AMT_REQ_CREDIT_BUREAU_MON</th>\n",
              "      <th>AMT_REQ_CREDIT_BUREAU_QRT</th>\n",
              "      <th>AMT_REQ_CREDIT_BUREAU_YEAR</th>\n",
              "    </tr>\n",
              "  </thead>\n",
              "  <tbody>\n",
              "    <tr>\n",
              "      <th>0</th>\n",
              "      <td>100002</td>\n",
              "      <td>1</td>\n",
              "      <td>Cash loans</td>\n",
              "      <td>M</td>\n",
              "      <td>N</td>\n",
              "      <td>Y</td>\n",
              "      <td>0</td>\n",
              "      <td>202500.0</td>\n",
              "      <td>406597.5</td>\n",
              "      <td>24700.5</td>\n",
              "      <td>...</td>\n",
              "      <td>0.0</td>\n",
              "      <td>0.0</td>\n",
              "      <td>0.0</td>\n",
              "      <td>0.0</td>\n",
              "      <td>0.0</td>\n",
              "      <td>0.0</td>\n",
              "      <td>0.0</td>\n",
              "      <td>0.0</td>\n",
              "      <td>0.0</td>\n",
              "      <td>1.0</td>\n",
              "    </tr>\n",
              "    <tr>\n",
              "      <th>1</th>\n",
              "      <td>100003</td>\n",
              "      <td>0</td>\n",
              "      <td>Cash loans</td>\n",
              "      <td>F</td>\n",
              "      <td>N</td>\n",
              "      <td>N</td>\n",
              "      <td>0</td>\n",
              "      <td>270000.0</td>\n",
              "      <td>1293502.5</td>\n",
              "      <td>35698.5</td>\n",
              "      <td>...</td>\n",
              "      <td>0.0</td>\n",
              "      <td>0.0</td>\n",
              "      <td>0.0</td>\n",
              "      <td>0.0</td>\n",
              "      <td>0.0</td>\n",
              "      <td>0.0</td>\n",
              "      <td>0.0</td>\n",
              "      <td>0.0</td>\n",
              "      <td>0.0</td>\n",
              "      <td>0.0</td>\n",
              "    </tr>\n",
              "    <tr>\n",
              "      <th>2</th>\n",
              "      <td>100004</td>\n",
              "      <td>0</td>\n",
              "      <td>Revolving loans</td>\n",
              "      <td>M</td>\n",
              "      <td>Y</td>\n",
              "      <td>Y</td>\n",
              "      <td>0</td>\n",
              "      <td>67500.0</td>\n",
              "      <td>135000.0</td>\n",
              "      <td>6750.0</td>\n",
              "      <td>...</td>\n",
              "      <td>0.0</td>\n",
              "      <td>0.0</td>\n",
              "      <td>0.0</td>\n",
              "      <td>0.0</td>\n",
              "      <td>0.0</td>\n",
              "      <td>0.0</td>\n",
              "      <td>0.0</td>\n",
              "      <td>0.0</td>\n",
              "      <td>0.0</td>\n",
              "      <td>0.0</td>\n",
              "    </tr>\n",
              "    <tr>\n",
              "      <th>3</th>\n",
              "      <td>100006</td>\n",
              "      <td>0</td>\n",
              "      <td>Cash loans</td>\n",
              "      <td>F</td>\n",
              "      <td>N</td>\n",
              "      <td>Y</td>\n",
              "      <td>0</td>\n",
              "      <td>135000.0</td>\n",
              "      <td>312682.5</td>\n",
              "      <td>29686.5</td>\n",
              "      <td>...</td>\n",
              "      <td>0.0</td>\n",
              "      <td>0.0</td>\n",
              "      <td>0.0</td>\n",
              "      <td>0.0</td>\n",
              "      <td>NaN</td>\n",
              "      <td>NaN</td>\n",
              "      <td>NaN</td>\n",
              "      <td>NaN</td>\n",
              "      <td>NaN</td>\n",
              "      <td>NaN</td>\n",
              "    </tr>\n",
              "    <tr>\n",
              "      <th>4</th>\n",
              "      <td>100007</td>\n",
              "      <td>0</td>\n",
              "      <td>Cash loans</td>\n",
              "      <td>M</td>\n",
              "      <td>N</td>\n",
              "      <td>Y</td>\n",
              "      <td>0</td>\n",
              "      <td>121500.0</td>\n",
              "      <td>513000.0</td>\n",
              "      <td>21865.5</td>\n",
              "      <td>...</td>\n",
              "      <td>0.0</td>\n",
              "      <td>0.0</td>\n",
              "      <td>0.0</td>\n",
              "      <td>0.0</td>\n",
              "      <td>0.0</td>\n",
              "      <td>0.0</td>\n",
              "      <td>0.0</td>\n",
              "      <td>0.0</td>\n",
              "      <td>0.0</td>\n",
              "      <td>0.0</td>\n",
              "    </tr>\n",
              "    <tr>\n",
              "      <th>...</th>\n",
              "      <td>...</td>\n",
              "      <td>...</td>\n",
              "      <td>...</td>\n",
              "      <td>...</td>\n",
              "      <td>...</td>\n",
              "      <td>...</td>\n",
              "      <td>...</td>\n",
              "      <td>...</td>\n",
              "      <td>...</td>\n",
              "      <td>...</td>\n",
              "      <td>...</td>\n",
              "      <td>...</td>\n",
              "      <td>...</td>\n",
              "      <td>...</td>\n",
              "      <td>...</td>\n",
              "      <td>...</td>\n",
              "      <td>...</td>\n",
              "      <td>...</td>\n",
              "      <td>...</td>\n",
              "      <td>...</td>\n",
              "      <td>...</td>\n",
              "    </tr>\n",
              "    <tr>\n",
              "      <th>19390</th>\n",
              "      <td>122616</td>\n",
              "      <td>0</td>\n",
              "      <td>Cash loans</td>\n",
              "      <td>F</td>\n",
              "      <td>Y</td>\n",
              "      <td>Y</td>\n",
              "      <td>0</td>\n",
              "      <td>180000.0</td>\n",
              "      <td>237024.0</td>\n",
              "      <td>12231.0</td>\n",
              "      <td>...</td>\n",
              "      <td>0.0</td>\n",
              "      <td>0.0</td>\n",
              "      <td>0.0</td>\n",
              "      <td>0.0</td>\n",
              "      <td>0.0</td>\n",
              "      <td>0.0</td>\n",
              "      <td>0.0</td>\n",
              "      <td>1.0</td>\n",
              "      <td>0.0</td>\n",
              "      <td>3.0</td>\n",
              "    </tr>\n",
              "    <tr>\n",
              "      <th>19391</th>\n",
              "      <td>122618</td>\n",
              "      <td>0</td>\n",
              "      <td>Cash loans</td>\n",
              "      <td>F</td>\n",
              "      <td>N</td>\n",
              "      <td>Y</td>\n",
              "      <td>0</td>\n",
              "      <td>135000.0</td>\n",
              "      <td>781920.0</td>\n",
              "      <td>25969.5</td>\n",
              "      <td>...</td>\n",
              "      <td>0.0</td>\n",
              "      <td>0.0</td>\n",
              "      <td>0.0</td>\n",
              "      <td>0.0</td>\n",
              "      <td>0.0</td>\n",
              "      <td>0.0</td>\n",
              "      <td>0.0</td>\n",
              "      <td>0.0</td>\n",
              "      <td>0.0</td>\n",
              "      <td>1.0</td>\n",
              "    </tr>\n",
              "    <tr>\n",
              "      <th>19392</th>\n",
              "      <td>122619</td>\n",
              "      <td>0</td>\n",
              "      <td>Cash loans</td>\n",
              "      <td>F</td>\n",
              "      <td>N</td>\n",
              "      <td>Y</td>\n",
              "      <td>1</td>\n",
              "      <td>90000.0</td>\n",
              "      <td>454500.0</td>\n",
              "      <td>19237.5</td>\n",
              "      <td>...</td>\n",
              "      <td>0.0</td>\n",
              "      <td>0.0</td>\n",
              "      <td>0.0</td>\n",
              "      <td>0.0</td>\n",
              "      <td>NaN</td>\n",
              "      <td>NaN</td>\n",
              "      <td>NaN</td>\n",
              "      <td>NaN</td>\n",
              "      <td>NaN</td>\n",
              "      <td>NaN</td>\n",
              "    </tr>\n",
              "    <tr>\n",
              "      <th>19393</th>\n",
              "      <td>122620</td>\n",
              "      <td>0</td>\n",
              "      <td>Revolving loans</td>\n",
              "      <td>F</td>\n",
              "      <td>N</td>\n",
              "      <td>Y</td>\n",
              "      <td>1</td>\n",
              "      <td>45000.0</td>\n",
              "      <td>135000.0</td>\n",
              "      <td>6750.0</td>\n",
              "      <td>...</td>\n",
              "      <td>0.0</td>\n",
              "      <td>0.0</td>\n",
              "      <td>0.0</td>\n",
              "      <td>0.0</td>\n",
              "      <td>0.0</td>\n",
              "      <td>0.0</td>\n",
              "      <td>0.0</td>\n",
              "      <td>0.0</td>\n",
              "      <td>0.0</td>\n",
              "      <td>0.0</td>\n",
              "    </tr>\n",
              "    <tr>\n",
              "      <th>19394</th>\n",
              "      <td>122622</td>\n",
              "      <td>0</td>\n",
              "      <td>Cash loans</td>\n",
              "      <td>M</td>\n",
              "      <td>Y</td>\n",
              "      <td>Y</td>\n",
              "      <td>1</td>\n",
              "      <td>157500.0</td>\n",
              "      <td>900000.0</td>\n",
              "      <td>26446.5</td>\n",
              "      <td>...</td>\n",
              "      <td>NaN</td>\n",
              "      <td>NaN</td>\n",
              "      <td>NaN</td>\n",
              "      <td>NaN</td>\n",
              "      <td>NaN</td>\n",
              "      <td>NaN</td>\n",
              "      <td>NaN</td>\n",
              "      <td>NaN</td>\n",
              "      <td>NaN</td>\n",
              "      <td>NaN</td>\n",
              "    </tr>\n",
              "  </tbody>\n",
              "</table>\n",
              "<p>19395 rows × 73 columns</p>\n",
              "</div>\n",
              "      <button class=\"colab-df-convert\" onclick=\"convertToInteractive('df-13766076-c499-4b92-b8ff-24a919d03ac2')\"\n",
              "              title=\"Convert this dataframe to an interactive table.\"\n",
              "              style=\"display:none;\">\n",
              "        \n",
              "  <svg xmlns=\"http://www.w3.org/2000/svg\" height=\"24px\"viewBox=\"0 0 24 24\"\n",
              "       width=\"24px\">\n",
              "    <path d=\"M0 0h24v24H0V0z\" fill=\"none\"/>\n",
              "    <path d=\"M18.56 5.44l.94 2.06.94-2.06 2.06-.94-2.06-.94-.94-2.06-.94 2.06-2.06.94zm-11 1L8.5 8.5l.94-2.06 2.06-.94-2.06-.94L8.5 2.5l-.94 2.06-2.06.94zm10 10l.94 2.06.94-2.06 2.06-.94-2.06-.94-.94-2.06-.94 2.06-2.06.94z\"/><path d=\"M17.41 7.96l-1.37-1.37c-.4-.4-.92-.59-1.43-.59-.52 0-1.04.2-1.43.59L10.3 9.45l-7.72 7.72c-.78.78-.78 2.05 0 2.83L4 21.41c.39.39.9.59 1.41.59.51 0 1.02-.2 1.41-.59l7.78-7.78 2.81-2.81c.8-.78.8-2.07 0-2.86zM5.41 20L4 18.59l7.72-7.72 1.47 1.35L5.41 20z\"/>\n",
              "  </svg>\n",
              "      </button>\n",
              "      \n",
              "  <style>\n",
              "    .colab-df-container {\n",
              "      display:flex;\n",
              "      flex-wrap:wrap;\n",
              "      gap: 12px;\n",
              "    }\n",
              "\n",
              "    .colab-df-convert {\n",
              "      background-color: #E8F0FE;\n",
              "      border: none;\n",
              "      border-radius: 50%;\n",
              "      cursor: pointer;\n",
              "      display: none;\n",
              "      fill: #1967D2;\n",
              "      height: 32px;\n",
              "      padding: 0 0 0 0;\n",
              "      width: 32px;\n",
              "    }\n",
              "\n",
              "    .colab-df-convert:hover {\n",
              "      background-color: #E2EBFA;\n",
              "      box-shadow: 0px 1px 2px rgba(60, 64, 67, 0.3), 0px 1px 3px 1px rgba(60, 64, 67, 0.15);\n",
              "      fill: #174EA6;\n",
              "    }\n",
              "\n",
              "    [theme=dark] .colab-df-convert {\n",
              "      background-color: #3B4455;\n",
              "      fill: #D2E3FC;\n",
              "    }\n",
              "\n",
              "    [theme=dark] .colab-df-convert:hover {\n",
              "      background-color: #434B5C;\n",
              "      box-shadow: 0px 1px 3px 1px rgba(0, 0, 0, 0.15);\n",
              "      filter: drop-shadow(0px 1px 2px rgba(0, 0, 0, 0.3));\n",
              "      fill: #FFFFFF;\n",
              "    }\n",
              "  </style>\n",
              "\n",
              "      <script>\n",
              "        const buttonEl =\n",
              "          document.querySelector('#df-13766076-c499-4b92-b8ff-24a919d03ac2 button.colab-df-convert');\n",
              "        buttonEl.style.display =\n",
              "          google.colab.kernel.accessAllowed ? 'block' : 'none';\n",
              "\n",
              "        async function convertToInteractive(key) {\n",
              "          const element = document.querySelector('#df-13766076-c499-4b92-b8ff-24a919d03ac2');\n",
              "          const dataTable =\n",
              "            await google.colab.kernel.invokeFunction('convertToInteractive',\n",
              "                                                     [key], {});\n",
              "          if (!dataTable) return;\n",
              "\n",
              "          const docLinkHtml = 'Like what you see? Visit the ' +\n",
              "            '<a target=\"_blank\" href=https://colab.research.google.com/notebooks/data_table.ipynb>data table notebook</a>'\n",
              "            + ' to learn more about interactive tables.';\n",
              "          element.innerHTML = '';\n",
              "          dataTable['output_type'] = 'display_data';\n",
              "          await google.colab.output.renderOutput(dataTable, element);\n",
              "          const docLink = document.createElement('div');\n",
              "          docLink.innerHTML = docLinkHtml;\n",
              "          element.appendChild(docLink);\n",
              "        }\n",
              "      </script>\n",
              "    </div>\n",
              "  </div>\n",
              "  "
            ]
          },
          "metadata": {},
          "execution_count": 7
        }
      ]
    },
    {
      "cell_type": "code",
      "source": [
        "#columns in which missing value is less than 15%\n",
        "column_missing_percent = missing_application_data / len(application_data)\n",
        "columns = column_missing_percent[column_missing_percent < 0.15].index.values\n",
        "columns"
      ],
      "metadata": {
        "colab": {
          "base_uri": "https://localhost:8080/"
        },
        "id": "6Cby1lqk0vXE",
        "outputId": "01b8f054-4e57-4a60-8eb3-49abc090ee83"
      },
      "execution_count": null,
      "outputs": [
        {
          "output_type": "execute_result",
          "data": {
            "text/plain": [
              "array(['SK_ID_CURR', 'TARGET', 'NAME_CONTRACT_TYPE', 'CODE_GENDER',\n",
              "       'FLAG_OWN_CAR', 'FLAG_OWN_REALTY', 'CNT_CHILDREN',\n",
              "       'AMT_INCOME_TOTAL', 'AMT_CREDIT', 'AMT_ANNUITY', 'AMT_GOODS_PRICE',\n",
              "       'NAME_TYPE_SUITE', 'NAME_INCOME_TYPE', 'NAME_EDUCATION_TYPE',\n",
              "       'NAME_FAMILY_STATUS', 'NAME_HOUSING_TYPE',\n",
              "       'REGION_POPULATION_RELATIVE', 'DAYS_BIRTH', 'DAYS_EMPLOYED',\n",
              "       'DAYS_REGISTRATION', 'DAYS_ID_PUBLISH', 'FLAG_MOBIL',\n",
              "       'FLAG_EMP_PHONE', 'FLAG_WORK_PHONE', 'FLAG_CONT_MOBILE',\n",
              "       'FLAG_PHONE', 'FLAG_EMAIL', 'CNT_FAM_MEMBERS',\n",
              "       'REGION_RATING_CLIENT', 'REGION_RATING_CLIENT_W_CITY',\n",
              "       'WEEKDAY_APPR_PROCESS_START', 'HOUR_APPR_PROCESS_START',\n",
              "       'REG_REGION_NOT_LIVE_REGION', 'REG_REGION_NOT_WORK_REGION',\n",
              "       'LIVE_REGION_NOT_WORK_REGION', 'REG_CITY_NOT_LIVE_CITY',\n",
              "       'REG_CITY_NOT_WORK_CITY', 'LIVE_CITY_NOT_WORK_CITY',\n",
              "       'ORGANIZATION_TYPE', 'EXT_SOURCE_2', 'OBS_30_CNT_SOCIAL_CIRCLE',\n",
              "       'DEF_30_CNT_SOCIAL_CIRCLE', 'OBS_60_CNT_SOCIAL_CIRCLE',\n",
              "       'DEF_60_CNT_SOCIAL_CIRCLE', 'DAYS_LAST_PHONE_CHANGE',\n",
              "       'FLAG_DOCUMENT_2', 'FLAG_DOCUMENT_3', 'FLAG_DOCUMENT_4',\n",
              "       'FLAG_DOCUMENT_5', 'FLAG_DOCUMENT_6', 'FLAG_DOCUMENT_7',\n",
              "       'FLAG_DOCUMENT_8', 'FLAG_DOCUMENT_9', 'FLAG_DOCUMENT_10',\n",
              "       'FLAG_DOCUMENT_11', 'FLAG_DOCUMENT_12', 'FLAG_DOCUMENT_13',\n",
              "       'FLAG_DOCUMENT_14', 'FLAG_DOCUMENT_15', 'FLAG_DOCUMENT_16',\n",
              "       'FLAG_DOCUMENT_17', 'FLAG_DOCUMENT_18', 'FLAG_DOCUMENT_19',\n",
              "       'FLAG_DOCUMENT_20', 'FLAG_DOCUMENT_21',\n",
              "       'AMT_REQ_CREDIT_BUREAU_HOUR', 'AMT_REQ_CREDIT_BUREAU_DAY',\n",
              "       'AMT_REQ_CREDIT_BUREAU_WEEK', 'AMT_REQ_CREDIT_BUREAU_MON',\n",
              "       'AMT_REQ_CREDIT_BUREAU_QRT', 'AMT_REQ_CREDIT_BUREAU_YEAR'],\n",
              "      dtype=object)"
            ]
          },
          "metadata": {},
          "execution_count": 9
        }
      ]
    },
    {
      "cell_type": "code",
      "source": [
        "#Checking out number of nulls in loan amount\n",
        "rows_to_drop = application_data[application_data['AMT_ANNUITY'].isnull()].index\n",
        "#Result shows there are 8 rows having amt_annuity as null.\n",
        "\n",
        "#Dropping these rows\n",
        "application_data.drop(rows_to_drop, inplace=True)"
      ],
      "metadata": {
        "id": "oiEC6DdTk--W"
      },
      "execution_count": null,
      "outputs": []
    },
    {
      "cell_type": "code",
      "source": [
        "#Imputing amt_income_total with the mean of the column data\n",
        "application_data['AMT_INCOME_TOTAL'] = application_data['AMT_INCOME_TOTAL'].fillna(application_data['AMT_INCOME_TOTAL'].mean())\n",
        "#Imputing flag_own_car with the mode of the column data\n",
        "application_data['FLAG_OWN_CAR'] = application_data['FLAG_OWN_CAR'].fillna(application_data['FLAG_OWN_CAR'].mode())\n"
      ],
      "metadata": {
        "id": "03RtAHGK2XBt"
      },
      "execution_count": null,
      "outputs": []
    },
    {
      "cell_type": "code",
      "source": [
        "#Statistics for the amt_annuity\n",
        "\n",
        "#Mean\n",
        "print(\"Mean : \", application_data['AMT_ANNUITY'].mean())\n",
        "\n",
        "#Median\n",
        "print(\"Median : \", application_data['AMT_ANNUITY'].median())\n"
      ],
      "metadata": {
        "colab": {
          "base_uri": "https://localhost:8080/"
        },
        "id": "69Z3XY2BmuUP",
        "outputId": "a8e33588-9811-4197-df02-e925dfaec56f"
      },
      "execution_count": null,
      "outputs": [
        {
          "output_type": "stream",
          "name": "stdout",
          "text": [
            "Mean :  27108.573909183444\n",
            "Median :  24903.0\n"
          ]
        }
      ]
    },
    {
      "cell_type": "code",
      "source": [
        "sns.histplot(data=application_data, x=\"AMT_ANNUITY\")"
      ],
      "metadata": {
        "colab": {
          "base_uri": "https://localhost:8080/",
          "height": 297
        },
        "id": "ZopvXe5-okD5",
        "outputId": "c5a57990-b7b9-4ce3-fde5-896ee960985c"
      },
      "execution_count": null,
      "outputs": [
        {
          "output_type": "execute_result",
          "data": {
            "text/plain": [
              "<matplotlib.axes._subplots.AxesSubplot at 0x7f82ce687550>"
            ]
          },
          "metadata": {},
          "execution_count": 109
        },
        {
          "output_type": "display_data",
          "data": {
            "text/plain": [
              "<Figure size 432x288 with 1 Axes>"
            ],
            "image/png": "[encoded data removed]"
          },
          "metadata": {
            "needs_background": "light"
          }
        }
      ]
    },
    {
      "cell_type": "code",
      "source": [
        "#Find out maximum AMT_ANNUITY\n",
        "application_data['AMT_ANNUITY'].max()\n",
        "#From the above graph, it can be verified that it is a long tail distribution\n",
        "#with max AMT_ANNUITY as 258025.2"
      ],
      "metadata": {
        "colab": {
          "base_uri": "https://localhost:8080/"
        },
        "id": "1qrAqlxLo2sf",
        "outputId": "7187ddbc-bded-4f85-a5c2-081200ae53ee"
      },
      "execution_count": null,
      "outputs": [
        {
          "output_type": "execute_result",
          "data": {
            "text/plain": [
              "258025.5"
            ]
          },
          "metadata": {},
          "execution_count": 110
        }
      ]
    },
    {
      "cell_type": "code",
      "source": [
        "#Boxplot for AMT_ANNUITY\n",
        "sns.boxplot(application_data['AMT_ANNUITY'])\n",
        "#There seems to have outliers in the right"
      ],
      "metadata": {
        "colab": {
          "base_uri": "https://localhost:8080/",
          "height": 352
        },
        "id": "qe3uYPjAqCLy",
        "outputId": "a82c02ab-c7fc-4e04-e8a6-499e8e6b2954"
      },
      "execution_count": null,
      "outputs": [
        {
          "output_type": "stream",
          "name": "stderr",
          "text": [
            "/usr/local/lib/python3.7/dist-packages/seaborn/_decorators.py:43: FutureWarning: Pass the following variable as a keyword arg: x. From version 0.12, the only valid positional argument will be `data`, and passing other arguments without an explicit keyword will result in an error or misinterpretation.\n",
            "  FutureWarning\n"
          ]
        },
        {
          "output_type": "execute_result",
          "data": {
            "text/plain": [
              "<matplotlib.axes._subplots.AxesSubplot at 0x7f82ca872210>"
            ]
          },
          "metadata": {},
          "execution_count": 111
        },
        {
          "output_type": "display_data",
          "data": {
            "text/plain": [
              "<Figure size 432x288 with 1 Axes>"
            ],
            "image/png": "[encoded data removed]"
          },
          "metadata": {
            "needs_background": "light"
          }
        }
      ]
    },
    {
      "cell_type": "code",
      "source": [
        "#Finding the number of outliers\n",
        "q1 = application_data['AMT_ANNUITY'].quantile(0.25)\n",
        "q3 = application_data['AMT_ANNUITY'].quantile(0.75)\n",
        "iqr = q3 - q1\n",
        "iqr\n",
        "#IQR for AMT_ANNUITY is 18090.\n",
        "\n",
        "#Finding outliers\n",
        "outlier_count = ((application_data['AMT_ANNUITY'] < (q1 - 1.5 * iqr)) | (application_data['AMT_ANNUITY'] > (q3 + 1.5 * iqr))).sum()\n",
        "#There are 4126 data points which can be considered as outliers\n",
        "\n",
        "#Calculation outlier as percentage\n",
        "(outlier_count / len(application_data))*100\n",
        "#2.4% of data for amt_annuity is outlier.\n",
        "#Since outlier lies to the right of the data, therefore mean is greater than median.\n",
        "#Median gives us a true picture because unlike mean, median does not get affected by outliers."
      ],
      "metadata": {
        "colab": {
          "base_uri": "https://localhost:8080/"
        },
        "id": "lmFFFxc8qcAZ",
        "outputId": "820f0a8d-d99a-41a6-ad46-cc36a497c0bb"
      },
      "execution_count": null,
      "outputs": [
        {
          "output_type": "execute_result",
          "data": {
            "text/plain": [
              "2.3872131992781647"
            ]
          },
          "metadata": {},
          "execution_count": 28
        }
      ]
    },
    {
      "cell_type": "code",
      "source": [
        "#Outliers for AMT_CREDIT\n",
        "#Boxplot for AMT_CREDIT\n",
        "sns.boxplot(application_data['AMT_CREDIT'])\n",
        "#There seems to have outliers in the right"
      ],
      "metadata": {
        "colab": {
          "base_uri": "https://localhost:8080/",
          "height": 352
        },
        "id": "krsBfZsS3uEy",
        "outputId": "8fa7f65d-8f1a-43c9-8a29-e32a3e629983"
      },
      "execution_count": null,
      "outputs": [
        {
          "output_type": "stream",
          "name": "stderr",
          "text": [
            "/usr/local/lib/python3.7/dist-packages/seaborn/_decorators.py:43: FutureWarning: Pass the following variable as a keyword arg: x. From version 0.12, the only valid positional argument will be `data`, and passing other arguments without an explicit keyword will result in an error or misinterpretation.\n",
            "  FutureWarning\n"
          ]
        },
        {
          "output_type": "execute_result",
          "data": {
            "text/plain": [
              "<matplotlib.axes._subplots.AxesSubplot at 0x7f4441c2ed50>"
            ]
          },
          "metadata": {},
          "execution_count": 14
        },
        {
          "output_type": "display_data",
          "data": {
            "text/plain": [
              "<Figure size 432x288 with 1 Axes>"
            ],
            "image/png": "[encoded data removed]"
          },
          "metadata": {
            "needs_background": "light"
          }
        }
      ]
    },
    {
      "cell_type": "code",
      "source": [
        "#Outliers for AMT_INCOME_TOTAL\n",
        "#Boxplot for AMT_INCOME_TOTAL\n",
        "sns.boxplot(application_data['AMT_INCOME_TOTAL'])\n",
        "#There seems to have outliers in the right"
      ],
      "metadata": {
        "colab": {
          "base_uri": "https://localhost:8080/",
          "height": 352
        },
        "id": "GXBXE9La4FL4",
        "outputId": "b7effea4-f623-4071-c134-f64afaab826d"
      },
      "execution_count": null,
      "outputs": [
        {
          "output_type": "stream",
          "name": "stderr",
          "text": [
            "/usr/local/lib/python3.7/dist-packages/seaborn/_decorators.py:43: FutureWarning: Pass the following variable as a keyword arg: x. From version 0.12, the only valid positional argument will be `data`, and passing other arguments without an explicit keyword will result in an error or misinterpretation.\n",
            "  FutureWarning\n"
          ]
        },
        {
          "output_type": "execute_result",
          "data": {
            "text/plain": [
              "<matplotlib.axes._subplots.AxesSubplot at 0x7f4441a6ae50>"
            ]
          },
          "metadata": {},
          "execution_count": 15
        },
        {
          "output_type": "display_data",
          "data": {
            "text/plain": [
              "<Figure size 432x288 with 1 Axes>"
            ],
            "image/png": "[encoded data removed]"
          },
          "metadata": {
            "needs_background": "light"
          }
        }
      ]
    },
    {
      "cell_type": "code",
      "source": [
        "#Outliers for AMT_GOODS_PRICE\n",
        "#Boxplot for AMT_GOODS_PRICE\n",
        "sns.boxplot(application_data['AMT_GOODS_PRICE'])\n",
        "#There seems to have outliers in the right"
      ],
      "metadata": {
        "colab": {
          "base_uri": "https://localhost:8080/",
          "height": 352
        },
        "id": "LfsvvESP4WYW",
        "outputId": "13f452af-1987-4ec0-8d85-6025e69a1eb0"
      },
      "execution_count": null,
      "outputs": [
        {
          "output_type": "stream",
          "name": "stderr",
          "text": [
            "/usr/local/lib/python3.7/dist-packages/seaborn/_decorators.py:43: FutureWarning: Pass the following variable as a keyword arg: x. From version 0.12, the only valid positional argument will be `data`, and passing other arguments without an explicit keyword will result in an error or misinterpretation.\n",
            "  FutureWarning\n"
          ]
        },
        {
          "output_type": "execute_result",
          "data": {
            "text/plain": [
              "<matplotlib.axes._subplots.AxesSubplot at 0x7f444159af90>"
            ]
          },
          "metadata": {},
          "execution_count": 16
        },
        {
          "output_type": "display_data",
          "data": {
            "text/plain": [
              "<Figure size 432x288 with 1 Axes>"
            ],
            "image/png": "[encoded data removed]"
          },
          "metadata": {
            "needs_background": "light"
          }
        }
      ]
    },
    {
      "cell_type": "code",
      "source": [
        "#Checking number of nulls in Target\n",
        "application_data[application_data['TARGET'].isnull()]\n",
        "\n",
        "#No nulls in target, hence nothing to drop"
      ],
      "metadata": {
        "colab": {
          "base_uri": "https://localhost:8080/",
          "height": 143
        },
        "id": "zghFBdHIpm3i",
        "outputId": "77d26a68-96dd-4530-9019-5e50cad11c9e"
      },
      "execution_count": null,
      "outputs": [
        {
          "output_type": "execute_result",
          "data": {
            "text/plain": [
              "Empty DataFrame\n",
              "Columns: [SK_ID_CURR, TARGET, NAME_CONTRACT_TYPE, CODE_GENDER, FLAG_OWN_CAR, FLAG_OWN_REALTY, CNT_CHILDREN, AMT_INCOME_TOTAL, AMT_CREDIT, AMT_ANNUITY, AMT_GOODS_PRICE, NAME_TYPE_SUITE, NAME_INCOME_TYPE, NAME_EDUCATION_TYPE, NAME_FAMILY_STATUS, NAME_HOUSING_TYPE, REGION_POPULATION_RELATIVE, DAYS_BIRTH, DAYS_EMPLOYED, DAYS_REGISTRATION, DAYS_ID_PUBLISH, OWN_CAR_AGE, FLAG_MOBIL, FLAG_EMP_PHONE, FLAG_WORK_PHONE, FLAG_CONT_MOBILE, FLAG_PHONE, FLAG_EMAIL, OCCUPATION_TYPE, CNT_FAM_MEMBERS, REGION_RATING_CLIENT, REGION_RATING_CLIENT_W_CITY, WEEKDAY_APPR_PROCESS_START, HOUR_APPR_PROCESS_START, REG_REGION_NOT_LIVE_REGION, REG_REGION_NOT_WORK_REGION, LIVE_REGION_NOT_WORK_REGION, REG_CITY_NOT_LIVE_CITY, REG_CITY_NOT_WORK_CITY, LIVE_CITY_NOT_WORK_CITY, ORGANIZATION_TYPE, EXT_SOURCE_1, EXT_SOURCE_2, EXT_SOURCE_3, APARTMENTS_AVG, BASEMENTAREA_AVG, YEARS_BEGINEXPLUATATION_AVG, YEARS_BUILD_AVG, COMMONAREA_AVG, ELEVATORS_AVG, ENTRANCES_AVG, FLOORSMAX_AVG, FLOORSMIN_AVG, LANDAREA_AVG, LIVINGAPARTMENTS_AVG, LIVINGAREA_AVG, NONLIVINGAPARTMENTS_AVG, NONLIVINGAREA_AVG, APARTMENTS_MODE, BASEMENTAREA_MODE, YEARS_BEGINEXPLUATATION_MODE, YEARS_BUILD_MODE, COMMONAREA_MODE, ELEVATORS_MODE, ENTRANCES_MODE, FLOORSMAX_MODE, FLOORSMIN_MODE, LANDAREA_MODE, LIVINGAPARTMENTS_MODE, LIVINGAREA_MODE, NONLIVINGAPARTMENTS_MODE, NONLIVINGAREA_MODE, APARTMENTS_MEDI, BASEMENTAREA_MEDI, YEARS_BEGINEXPLUATATION_MEDI, YEARS_BUILD_MEDI, COMMONAREA_MEDI, ELEVATORS_MEDI, ENTRANCES_MEDI, FLOORSMAX_MEDI, FLOORSMIN_MEDI, LANDAREA_MEDI, LIVINGAPARTMENTS_MEDI, LIVINGAREA_MEDI, NONLIVINGAPARTMENTS_MEDI, NONLIVINGAREA_MEDI, FONDKAPREMONT_MODE, HOUSETYPE_MODE, TOTALAREA_MODE, WALLSMATERIAL_MODE, EMERGENCYSTATE_MODE, OBS_30_CNT_SOCIAL_CIRCLE, DEF_30_CNT_SOCIAL_CIRCLE, OBS_60_CNT_SOCIAL_CIRCLE, DEF_60_CNT_SOCIAL_CIRCLE, DAYS_LAST_PHONE_CHANGE, FLAG_DOCUMENT_2, FLAG_DOCUMENT_3, FLAG_DOCUMENT_4, FLAG_DOCUMENT_5, ...]\n",
              "Index: []\n",
              "\n",
              "[0 rows x 122 columns]"
            ],
            "text/html": [
              "\n",
              "  <div id=\"df-b8bf30c8-be7f-4916-8fe1-8fa5c4c0c384\">\n",
              "    <div class=\"colab-df-container\">\n",
              "      <div>\n",
              "<style scoped>\n",
              "    .dataframe tbody tr th:only-of-type {\n",
              "        vertical-align: middle;\n",
              "    }\n",
              "\n",
              "    .dataframe tbody tr th {\n",
              "        vertical-align: top;\n",
              "    }\n",
              "\n",
              "    .dataframe thead th {\n",
              "        text-align: right;\n",
              "    }\n",
              "</style>\n",
              "<table border=\"1\" class=\"dataframe\">\n",
              "  <thead>\n",
              "    <tr style=\"text-align: right;\">\n",
              "      <th></th>\n",
              "      <th>SK_ID_CURR</th>\n",
              "      <th>TARGET</th>\n",
              "      <th>NAME_CONTRACT_TYPE</th>\n",
              "      <th>CODE_GENDER</th>\n",
              "      <th>FLAG_OWN_CAR</th>\n",
              "      <th>FLAG_OWN_REALTY</th>\n",
              "      <th>CNT_CHILDREN</th>\n",
              "      <th>AMT_INCOME_TOTAL</th>\n",
              "      <th>AMT_CREDIT</th>\n",
              "      <th>AMT_ANNUITY</th>\n",
              "      <th>...</th>\n",
              "      <th>FLAG_DOCUMENT_18</th>\n",
              "      <th>FLAG_DOCUMENT_19</th>\n",
              "      <th>FLAG_DOCUMENT_20</th>\n",
              "      <th>FLAG_DOCUMENT_21</th>\n",
              "      <th>AMT_REQ_CREDIT_BUREAU_HOUR</th>\n",
              "      <th>AMT_REQ_CREDIT_BUREAU_DAY</th>\n",
              "      <th>AMT_REQ_CREDIT_BUREAU_WEEK</th>\n",
              "      <th>AMT_REQ_CREDIT_BUREAU_MON</th>\n",
              "      <th>AMT_REQ_CREDIT_BUREAU_QRT</th>\n",
              "      <th>AMT_REQ_CREDIT_BUREAU_YEAR</th>\n",
              "    </tr>\n",
              "  </thead>\n",
              "  <tbody>\n",
              "  </tbody>\n",
              "</table>\n",
              "<p>0 rows × 122 columns</p>\n",
              "</div>\n",
              "      <button class=\"colab-df-convert\" onclick=\"convertToInteractive('df-b8bf30c8-be7f-4916-8fe1-8fa5c4c0c384')\"\n",
              "              title=\"Convert this dataframe to an interactive table.\"\n",
              "              style=\"display:none;\">\n",
              "        \n",
              "  <svg xmlns=\"http://www.w3.org/2000/svg\" height=\"24px\"viewBox=\"0 0 24 24\"\n",
              "       width=\"24px\">\n",
              "    <path d=\"M0 0h24v24H0V0z\" fill=\"none\"/>\n",
              "    <path d=\"M18.56 5.44l.94 2.06.94-2.06 2.06-.94-2.06-.94-.94-2.06-.94 2.06-2.06.94zm-11 1L8.5 8.5l.94-2.06 2.06-.94-2.06-.94L8.5 2.5l-.94 2.06-2.06.94zm10 10l.94 2.06.94-2.06 2.06-.94-2.06-.94-.94-2.06-.94 2.06-2.06.94z\"/><path d=\"M17.41 7.96l-1.37-1.37c-.4-.4-.92-.59-1.43-.59-.52 0-1.04.2-1.43.59L10.3 9.45l-7.72 7.72c-.78.78-.78 2.05 0 2.83L4 21.41c.39.39.9.59 1.41.59.51 0 1.02-.2 1.41-.59l7.78-7.78 2.81-2.81c.8-.78.8-2.07 0-2.86zM5.41 20L4 18.59l7.72-7.72 1.47 1.35L5.41 20z\"/>\n",
              "  </svg>\n",
              "      </button>\n",
              "      \n",
              "  <style>\n",
              "    .colab-df-container {\n",
              "      display:flex;\n",
              "      flex-wrap:wrap;\n",
              "      gap: 12px;\n",
              "    }\n",
              "\n",
              "    .colab-df-convert {\n",
              "      background-color: #E8F0FE;\n",
              "      border: none;\n",
              "      border-radius: 50%;\n",
              "      cursor: pointer;\n",
              "      display: none;\n",
              "      fill: #1967D2;\n",
              "      height: 32px;\n",
              "      padding: 0 0 0 0;\n",
              "      width: 32px;\n",
              "    }\n",
              "\n",
              "    .colab-df-convert:hover {\n",
              "      background-color: #E2EBFA;\n",
              "      box-shadow: 0px 1px 2px rgba(60, 64, 67, 0.3), 0px 1px 3px 1px rgba(60, 64, 67, 0.15);\n",
              "      fill: #174EA6;\n",
              "    }\n",
              "\n",
              "    [theme=dark] .colab-df-convert {\n",
              "      background-color: #3B4455;\n",
              "      fill: #D2E3FC;\n",
              "    }\n",
              "\n",
              "    [theme=dark] .colab-df-convert:hover {\n",
              "      background-color: #434B5C;\n",
              "      box-shadow: 0px 1px 3px 1px rgba(0, 0, 0, 0.15);\n",
              "      filter: drop-shadow(0px 1px 2px rgba(0, 0, 0, 0.3));\n",
              "      fill: #FFFFFF;\n",
              "    }\n",
              "  </style>\n",
              "\n",
              "      <script>\n",
              "        const buttonEl =\n",
              "          document.querySelector('#df-b8bf30c8-be7f-4916-8fe1-8fa5c4c0c384 button.colab-df-convert');\n",
              "        buttonEl.style.display =\n",
              "          google.colab.kernel.accessAllowed ? 'block' : 'none';\n",
              "\n",
              "        async function convertToInteractive(key) {\n",
              "          const element = document.querySelector('#df-b8bf30c8-be7f-4916-8fe1-8fa5c4c0c384');\n",
              "          const dataTable =\n",
              "            await google.colab.kernel.invokeFunction('convertToInteractive',\n",
              "                                                     [key], {});\n",
              "          if (!dataTable) return;\n",
              "\n",
              "          const docLinkHtml = 'Like what you see? Visit the ' +\n",
              "            '<a target=\"_blank\" href=https://colab.research.google.com/notebooks/data_table.ipynb>data table notebook</a>'\n",
              "            + ' to learn more about interactive tables.';\n",
              "          element.innerHTML = '';\n",
              "          dataTable['output_type'] = 'display_data';\n",
              "          await google.colab.output.renderOutput(dataTable, element);\n",
              "          const docLink = document.createElement('div');\n",
              "          docLink.innerHTML = docLinkHtml;\n",
              "          element.appendChild(docLink);\n",
              "        }\n",
              "      </script>\n",
              "    </div>\n",
              "  </div>\n",
              "  "
            ]
          },
          "metadata": {},
          "execution_count": 17
        }
      ]
    },
    {
      "cell_type": "code",
      "source": [
        "#Check how many people are having no problems in repaying their loan\n",
        "len(application_data[application_data['TARGET'] == 0])\n",
        "#Calculating it as a percentage\n",
        "(len(application_data[application_data['TARGET'] == 0])/len(application_data)) * 100\n",
        "#91.85% people are not having any problems in repaying thier loan."
      ],
      "metadata": {
        "colab": {
          "base_uri": "https://localhost:8080/"
        },
        "id": "easi593asKnY",
        "outputId": "22ac1dd4-0776-4bb6-9785-b438ac90b54d"
      },
      "execution_count": null,
      "outputs": [
        {
          "output_type": "execute_result",
          "data": {
            "text/plain": [
              "92.14746068574375"
            ]
          },
          "metadata": {},
          "execution_count": 18
        }
      ]
    },
    {
      "cell_type": "code",
      "source": [
        "sns.countplot(application_data['TARGET'])\n",
        "#Plot shows that 91% people have no problem repaying the loan money"
      ],
      "metadata": {
        "colab": {
          "base_uri": "https://localhost:8080/",
          "height": 351
        },
        "id": "bdjWDZ0gtAbd",
        "outputId": "f8e4b751-3109-463c-a82a-37ae6eb326c3"
      },
      "execution_count": null,
      "outputs": [
        {
          "output_type": "stream",
          "name": "stderr",
          "text": [
            "/usr/local/lib/python3.7/dist-packages/seaborn/_decorators.py:43: FutureWarning: Pass the following variable as a keyword arg: x. From version 0.12, the only valid positional argument will be `data`, and passing other arguments without an explicit keyword will result in an error or misinterpretation.\n",
            "  FutureWarning\n"
          ]
        },
        {
          "output_type": "execute_result",
          "data": {
            "text/plain": [
              "<matplotlib.axes._subplots.AxesSubplot at 0x7f4441518c50>"
            ]
          },
          "metadata": {},
          "execution_count": 19
        },
        {
          "output_type": "display_data",
          "data": {
            "text/plain": [
              "<Figure size 432x288 with 1 Axes>"
            ],
            "image/png": "[encoded data removed]"
          },
          "metadata": {
            "needs_background": "light"
          }
        }
      ]
    },
    {
      "cell_type": "code",
      "source": [
        "#All possible values for type of people applying for loan\n",
        "application_data['NAME_INCOME_TYPE'].unique()"
      ],
      "metadata": {
        "colab": {
          "base_uri": "https://localhost:8080/"
        },
        "id": "ThX-8C3KtSb5",
        "outputId": "71cf566b-6939-47c2-d285-2c6a179e1ee0"
      },
      "execution_count": null,
      "outputs": [
        {
          "output_type": "execute_result",
          "data": {
            "text/plain": [
              "array(['Working', 'State servant', 'Commercial associate', 'Pensioner',\n",
              "       'Unemployed', 'Student'], dtype=object)"
            ]
          },
          "metadata": {},
          "execution_count": 20
        }
      ]
    },
    {
      "cell_type": "code",
      "source": [
        "#Percent wise distribution for name_income_type\n",
        "percent_name_income_type = (application_data['NAME_INCOME_TYPE'].value_counts() / len(application_data)) * 100\n",
        "percent_name_income_type\n",
        "#Working class has the highest loan request (51.7%). \n",
        "#People with Maternity leave has the lowest (0.0011%)"
      ],
      "metadata": {
        "colab": {
          "base_uri": "https://localhost:8080/"
        },
        "id": "hTefQODmt8rQ",
        "outputId": "bca140d2-f195-45d4-a03d-6cb10c16e413"
      },
      "execution_count": null,
      "outputs": [
        {
          "output_type": "execute_result",
          "data": {
            "text/plain": [
              "Working                 52.312452\n",
              "Commercial associate    23.062645\n",
              "Pensioner               17.803558\n",
              "State servant            6.800722\n",
              "Unemployed               0.010312\n",
              "Student                  0.010312\n",
              "Name: NAME_INCOME_TYPE, dtype: float64"
            ]
          },
          "metadata": {},
          "execution_count": 21
        }
      ]
    },
    {
      "cell_type": "code",
      "source": [
        "plt.xticks(rotation=45)\n",
        "sns.countplot(x=\"NAME_INCOME_TYPE\", data=application_data)\n",
        "#As can be seen for the data, working class has the highest loan request."
      ],
      "metadata": {
        "colab": {
          "base_uri": "https://localhost:8080/",
          "height": 372
        },
        "id": "Nq1oxBnmuj63",
        "outputId": "eefa9e7a-c0e4-4798-cdb2-46776b4e6d5f"
      },
      "execution_count": null,
      "outputs": [
        {
          "output_type": "execute_result",
          "data": {
            "text/plain": [
              "<matplotlib.axes._subplots.AxesSubplot at 0x7f4441491610>"
            ]
          },
          "metadata": {},
          "execution_count": 22
        },
        {
          "output_type": "display_data",
          "data": {
            "text/plain": [
              "<Figure size 432x288 with 1 Axes>"
            ],
            "image/png": "[encoded data removed]"
          },
          "metadata": {
            "needs_background": "light"
          }
        }
      ]
    },
    {
      "cell_type": "code",
      "source": [
        "#Finding correlation for target\n",
        "print(application_data.corr(method ='pearson')['TARGET'])\n",
        "#Finding parameter with highest corr\n",
        "target_corr = application_data.corr(method ='pearson')['TARGET']\n",
        "print(target_corr[target_corr == target_corr[target_corr.index != 'TARGET'].max()])\n",
        "#TARGET is positvely correlated to DAYS_BIRTH, but it's value is too small\n",
        "#to conclude anything.\n",
        "print(target_corr[target_corr == target_corr[target_corr.index != 'TARGET'].min()])\n",
        "#TARGET is negatively correlated to EXT_3, it's value is too small to conclude anything"
      ],
      "metadata": {
        "colab": {
          "base_uri": "https://localhost:8080/"
        },
        "id": "JLj-8pIJwBAI",
        "outputId": "9128c25e-0c47-42d1-d6d5-7ecbed2dcc64"
      },
      "execution_count": null,
      "outputs": [
        {
          "output_type": "stream",
          "name": "stdout",
          "text": [
            "SK_ID_CURR                    0.005033\n",
            "TARGET                        1.000000\n",
            "CNT_CHILDREN                  0.036887\n",
            "AMT_INCOME_TOTAL              0.022544\n",
            "AMT_CREDIT                   -0.031617\n",
            "                                ...   \n",
            "AMT_REQ_CREDIT_BUREAU_DAY     0.020299\n",
            "AMT_REQ_CREDIT_BUREAU_WEEK    0.012576\n",
            "AMT_REQ_CREDIT_BUREAU_MON    -0.015598\n",
            "AMT_REQ_CREDIT_BUREAU_QRT     0.002893\n",
            "AMT_REQ_CREDIT_BUREAU_YEAR    0.023967\n",
            "Name: TARGET, Length: 106, dtype: float64\n",
            "DAYS_BIRTH    0.087088\n",
            "Name: TARGET, dtype: float64\n",
            "EXT_SOURCE_3   -0.191969\n",
            "Name: TARGET, dtype: float64\n"
          ]
        }
      ]
    },
    {
      "cell_type": "code",
      "source": [
        "#Bivariate analysis for TARGET vs NAME_INCOME_TYPE\n",
        "group_by_income_target = application_data.groupby([\"NAME_INCOME_TYPE\", \"TARGET\"]).size().reset_index()\n",
        "df_temp = group_by_income_target.reset_index().groupby(\"NAME_INCOME_TYPE\")[0].sum()\n",
        "group_by_income_target[\"Percentage\"] = group_by_income_target.apply(lambda x: (x[0] / df_temp[x[\"NAME_INCOME_TYPE\"]]) * 100, axis=1)\n",
        "print(group_by_income_target)\n",
        "plt.xticks(rotation=45)\n",
        "sns.barplot(data=group_by_income_target, x=\"NAME_INCOME_TYPE\", y=\"Percentage\", hue=\"TARGET\")\n",
        "#As can be seen by the data, Businessman have 100% success rate in repaying their loan on time,\n",
        "#whereas unemployed people have some issues while returning the loan.\n",
        "#This information can useful to decide if loan is to approved or rejected."
      ],
      "metadata": {
        "colab": {
          "base_uri": "https://localhost:8080/",
          "height": 563
        },
        "id": "HSFbAI6nzBWA",
        "outputId": "8896ea39-0f81-4eb2-e155-694e37bb15ba"
      },
      "execution_count": null,
      "outputs": [
        {
          "output_type": "stream",
          "name": "stdout",
          "text": [
            "       NAME_INCOME_TYPE  TARGET     0  Percentage\n",
            "0  Commercial associate       0  4139   92.532976\n",
            "1  Commercial associate       1   334    7.467024\n",
            "2             Pensioner       0  3272   94.758181\n",
            "3             Pensioner       1   181    5.241819\n",
            "4         State servant       0  1249   94.692949\n",
            "5         State servant       1    70    5.307051\n",
            "6               Student       0     2  100.000000\n",
            "7            Unemployed       0     2  100.000000\n",
            "8               Working       0  9208   90.754977\n",
            "9               Working       1   938    9.245023\n"
          ]
        },
        {
          "output_type": "execute_result",
          "data": {
            "text/plain": [
              "<matplotlib.axes._subplots.AxesSubplot at 0x7f44414703d0>"
            ]
          },
          "metadata": {},
          "execution_count": 24
        },
        {
          "output_type": "display_data",
          "data": {
            "text/plain": [
              "<Figure size 432x288 with 1 Axes>"
            ],
            "image/png": "[encoded data removed]"
          },
          "metadata": {
            "needs_background": "light"
          }
        }
      ]
    },
    {
      "cell_type": "code",
      "source": [
        "#Bivariate analysis for TARGET vs NAME_EDUCATION_TYPE\n",
        "group_by_income_target = application_data.groupby([\"NAME_EDUCATION_TYPE\", \"TARGET\"]).size().reset_index()\n",
        "df_temp = group_by_income_target.reset_index().groupby(\"NAME_EDUCATION_TYPE\")[0].sum()\n",
        "group_by_income_target[\"Percentage\"] = group_by_income_target.apply(lambda x: (x[0] / df_temp[x[\"NAME_EDUCATION_TYPE\"]]) * 100, axis=1)\n",
        "print(group_by_income_target)\n",
        "plt.xticks(rotation=45)\n",
        "sns.barplot(data=group_by_income_target, x=\"NAME_EDUCATION_TYPE\", y=\"Percentage\", hue=\"TARGET\")\n"
      ],
      "metadata": {
        "colab": {
          "base_uri": "https://localhost:8080/",
          "height": 576
        },
        "id": "MiVrmNgm5HJs",
        "outputId": "5feb3462-4c7b-476f-d891-e7d322c70812"
      },
      "execution_count": null,
      "outputs": [
        {
          "output_type": "stream",
          "name": "stdout",
          "text": [
            "             NAME_EDUCATION_TYPE  TARGET      0  Percentage\n",
            "0                Academic degree       0     11  100.000000\n",
            "1               Higher education       0   4536   95.294118\n",
            "2               Higher education       1    224    4.705882\n",
            "3              Incomplete higher       0    585   90.417311\n",
            "4              Incomplete higher       1     62    9.582689\n",
            "5                Lower secondary       0    225   89.641434\n",
            "6                Lower secondary       1     26   10.358566\n",
            "7  Secondary / secondary special       0  12515   91.177328\n",
            "8  Secondary / secondary special       1   1211    8.822672\n"
          ]
        },
        {
          "output_type": "execute_result",
          "data": {
            "text/plain": [
              "<matplotlib.axes._subplots.AxesSubplot at 0x7f44411ad650>"
            ]
          },
          "metadata": {},
          "execution_count": 30
        },
        {
          "output_type": "display_data",
          "data": {
            "text/plain": [
              "<Figure size 432x288 with 1 Axes>"
            ],
            "image/png": "[encoded data removed]"
          },
          "metadata": {
            "needs_background": "light"
          }
        }
      ]
    },
    {
      "cell_type": "code",
      "source": [
        "#Bivariate analysis for TARGET vs NAME_FAMILY_STATUS\n",
        "group_by_income_target = application_data.groupby([\"NAME_FAMILY_STATUS\", \"TARGET\"]).size().reset_index()\n",
        "df_temp = group_by_income_target.reset_index().groupby(\"NAME_FAMILY_STATUS\")[0].sum()\n",
        "group_by_income_target[\"Percentage\"] = group_by_income_target.apply(lambda x: (x[0] / df_temp[x[\"NAME_FAMILY_STATUS\"]]) * 100, axis=1)\n",
        "print(group_by_income_target)\n",
        "plt.xticks(rotation=45)\n",
        "sns.barplot(data=group_by_income_target, x=\"NAME_FAMILY_STATUS\", y=\"Percentage\", hue=\"TARGET\")"
      ],
      "metadata": {
        "colab": {
          "base_uri": "https://localhost:8080/",
          "height": 555
        },
        "id": "_5iwY9C25Q1Q",
        "outputId": "a427c748-0d2d-4501-aa2f-5a8df1669418"
      },
      "execution_count": null,
      "outputs": [
        {
          "output_type": "stream",
          "name": "stdout",
          "text": [
            "     NAME_FAMILY_STATUS  TARGET      0  Percentage\n",
            "0        Civil marriage       0   1705   90.643275\n",
            "1        Civil marriage       1    176    9.356725\n",
            "2               Married       0  11616   92.720307\n",
            "3               Married       1    912    7.279693\n",
            "4             Separated       0   1094   91.166667\n",
            "5             Separated       1    106    8.833333\n",
            "6  Single / not married       0   2512   90.262307\n",
            "7  Single / not married       1    271    9.737693\n",
            "8                 Widow       0    945   94.217348\n",
            "9                 Widow       1     58    5.782652\n"
          ]
        },
        {
          "output_type": "execute_result",
          "data": {
            "text/plain": [
              "<matplotlib.axes._subplots.AxesSubplot at 0x7f444111b290>"
            ]
          },
          "metadata": {},
          "execution_count": 31
        },
        {
          "output_type": "display_data",
          "data": {
            "text/plain": [
              "<Figure size 432x288 with 1 Axes>"
            ],
            "image/png": "[encoded data removed]"
          },
          "metadata": {
            "needs_background": "light"
          }
        }
      ]
    },
    {
      "cell_type": "code",
      "source": [
        "#Bivariate analysis for TARGET vs NAME_HOUSING_TYPE\n",
        "group_by_income_target = application_data.groupby([\"NAME_HOUSING_TYPE\", \"TARGET\"]).size().reset_index()\n",
        "df_temp = group_by_income_target.reset_index().groupby(\"NAME_HOUSING_TYPE\")[0].sum()\n",
        "group_by_income_target[\"Percentage\"] = group_by_income_target.apply(lambda x: (x[0] / df_temp[x[\"NAME_HOUSING_TYPE\"]]) * 100, axis=1)\n",
        "print(group_by_income_target)\n",
        "plt.xticks(rotation=45)\n",
        "sns.barplot(data=group_by_income_target, x=\"NAME_HOUSING_TYPE\", y=\"Percentage\", hue=\"TARGET\")"
      ],
      "metadata": {
        "colab": {
          "base_uri": "https://localhost:8080/",
          "height": 594
        },
        "id": "X6Qn_V4e5eF0",
        "outputId": "c9881ac0-4006-4695-bda2-71a94f31b526"
      },
      "execution_count": null,
      "outputs": [
        {
          "output_type": "stream",
          "name": "stdout",
          "text": [
            "      NAME_HOUSING_TYPE  TARGET      0  Percentage\n",
            "0       Co-op apartment       0     72   92.307692\n",
            "1       Co-op apartment       1      6    7.692308\n",
            "2     House / apartment       0  15887   92.414636\n",
            "3     House / apartment       1   1304    7.585364\n",
            "4   Municipal apartment       0    671   92.297111\n",
            "5   Municipal apartment       1     56    7.702889\n",
            "6      Office apartment       0    151   93.788820\n",
            "7      Office apartment       1     10    6.211180\n",
            "8      Rented apartment       0    266   88.079470\n",
            "9      Rented apartment       1     36   11.920530\n",
            "10         With parents       0    825   88.141026\n",
            "11         With parents       1    111   11.858974\n"
          ]
        },
        {
          "output_type": "execute_result",
          "data": {
            "text/plain": [
              "<matplotlib.axes._subplots.AxesSubplot at 0x7f4440f9b3d0>"
            ]
          },
          "metadata": {},
          "execution_count": 32
        },
        {
          "output_type": "display_data",
          "data": {
            "text/plain": [
              "<Figure size 432x288 with 1 Axes>"
            ],
            "image/png": "[encoded data removed]"
          },
          "metadata": {
            "needs_background": "light"
          }
        }
      ]
    },
    {
      "cell_type": "code",
      "source": [
        "#Bivariate analysis for TARGET vs REGION_RATING_CLIENT\n",
        "group_by_income_target = application_data.groupby([\"REGION_RATING_CLIENT\", \"TARGET\"]).size().reset_index()\n",
        "df_temp = group_by_income_target.reset_index().groupby(\"REGION_RATING_CLIENT\")[0].sum()\n",
        "group_by_income_target[\"Percentage\"] = group_by_income_target.apply(lambda x: (x[0] / df_temp[x[\"REGION_RATING_CLIENT\"]]) * 100, axis=1)\n",
        "print(group_by_income_target)\n",
        "plt.xticks(rotation=45)\n",
        "sns.barplot(data=group_by_income_target, x=\"REGION_RATING_CLIENT\", y=\"Percentage\", hue=\"TARGET\")"
      ],
      "metadata": {
        "colab": {
          "base_uri": "https://localhost:8080/",
          "height": 423
        },
        "id": "7Fe9Tcr35wFp",
        "outputId": "6c69f11f-13b4-4ee7-d9d0-44bf11433a3a"
      },
      "execution_count": null,
      "outputs": [
        {
          "output_type": "stream",
          "name": "stdout",
          "text": [
            "   REGION_RATING_CLIENT  TARGET      0  Percentage\n",
            "0                     1       0   1960   95.890411\n",
            "1                     1       1     84    4.109589\n",
            "2                     2       0  13240   92.232672\n",
            "3                     2       1   1115    7.767328\n",
            "4                     3       0   2672   89.185581\n",
            "5                     3       1    324   10.814419\n"
          ]
        },
        {
          "output_type": "execute_result",
          "data": {
            "text/plain": [
              "<matplotlib.axes._subplots.AxesSubplot at 0x7f4440ed4550>"
            ]
          },
          "metadata": {},
          "execution_count": 33
        },
        {
          "output_type": "display_data",
          "data": {
            "text/plain": [
              "<Figure size 432x288 with 1 Axes>"
            ],
            "image/png": "[encoded data removed]"
          },
          "metadata": {
            "needs_background": "light"
          }
        }
      ]
    },
    {
      "cell_type": "code",
      "source": [
        "#Bivariate analysis for TARGET vs CODE_GENDER\n",
        "group_by_gender_target = application_data.groupby([\"CODE_GENDER\", \"TARGET\"]).size().reset_index()\n",
        "df_temp = group_by_gender_target.reset_index().groupby(\"CODE_GENDER\")[0].sum()\n",
        "group_by_gender_target[\"Percentage\"] = group_by_gender_target.apply(lambda x: (x[0] / df_temp[x[\"CODE_GENDER\"]]) * 100, axis=1)\n",
        "print(group_by_gender_target)\n",
        "plt.xticks(rotation=45)\n",
        "sns.barplot(data=group_by_gender_target, x=\"CODE_GENDER\", y=\"Percentage\", hue=\"TARGET\")\n",
        "#Females are having better chances of reapying the loan without any problems."
      ],
      "metadata": {
        "colab": {
          "base_uri": "https://localhost:8080/",
          "height": 387
        },
        "id": "x1dTeAJF1Q5o",
        "outputId": "915b38f6-e661-43c2-f6e6-72a0d7a00107"
      },
      "execution_count": null,
      "outputs": [
        {
          "output_type": "stream",
          "name": "stdout",
          "text": [
            "  CODE_GENDER  TARGET      0  Percentage\n",
            "0           F       0  11887   93.304553\n",
            "1           F       1    853    6.695447\n",
            "2           M       0   5985   89.932382\n",
            "3           M       1    670   10.067618\n"
          ]
        },
        {
          "output_type": "execute_result",
          "data": {
            "text/plain": [
              "<matplotlib.axes._subplots.AxesSubplot at 0x7f44413ff6d0>"
            ]
          },
          "metadata": {},
          "execution_count": 34
        },
        {
          "output_type": "display_data",
          "data": {
            "text/plain": [
              "<Figure size 432x288 with 1 Axes>"
            ],
            "image/png": "[encoded data removed]"
          },
          "metadata": {
            "needs_background": "light"
          }
        }
      ]
    },
    {
      "cell_type": "code",
      "source": [
        "#Bivariate analysis for TARGET vs AMT_INCOME_TOTAL\n",
        "sns.boxplot(x=\"TARGET\", y=\"AMT_INCOME_TOTAL\", data=application_data, showfliers=False)\n",
        "#People having no problems repaying thier loans are having higher median annual income."
      ],
      "metadata": {
        "colab": {
          "base_uri": "https://localhost:8080/",
          "height": 298
        },
        "id": "x5hto6fR4B0k",
        "outputId": "35d02230-fd42-43c5-96d1-3e69d23287aa"
      },
      "execution_count": null,
      "outputs": [
        {
          "output_type": "execute_result",
          "data": {
            "text/plain": [
              "<matplotlib.axes._subplots.AxesSubplot at 0x7f44412ce0d0>"
            ]
          },
          "metadata": {},
          "execution_count": 26
        },
        {
          "output_type": "display_data",
          "data": {
            "text/plain": [
              "<Figure size 432x288 with 1 Axes>"
            ],
            "image/png": "[encoded data removed]"
          },
          "metadata": {
            "needs_background": "light"
          }
        }
      ]
    },
    {
      "cell_type": "code",
      "source": [
        "#Bivariate analysis for AMT_ANNUITY vs AMT_INCOME_TOTAL\n",
        "non_outlier_data = application_data[~((application_data['AMT_ANNUITY'] < (q1 - 1.5 * iqr)) | (application_data['AMT_ANNUITY'] > (q3 + 1.5 * iqr)))]\n",
        "q1_income = application_data['AMT_INCOME_TOTAL'].quantile(0.25)\n",
        "q3_income = application_data['AMT_INCOME_TOTAL'].quantile(0.75)\n",
        "iqr_income = q3_income - q1_income\n",
        "non_outlier_data = non_outlier_data[~((non_outlier_data['AMT_INCOME_TOTAL'] < (q1_income - 1.5 * iqr_income)) | (non_outlier_data['AMT_INCOME_TOTAL'] > (q3_income + 1.5 * iqr_income)))]\n",
        "#Sampling data for better visualization\n",
        "sns.regplot(x=\"AMT_ANNUITY\", y=\"AMT_INCOME_TOTAL\", data=non_outlier_data.sample(frac=0.0010))\n",
        "#There is a positive correlation between AMT_ANNUITY and AMT_INCOME_TOTAL. \n",
        "#As income increase, loan amount of application also increases"
      ],
      "metadata": {
        "colab": {
          "base_uri": "https://localhost:8080/",
          "height": 297
        },
        "id": "ZSWo-Gfu5Ubu",
        "outputId": "4338288d-fe71-4162-e292-9b1b01e7e62d"
      },
      "execution_count": null,
      "outputs": [
        {
          "output_type": "execute_result",
          "data": {
            "text/plain": [
              "<matplotlib.axes._subplots.AxesSubplot at 0x7f4441237f50>"
            ]
          },
          "metadata": {},
          "execution_count": 29
        },
        {
          "output_type": "display_data",
          "data": {
            "text/plain": [
              "<Figure size 432x288 with 1 Axes>"
            ],
            "image/png": "[encoded data removed]"
          },
          "metadata": {
            "needs_background": "light"
          }
        }
      ]
    },
    {
      "cell_type": "code",
      "source": [
        "#Loading previous_application into dataframe\n",
        "previous_application = pd.read_csv('previous_application.csv')\n",
        "previous_application.head()"
      ],
      "metadata": {
        "colab": {
          "base_uri": "https://localhost:8080/",
          "height": 317
        },
        "id": "Kbr_Kpnj6Q3h",
        "outputId": "664a136b-4dc3-4591-a1f5-2df7e31fbe64"
      },
      "execution_count": null,
      "outputs": [
        {
          "output_type": "execute_result",
          "data": {
            "text/plain": [
              "   SK_ID_PREV  SK_ID_CURR NAME_CONTRACT_TYPE  AMT_ANNUITY  AMT_APPLICATION  \\\n",
              "0     2030495      271877     Consumer loans     1730.430          17145.0   \n",
              "1     2802425      108129         Cash loans    25188.615         607500.0   \n",
              "2     2523466      122040         Cash loans    15060.735         112500.0   \n",
              "3     2819243      176158         Cash loans    47041.335         450000.0   \n",
              "4     1784265      202054         Cash loans    31924.395         337500.0   \n",
              "\n",
              "   AMT_CREDIT  AMT_DOWN_PAYMENT  AMT_GOODS_PRICE WEEKDAY_APPR_PROCESS_START  \\\n",
              "0     17145.0               0.0          17145.0                   SATURDAY   \n",
              "1    679671.0               NaN         607500.0                   THURSDAY   \n",
              "2    136444.5               NaN         112500.0                    TUESDAY   \n",
              "3    470790.0               NaN         450000.0                     MONDAY   \n",
              "4    404055.0               NaN         337500.0                   THURSDAY   \n",
              "\n",
              "   HOUR_APPR_PROCESS_START  ... NAME_SELLER_INDUSTRY  CNT_PAYMENT  \\\n",
              "0                       15  ...         Connectivity         12.0   \n",
              "1                       11  ...                  XNA         36.0   \n",
              "2                       11  ...                  XNA         12.0   \n",
              "3                        7  ...                  XNA         12.0   \n",
              "4                        9  ...                  XNA         24.0   \n",
              "\n",
              "   NAME_YIELD_GROUP       PRODUCT_COMBINATION  DAYS_FIRST_DRAWING  \\\n",
              "0            middle  POS mobile with interest            365243.0   \n",
              "1        low_action          Cash X-Sell: low            365243.0   \n",
              "2              high         Cash X-Sell: high            365243.0   \n",
              "3            middle       Cash X-Sell: middle            365243.0   \n",
              "4              high         Cash Street: high                 NaN   \n",
              "\n",
              "  DAYS_FIRST_DUE DAYS_LAST_DUE_1ST_VERSION  DAYS_LAST_DUE DAYS_TERMINATION  \\\n",
              "0          -42.0                     300.0          -42.0            -37.0   \n",
              "1         -134.0                     916.0       365243.0         365243.0   \n",
              "2         -271.0                      59.0       365243.0         365243.0   \n",
              "3         -482.0                    -152.0         -182.0           -177.0   \n",
              "4            NaN                       NaN            NaN              NaN   \n",
              "\n",
              "  NFLAG_INSURED_ON_APPROVAL  \n",
              "0                       0.0  \n",
              "1                       1.0  \n",
              "2                       1.0  \n",
              "3                       1.0  \n",
              "4                       NaN  \n",
              "\n",
              "[5 rows x 37 columns]"
            ],
            "text/html": [
              "\n",
              "  <div id=\"df-7fea32d8-1681-4e13-891d-ac5e320c14c0\">\n",
              "    <div class=\"colab-df-container\">\n",
              "      <div>\n",
              "<style scoped>\n",
              "    .dataframe tbody tr th:only-of-type {\n",
              "        vertical-align: middle;\n",
              "    }\n",
              "\n",
              "    .dataframe tbody tr th {\n",
              "        vertical-align: top;\n",
              "    }\n",
              "\n",
              "    .dataframe thead th {\n",
              "        text-align: right;\n",
              "    }\n",
              "</style>\n",
              "<table border=\"1\" class=\"dataframe\">\n",
              "  <thead>\n",
              "    <tr style=\"text-align: right;\">\n",
              "      <th></th>\n",
              "      <th>SK_ID_PREV</th>\n",
              "      <th>SK_ID_CURR</th>\n",
              "      <th>NAME_CONTRACT_TYPE</th>\n",
              "      <th>AMT_ANNUITY</th>\n",
              "      <th>AMT_APPLICATION</th>\n",
              "      <th>AMT_CREDIT</th>\n",
              "      <th>AMT_DOWN_PAYMENT</th>\n",
              "      <th>AMT_GOODS_PRICE</th>\n",
              "      <th>WEEKDAY_APPR_PROCESS_START</th>\n",
              "      <th>HOUR_APPR_PROCESS_START</th>\n",
              "      <th>...</th>\n",
              "      <th>NAME_SELLER_INDUSTRY</th>\n",
              "      <th>CNT_PAYMENT</th>\n",
              "      <th>NAME_YIELD_GROUP</th>\n",
              "      <th>PRODUCT_COMBINATION</th>\n",
              "      <th>DAYS_FIRST_DRAWING</th>\n",
              "      <th>DAYS_FIRST_DUE</th>\n",
              "      <th>DAYS_LAST_DUE_1ST_VERSION</th>\n",
              "      <th>DAYS_LAST_DUE</th>\n",
              "      <th>DAYS_TERMINATION</th>\n",
              "      <th>NFLAG_INSURED_ON_APPROVAL</th>\n",
              "    </tr>\n",
              "  </thead>\n",
              "  <tbody>\n",
              "    <tr>\n",
              "      <th>0</th>\n",
              "      <td>2030495</td>\n",
              "      <td>271877</td>\n",
              "      <td>Consumer loans</td>\n",
              "      <td>1730.430</td>\n",
              "      <td>17145.0</td>\n",
              "      <td>17145.0</td>\n",
              "      <td>0.0</td>\n",
              "      <td>17145.0</td>\n",
              "      <td>SATURDAY</td>\n",
              "      <td>15</td>\n",
              "      <td>...</td>\n",
              "      <td>Connectivity</td>\n",
              "      <td>12.0</td>\n",
              "      <td>middle</td>\n",
              "      <td>POS mobile with interest</td>\n",
              "      <td>365243.0</td>\n",
              "      <td>-42.0</td>\n",
              "      <td>300.0</td>\n",
              "      <td>-42.0</td>\n",
              "      <td>-37.0</td>\n",
              "      <td>0.0</td>\n",
              "    </tr>\n",
              "    <tr>\n",
              "      <th>1</th>\n",
              "      <td>2802425</td>\n",
              "      <td>108129</td>\n",
              "      <td>Cash loans</td>\n",
              "      <td>25188.615</td>\n",
              "      <td>607500.0</td>\n",
              "      <td>679671.0</td>\n",
              "      <td>NaN</td>\n",
              "      <td>607500.0</td>\n",
              "      <td>THURSDAY</td>\n",
              "      <td>11</td>\n",
              "      <td>...</td>\n",
              "      <td>XNA</td>\n",
              "      <td>36.0</td>\n",
              "      <td>low_action</td>\n",
              "      <td>Cash X-Sell: low</td>\n",
              "      <td>365243.0</td>\n",
              "      <td>-134.0</td>\n",
              "      <td>916.0</td>\n",
              "      <td>365243.0</td>\n",
              "      <td>365243.0</td>\n",
              "      <td>1.0</td>\n",
              "    </tr>\n",
              "    <tr>\n",
              "      <th>2</th>\n",
              "      <td>2523466</td>\n",
              "      <td>122040</td>\n",
              "      <td>Cash loans</td>\n",
              "      <td>15060.735</td>\n",
              "      <td>112500.0</td>\n",
              "      <td>136444.5</td>\n",
              "      <td>NaN</td>\n",
              "      <td>112500.0</td>\n",
              "      <td>TUESDAY</td>\n",
              "      <td>11</td>\n",
              "      <td>...</td>\n",
              "      <td>XNA</td>\n",
              "      <td>12.0</td>\n",
              "      <td>high</td>\n",
              "      <td>Cash X-Sell: high</td>\n",
              "      <td>365243.0</td>\n",
              "      <td>-271.0</td>\n",
              "      <td>59.0</td>\n",
              "      <td>365243.0</td>\n",
              "      <td>365243.0</td>\n",
              "      <td>1.0</td>\n",
              "    </tr>\n",
              "    <tr>\n",
              "      <th>3</th>\n",
              "      <td>2819243</td>\n",
              "      <td>176158</td>\n",
              "      <td>Cash loans</td>\n",
              "      <td>47041.335</td>\n",
              "      <td>450000.0</td>\n",
              "      <td>470790.0</td>\n",
              "      <td>NaN</td>\n",
              "      <td>450000.0</td>\n",
              "      <td>MONDAY</td>\n",
              "      <td>7</td>\n",
              "      <td>...</td>\n",
              "      <td>XNA</td>\n",
              "      <td>12.0</td>\n",
              "      <td>middle</td>\n",
              "      <td>Cash X-Sell: middle</td>\n",
              "      <td>365243.0</td>\n",
              "      <td>-482.0</td>\n",
              "      <td>-152.0</td>\n",
              "      <td>-182.0</td>\n",
              "      <td>-177.0</td>\n",
              "      <td>1.0</td>\n",
              "    </tr>\n",
              "    <tr>\n",
              "      <th>4</th>\n",
              "      <td>1784265</td>\n",
              "      <td>202054</td>\n",
              "      <td>Cash loans</td>\n",
              "      <td>31924.395</td>\n",
              "      <td>337500.0</td>\n",
              "      <td>404055.0</td>\n",
              "      <td>NaN</td>\n",
              "      <td>337500.0</td>\n",
              "      <td>THURSDAY</td>\n",
              "      <td>9</td>\n",
              "      <td>...</td>\n",
              "      <td>XNA</td>\n",
              "      <td>24.0</td>\n",
              "      <td>high</td>\n",
              "      <td>Cash Street: high</td>\n",
              "      <td>NaN</td>\n",
              "      <td>NaN</td>\n",
              "      <td>NaN</td>\n",
              "      <td>NaN</td>\n",
              "      <td>NaN</td>\n",
              "      <td>NaN</td>\n",
              "    </tr>\n",
              "  </tbody>\n",
              "</table>\n",
              "<p>5 rows × 37 columns</p>\n",
              "</div>\n",
              "      <button class=\"colab-df-convert\" onclick=\"convertToInteractive('df-7fea32d8-1681-4e13-891d-ac5e320c14c0')\"\n",
              "              title=\"Convert this dataframe to an interactive table.\"\n",
              "              style=\"display:none;\">\n",
              "        \n",
              "  <svg xmlns=\"http://www.w3.org/2000/svg\" height=\"24px\"viewBox=\"0 0 24 24\"\n",
              "       width=\"24px\">\n",
              "    <path d=\"M0 0h24v24H0V0z\" fill=\"none\"/>\n",
              "    <path d=\"M18.56 5.44l.94 2.06.94-2.06 2.06-.94-2.06-.94-.94-2.06-.94 2.06-2.06.94zm-11 1L8.5 8.5l.94-2.06 2.06-.94-2.06-.94L8.5 2.5l-.94 2.06-2.06.94zm10 10l.94 2.06.94-2.06 2.06-.94-2.06-.94-.94-2.06-.94 2.06-2.06.94z\"/><path d=\"M17.41 7.96l-1.37-1.37c-.4-.4-.92-.59-1.43-.59-.52 0-1.04.2-1.43.59L10.3 9.45l-7.72 7.72c-.78.78-.78 2.05 0 2.83L4 21.41c.39.39.9.59 1.41.59.51 0 1.02-.2 1.41-.59l7.78-7.78 2.81-2.81c.8-.78.8-2.07 0-2.86zM5.41 20L4 18.59l7.72-7.72 1.47 1.35L5.41 20z\"/>\n",
              "  </svg>\n",
              "      </button>\n",
              "      \n",
              "  <style>\n",
              "    .colab-df-container {\n",
              "      display:flex;\n",
              "      flex-wrap:wrap;\n",
              "      gap: 12px;\n",
              "    }\n",
              "\n",
              "    .colab-df-convert {\n",
              "      background-color: #E8F0FE;\n",
              "      border: none;\n",
              "      border-radius: 50%;\n",
              "      cursor: pointer;\n",
              "      display: none;\n",
              "      fill: #1967D2;\n",
              "      height: 32px;\n",
              "      padding: 0 0 0 0;\n",
              "      width: 32px;\n",
              "    }\n",
              "\n",
              "    .colab-df-convert:hover {\n",
              "      background-color: #E2EBFA;\n",
              "      box-shadow: 0px 1px 2px rgba(60, 64, 67, 0.3), 0px 1px 3px 1px rgba(60, 64, 67, 0.15);\n",
              "      fill: #174EA6;\n",
              "    }\n",
              "\n",
              "    [theme=dark] .colab-df-convert {\n",
              "      background-color: #3B4455;\n",
              "      fill: #D2E3FC;\n",
              "    }\n",
              "\n",
              "    [theme=dark] .colab-df-convert:hover {\n",
              "      background-color: #434B5C;\n",
              "      box-shadow: 0px 1px 3px 1px rgba(0, 0, 0, 0.15);\n",
              "      filter: drop-shadow(0px 1px 2px rgba(0, 0, 0, 0.3));\n",
              "      fill: #FFFFFF;\n",
              "    }\n",
              "  </style>\n",
              "\n",
              "      <script>\n",
              "        const buttonEl =\n",
              "          document.querySelector('#df-7fea32d8-1681-4e13-891d-ac5e320c14c0 button.colab-df-convert');\n",
              "        buttonEl.style.display =\n",
              "          google.colab.kernel.accessAllowed ? 'block' : 'none';\n",
              "\n",
              "        async function convertToInteractive(key) {\n",
              "          const element = document.querySelector('#df-7fea32d8-1681-4e13-891d-ac5e320c14c0');\n",
              "          const dataTable =\n",
              "            await google.colab.kernel.invokeFunction('convertToInteractive',\n",
              "                                                     [key], {});\n",
              "          if (!dataTable) return;\n",
              "\n",
              "          const docLinkHtml = 'Like what you see? Visit the ' +\n",
              "            '<a target=\"_blank\" href=https://colab.research.google.com/notebooks/data_table.ipynb>data table notebook</a>'\n",
              "            + ' to learn more about interactive tables.';\n",
              "          element.innerHTML = '';\n",
              "          dataTable['output_type'] = 'display_data';\n",
              "          await google.colab.output.renderOutput(dataTable, element);\n",
              "          const docLink = document.createElement('div');\n",
              "          docLink.innerHTML = docLinkHtml;\n",
              "          element.appendChild(docLink);\n",
              "        }\n",
              "      </script>\n",
              "    </div>\n",
              "  </div>\n",
              "  "
            ]
          },
          "metadata": {},
          "execution_count": 36
        }
      ]
    },
    {
      "cell_type": "code",
      "source": [
        "#Inspecting null values\n",
        "missing_application_data = previous_application.isnull().sum()"
      ],
      "metadata": {
        "id": "JUDPTO4a6cNy"
      },
      "execution_count": null,
      "outputs": []
    },
    {
      "cell_type": "code",
      "source": [
        "#Filtring out columns which has null values greater than 40%\n",
        "column_missing_percent = missing_application_data / len(previous_application)\n",
        "columns_to_drop = column_missing_percent[column_missing_percent > 0.4].index.values\n",
        "previous_application.drop(columns = columns_to_drop)"
      ],
      "metadata": {
        "colab": {
          "base_uri": "https://localhost:8080/",
          "height": 540
        },
        "id": "a3pkCSj06qFm",
        "outputId": "51a20677-890a-485e-f3e3-0391ddb608e5"
      },
      "execution_count": null,
      "outputs": [
        {
          "output_type": "execute_result",
          "data": {
            "text/plain": [
              "      SK_ID_PREV  SK_ID_CURR NAME_CONTRACT_TYPE  AMT_ANNUITY  AMT_APPLICATION  \\\n",
              "0        2030495      271877     Consumer loans     1730.430          17145.0   \n",
              "1        2802425      108129         Cash loans    25188.615         607500.0   \n",
              "2        2523466      122040         Cash loans    15060.735         112500.0   \n",
              "3        2819243      176158         Cash loans    47041.335         450000.0   \n",
              "4        1784265      202054         Cash loans    31924.395         337500.0   \n",
              "...          ...         ...                ...          ...              ...   \n",
              "4191     1491628      377001     Consumer loans          NaN         102595.5   \n",
              "4192     2369081      416347     Consumer loans     3403.800          32575.5   \n",
              "4193     2454726      389655    Revolving loans          NaN              0.0   \n",
              "4194     1988248      144757         Cash loans          NaN              0.0   \n",
              "4195     2368518      452969         Cash loans    12048.705          90000.0   \n",
              "\n",
              "      AMT_CREDIT  AMT_GOODS_PRICE WEEKDAY_APPR_PROCESS_START  \\\n",
              "0        17145.0          17145.0                   SATURDAY   \n",
              "1       679671.0         607500.0                   THURSDAY   \n",
              "2       136444.5         112500.0                    TUESDAY   \n",
              "3       470790.0         450000.0                     MONDAY   \n",
              "4       404055.0         337500.0                   THURSDAY   \n",
              "...          ...              ...                        ...   \n",
              "4191    102595.5         102595.5                     MONDAY   \n",
              "4192     16825.5          32575.5                   SATURDAY   \n",
              "4193         0.0              NaN                   THURSDAY   \n",
              "4194         0.0              NaN                     SUNDAY   \n",
              "4195    109156.5          90000.0                   SATURDAY   \n",
              "\n",
              "      HOUR_APPR_PROCESS_START FLAG_LAST_APPL_PER_CONTRACT  ...  \\\n",
              "0                          15                           Y  ...   \n",
              "1                          11                           Y  ...   \n",
              "2                          11                           Y  ...   \n",
              "3                           7                           Y  ...   \n",
              "4                           9                           Y  ...   \n",
              "...                       ...                         ...  ...   \n",
              "4191                       12                           Y  ...   \n",
              "4192                       13                           Y  ...   \n",
              "4193                       11                           Y  ...   \n",
              "4194                       13                           Y  ...   \n",
              "4195                       14                           Y  ...   \n",
              "\n",
              "      NAME_SELLER_INDUSTRY CNT_PAYMENT NAME_YIELD_GROUP  \\\n",
              "0             Connectivity        12.0           middle   \n",
              "1                      XNA        36.0       low_action   \n",
              "2                      XNA        12.0             high   \n",
              "3                      XNA        12.0           middle   \n",
              "4                      XNA        24.0             high   \n",
              "...                    ...         ...              ...   \n",
              "4191          Connectivity         NaN              XNA   \n",
              "4192          Connectivity         6.0             high   \n",
              "4193                   XNA         NaN              XNA   \n",
              "4194                   XNA         NaN              XNA   \n",
              "4195                   XNA        12.0             high   \n",
              "\n",
              "           PRODUCT_COMBINATION DAYS_FIRST_DRAWING DAYS_FIRST_DUE  \\\n",
              "0     POS mobile with interest           365243.0          -42.0   \n",
              "1             Cash X-Sell: low           365243.0         -134.0   \n",
              "2            Cash X-Sell: high           365243.0         -271.0   \n",
              "3          Cash X-Sell: middle           365243.0         -482.0   \n",
              "4            Cash Street: high                NaN            NaN   \n",
              "...                        ...                ...            ...   \n",
              "4191  POS mobile with interest                NaN            NaN   \n",
              "4192  POS mobile with interest           365243.0        -1001.0   \n",
              "4193               Card Street                NaN            NaN   \n",
              "4194                      Cash                NaN            NaN   \n",
              "4195         Cash X-Sell: high           365243.0         -536.0   \n",
              "\n",
              "     DAYS_LAST_DUE_1ST_VERSION DAYS_LAST_DUE DAYS_TERMINATION  \\\n",
              "0                        300.0         -42.0            -37.0   \n",
              "1                        916.0      365243.0         365243.0   \n",
              "2                         59.0      365243.0         365243.0   \n",
              "3                       -152.0        -182.0           -177.0   \n",
              "4                          NaN           NaN              NaN   \n",
              "...                        ...           ...              ...   \n",
              "4191                       NaN           NaN              NaN   \n",
              "4192                    -851.0        -971.0           -965.0   \n",
              "4193                       NaN           NaN              NaN   \n",
              "4194                       NaN           NaN              NaN   \n",
              "4195                    -206.0        -206.0           -201.0   \n",
              "\n",
              "     NFLAG_INSURED_ON_APPROVAL  \n",
              "0                          0.0  \n",
              "1                          1.0  \n",
              "2                          1.0  \n",
              "3                          1.0  \n",
              "4                          NaN  \n",
              "...                        ...  \n",
              "4191                       NaN  \n",
              "4192                       0.0  \n",
              "4193                       NaN  \n",
              "4194                       NaN  \n",
              "4195                       1.0  \n",
              "\n",
              "[4196 rows x 32 columns]"
            ],
            "text/html": [
              "\n",
              "  <div id=\"df-c6ddd56d-a9cb-4616-bbc2-7ea350094965\">\n",
              "    <div class=\"colab-df-container\">\n",
              "      <div>\n",
              "<style scoped>\n",
              "    .dataframe tbody tr th:only-of-type {\n",
              "        vertical-align: middle;\n",
              "    }\n",
              "\n",
              "    .dataframe tbody tr th {\n",
              "        vertical-align: top;\n",
              "    }\n",
              "\n",
              "    .dataframe thead th {\n",
              "        text-align: right;\n",
              "    }\n",
              "</style>\n",
              "<table border=\"1\" class=\"dataframe\">\n",
              "  <thead>\n",
              "    <tr style=\"text-align: right;\">\n",
              "      <th></th>\n",
              "      <th>SK_ID_PREV</th>\n",
              "      <th>SK_ID_CURR</th>\n",
              "      <th>NAME_CONTRACT_TYPE</th>\n",
              "      <th>AMT_ANNUITY</th>\n",
              "      <th>AMT_APPLICATION</th>\n",
              "      <th>AMT_CREDIT</th>\n",
              "      <th>AMT_GOODS_PRICE</th>\n",
              "      <th>WEEKDAY_APPR_PROCESS_START</th>\n",
              "      <th>HOUR_APPR_PROCESS_START</th>\n",
              "      <th>FLAG_LAST_APPL_PER_CONTRACT</th>\n",
              "      <th>...</th>\n",
              "      <th>NAME_SELLER_INDUSTRY</th>\n",
              "      <th>CNT_PAYMENT</th>\n",
              "      <th>NAME_YIELD_GROUP</th>\n",
              "      <th>PRODUCT_COMBINATION</th>\n",
              "      <th>DAYS_FIRST_DRAWING</th>\n",
              "      <th>DAYS_FIRST_DUE</th>\n",
              "      <th>DAYS_LAST_DUE_1ST_VERSION</th>\n",
              "      <th>DAYS_LAST_DUE</th>\n",
              "      <th>DAYS_TERMINATION</th>\n",
              "      <th>NFLAG_INSURED_ON_APPROVAL</th>\n",
              "    </tr>\n",
              "  </thead>\n",
              "  <tbody>\n",
              "    <tr>\n",
              "      <th>0</th>\n",
              "      <td>2030495</td>\n",
              "      <td>271877</td>\n",
              "      <td>Consumer loans</td>\n",
              "      <td>1730.430</td>\n",
              "      <td>17145.0</td>\n",
              "      <td>17145.0</td>\n",
              "      <td>17145.0</td>\n",
              "      <td>SATURDAY</td>\n",
              "      <td>15</td>\n",
              "      <td>Y</td>\n",
              "      <td>...</td>\n",
              "      <td>Connectivity</td>\n",
              "      <td>12.0</td>\n",
              "      <td>middle</td>\n",
              "      <td>POS mobile with interest</td>\n",
              "      <td>365243.0</td>\n",
              "      <td>-42.0</td>\n",
              "      <td>300.0</td>\n",
              "      <td>-42.0</td>\n",
              "      <td>-37.0</td>\n",
              "      <td>0.0</td>\n",
              "    </tr>\n",
              "    <tr>\n",
              "      <th>1</th>\n",
              "      <td>2802425</td>\n",
              "      <td>108129</td>\n",
              "      <td>Cash loans</td>\n",
              "      <td>25188.615</td>\n",
              "      <td>607500.0</td>\n",
              "      <td>679671.0</td>\n",
              "      <td>607500.0</td>\n",
              "      <td>THURSDAY</td>\n",
              "      <td>11</td>\n",
              "      <td>Y</td>\n",
              "      <td>...</td>\n",
              "      <td>XNA</td>\n",
              "      <td>36.0</td>\n",
              "      <td>low_action</td>\n",
              "      <td>Cash X-Sell: low</td>\n",
              "      <td>365243.0</td>\n",
              "      <td>-134.0</td>\n",
              "      <td>916.0</td>\n",
              "      <td>365243.0</td>\n",
              "      <td>365243.0</td>\n",
              "      <td>1.0</td>\n",
              "    </tr>\n",
              "    <tr>\n",
              "      <th>2</th>\n",
              "      <td>2523466</td>\n",
              "      <td>122040</td>\n",
              "      <td>Cash loans</td>\n",
              "      <td>15060.735</td>\n",
              "      <td>112500.0</td>\n",
              "      <td>136444.5</td>\n",
              "      <td>112500.0</td>\n",
              "      <td>TUESDAY</td>\n",
              "      <td>11</td>\n",
              "      <td>Y</td>\n",
              "      <td>...</td>\n",
              "      <td>XNA</td>\n",
              "      <td>12.0</td>\n",
              "      <td>high</td>\n",
              "      <td>Cash X-Sell: high</td>\n",
              "      <td>365243.0</td>\n",
              "      <td>-271.0</td>\n",
              "      <td>59.0</td>\n",
              "      <td>365243.0</td>\n",
              "      <td>365243.0</td>\n",
              "      <td>1.0</td>\n",
              "    </tr>\n",
              "    <tr>\n",
              "      <th>3</th>\n",
              "      <td>2819243</td>\n",
              "      <td>176158</td>\n",
              "      <td>Cash loans</td>\n",
              "      <td>47041.335</td>\n",
              "      <td>450000.0</td>\n",
              "      <td>470790.0</td>\n",
              "      <td>450000.0</td>\n",
              "      <td>MONDAY</td>\n",
              "      <td>7</td>\n",
              "      <td>Y</td>\n",
              "      <td>...</td>\n",
              "      <td>XNA</td>\n",
              "      <td>12.0</td>\n",
              "      <td>middle</td>\n",
              "      <td>Cash X-Sell: middle</td>\n",
              "      <td>365243.0</td>\n",
              "      <td>-482.0</td>\n",
              "      <td>-152.0</td>\n",
              "      <td>-182.0</td>\n",
              "      <td>-177.0</td>\n",
              "      <td>1.0</td>\n",
              "    </tr>\n",
              "    <tr>\n",
              "      <th>4</th>\n",
              "      <td>1784265</td>\n",
              "      <td>202054</td>\n",
              "      <td>Cash loans</td>\n",
              "      <td>31924.395</td>\n",
              "      <td>337500.0</td>\n",
              "      <td>404055.0</td>\n",
              "      <td>337500.0</td>\n",
              "      <td>THURSDAY</td>\n",
              "      <td>9</td>\n",
              "      <td>Y</td>\n",
              "      <td>...</td>\n",
              "      <td>XNA</td>\n",
              "      <td>24.0</td>\n",
              "      <td>high</td>\n",
              "      <td>Cash Street: high</td>\n",
              "      <td>NaN</td>\n",
              "      <td>NaN</td>\n",
              "      <td>NaN</td>\n",
              "      <td>NaN</td>\n",
              "      <td>NaN</td>\n",
              "      <td>NaN</td>\n",
              "    </tr>\n",
              "    <tr>\n",
              "      <th>...</th>\n",
              "      <td>...</td>\n",
              "      <td>...</td>\n",
              "      <td>...</td>\n",
              "      <td>...</td>\n",
              "      <td>...</td>\n",
              "      <td>...</td>\n",
              "      <td>...</td>\n",
              "      <td>...</td>\n",
              "      <td>...</td>\n",
              "      <td>...</td>\n",
              "      <td>...</td>\n",
              "      <td>...</td>\n",
              "      <td>...</td>\n",
              "      <td>...</td>\n",
              "      <td>...</td>\n",
              "      <td>...</td>\n",
              "      <td>...</td>\n",
              "      <td>...</td>\n",
              "      <td>...</td>\n",
              "      <td>...</td>\n",
              "      <td>...</td>\n",
              "    </tr>\n",
              "    <tr>\n",
              "      <th>4191</th>\n",
              "      <td>1491628</td>\n",
              "      <td>377001</td>\n",
              "      <td>Consumer loans</td>\n",
              "      <td>NaN</td>\n",
              "      <td>102595.5</td>\n",
              "      <td>102595.5</td>\n",
              "      <td>102595.5</td>\n",
              "      <td>MONDAY</td>\n",
              "      <td>12</td>\n",
              "      <td>Y</td>\n",
              "      <td>...</td>\n",
              "      <td>Connectivity</td>\n",
              "      <td>NaN</td>\n",
              "      <td>XNA</td>\n",
              "      <td>POS mobile with interest</td>\n",
              "      <td>NaN</td>\n",
              "      <td>NaN</td>\n",
              "      <td>NaN</td>\n",
              "      <td>NaN</td>\n",
              "      <td>NaN</td>\n",
              "      <td>NaN</td>\n",
              "    </tr>\n",
              "    <tr>\n",
              "      <th>4192</th>\n",
              "      <td>2369081</td>\n",
              "      <td>416347</td>\n",
              "      <td>Consumer loans</td>\n",
              "      <td>3403.800</td>\n",
              "      <td>32575.5</td>\n",
              "      <td>16825.5</td>\n",
              "      <td>32575.5</td>\n",
              "      <td>SATURDAY</td>\n",
              "      <td>13</td>\n",
              "      <td>Y</td>\n",
              "      <td>...</td>\n",
              "      <td>Connectivity</td>\n",
              "      <td>6.0</td>\n",
              "      <td>high</td>\n",
              "      <td>POS mobile with interest</td>\n",
              "      <td>365243.0</td>\n",
              "      <td>-1001.0</td>\n",
              "      <td>-851.0</td>\n",
              "      <td>-971.0</td>\n",
              "      <td>-965.0</td>\n",
              "      <td>0.0</td>\n",
              "    </tr>\n",
              "    <tr>\n",
              "      <th>4193</th>\n",
              "      <td>2454726</td>\n",
              "      <td>389655</td>\n",
              "      <td>Revolving loans</td>\n",
              "      <td>NaN</td>\n",
              "      <td>0.0</td>\n",
              "      <td>0.0</td>\n",
              "      <td>NaN</td>\n",
              "      <td>THURSDAY</td>\n",
              "      <td>11</td>\n",
              "      <td>Y</td>\n",
              "      <td>...</td>\n",
              "      <td>XNA</td>\n",
              "      <td>NaN</td>\n",
              "      <td>XNA</td>\n",
              "      <td>Card Street</td>\n",
              "      <td>NaN</td>\n",
              "      <td>NaN</td>\n",
              "      <td>NaN</td>\n",
              "      <td>NaN</td>\n",
              "      <td>NaN</td>\n",
              "      <td>NaN</td>\n",
              "    </tr>\n",
              "    <tr>\n",
              "      <th>4194</th>\n",
              "      <td>1988248</td>\n",
              "      <td>144757</td>\n",
              "      <td>Cash loans</td>\n",
              "      <td>NaN</td>\n",
              "      <td>0.0</td>\n",
              "      <td>0.0</td>\n",
              "      <td>NaN</td>\n",
              "      <td>SUNDAY</td>\n",
              "      <td>13</td>\n",
              "      <td>Y</td>\n",
              "      <td>...</td>\n",
              "      <td>XNA</td>\n",
              "      <td>NaN</td>\n",
              "      <td>XNA</td>\n",
              "      <td>Cash</td>\n",
              "      <td>NaN</td>\n",
              "      <td>NaN</td>\n",
              "      <td>NaN</td>\n",
              "      <td>NaN</td>\n",
              "      <td>NaN</td>\n",
              "      <td>NaN</td>\n",
              "    </tr>\n",
              "    <tr>\n",
              "      <th>4195</th>\n",
              "      <td>2368518</td>\n",
              "      <td>452969</td>\n",
              "      <td>Cash loans</td>\n",
              "      <td>12048.705</td>\n",
              "      <td>90000.0</td>\n",
              "      <td>109156.5</td>\n",
              "      <td>90000.0</td>\n",
              "      <td>SATURDAY</td>\n",
              "      <td>14</td>\n",
              "      <td>Y</td>\n",
              "      <td>...</td>\n",
              "      <td>XNA</td>\n",
              "      <td>12.0</td>\n",
              "      <td>high</td>\n",
              "      <td>Cash X-Sell: high</td>\n",
              "      <td>365243.0</td>\n",
              "      <td>-536.0</td>\n",
              "      <td>-206.0</td>\n",
              "      <td>-206.0</td>\n",
              "      <td>-201.0</td>\n",
              "      <td>1.0</td>\n",
              "    </tr>\n",
              "  </tbody>\n",
              "</table>\n",
              "<p>4196 rows × 32 columns</p>\n",
              "</div>\n",
              "      <button class=\"colab-df-convert\" onclick=\"convertToInteractive('df-c6ddd56d-a9cb-4616-bbc2-7ea350094965')\"\n",
              "              title=\"Convert this dataframe to an interactive table.\"\n",
              "              style=\"display:none;\">\n",
              "        \n",
              "  <svg xmlns=\"http://www.w3.org/2000/svg\" height=\"24px\"viewBox=\"0 0 24 24\"\n",
              "       width=\"24px\">\n",
              "    <path d=\"M0 0h24v24H0V0z\" fill=\"none\"/>\n",
              "    <path d=\"M18.56 5.44l.94 2.06.94-2.06 2.06-.94-2.06-.94-.94-2.06-.94 2.06-2.06.94zm-11 1L8.5 8.5l.94-2.06 2.06-.94-2.06-.94L8.5 2.5l-.94 2.06-2.06.94zm10 10l.94 2.06.94-2.06 2.06-.94-2.06-.94-.94-2.06-.94 2.06-2.06.94z\"/><path d=\"M17.41 7.96l-1.37-1.37c-.4-.4-.92-.59-1.43-.59-.52 0-1.04.2-1.43.59L10.3 9.45l-7.72 7.72c-.78.78-.78 2.05 0 2.83L4 21.41c.39.39.9.59 1.41.59.51 0 1.02-.2 1.41-.59l7.78-7.78 2.81-2.81c.8-.78.8-2.07 0-2.86zM5.41 20L4 18.59l7.72-7.72 1.47 1.35L5.41 20z\"/>\n",
              "  </svg>\n",
              "      </button>\n",
              "      \n",
              "  <style>\n",
              "    .colab-df-container {\n",
              "      display:flex;\n",
              "      flex-wrap:wrap;\n",
              "      gap: 12px;\n",
              "    }\n",
              "\n",
              "    .colab-df-convert {\n",
              "      background-color: #E8F0FE;\n",
              "      border: none;\n",
              "      border-radius: 50%;\n",
              "      cursor: pointer;\n",
              "      display: none;\n",
              "      fill: #1967D2;\n",
              "      height: 32px;\n",
              "      padding: 0 0 0 0;\n",
              "      width: 32px;\n",
              "    }\n",
              "\n",
              "    .colab-df-convert:hover {\n",
              "      background-color: #E2EBFA;\n",
              "      box-shadow: 0px 1px 2px rgba(60, 64, 67, 0.3), 0px 1px 3px 1px rgba(60, 64, 67, 0.15);\n",
              "      fill: #174EA6;\n",
              "    }\n",
              "\n",
              "    [theme=dark] .colab-df-convert {\n",
              "      background-color: #3B4455;\n",
              "      fill: #D2E3FC;\n",
              "    }\n",
              "\n",
              "    [theme=dark] .colab-df-convert:hover {\n",
              "      background-color: #434B5C;\n",
              "      box-shadow: 0px 1px 3px 1px rgba(0, 0, 0, 0.15);\n",
              "      filter: drop-shadow(0px 1px 2px rgba(0, 0, 0, 0.3));\n",
              "      fill: #FFFFFF;\n",
              "    }\n",
              "  </style>\n",
              "\n",
              "      <script>\n",
              "        const buttonEl =\n",
              "          document.querySelector('#df-c6ddd56d-a9cb-4616-bbc2-7ea350094965 button.colab-df-convert');\n",
              "        buttonEl.style.display =\n",
              "          google.colab.kernel.accessAllowed ? 'block' : 'none';\n",
              "\n",
              "        async function convertToInteractive(key) {\n",
              "          const element = document.querySelector('#df-c6ddd56d-a9cb-4616-bbc2-7ea350094965');\n",
              "          const dataTable =\n",
              "            await google.colab.kernel.invokeFunction('convertToInteractive',\n",
              "                                                     [key], {});\n",
              "          if (!dataTable) return;\n",
              "\n",
              "          const docLinkHtml = 'Like what you see? Visit the ' +\n",
              "            '<a target=\"_blank\" href=https://colab.research.google.com/notebooks/data_table.ipynb>data table notebook</a>'\n",
              "            + ' to learn more about interactive tables.';\n",
              "          element.innerHTML = '';\n",
              "          dataTable['output_type'] = 'display_data';\n",
              "          await google.colab.output.renderOutput(dataTable, element);\n",
              "          const docLink = document.createElement('div');\n",
              "          docLink.innerHTML = docLinkHtml;\n",
              "          element.appendChild(docLink);\n",
              "        }\n",
              "      </script>\n",
              "    </div>\n",
              "  </div>\n",
              "  "
            ]
          },
          "metadata": {},
          "execution_count": 38
        }
      ]
    },
    {
      "cell_type": "code",
      "source": [
        "#Merging application_data and previous_application on column SK_ID_CURR\n",
        "merged = application_data.merge(previous_application, on = 'SK_ID_CURR' , how = 'inner')\n",
        "merged.head()"
      ],
      "metadata": {
        "colab": {
          "base_uri": "https://localhost:8080/",
          "height": 334
        },
        "id": "Woynho8CE2-x",
        "outputId": "3a1face9-745f-4ce9-f62d-d2a7e2d6bd4e"
      },
      "execution_count": null,
      "outputs": [
        {
          "output_type": "execute_result",
          "data": {
            "text/plain": [
              "   SK_ID_CURR  TARGET NAME_CONTRACT_TYPE_x CODE_GENDER FLAG_OWN_CAR  \\\n",
              "0      100077       0           Cash loans           M            N   \n",
              "1      100124       0           Cash loans           M            N   \n",
              "2      100151       0           Cash loans           M            N   \n",
              "3      100201       0           Cash loans           F            N   \n",
              "4      100279       0           Cash loans           M            N   \n",
              "\n",
              "  FLAG_OWN_REALTY  CNT_CHILDREN  AMT_INCOME_TOTAL  AMT_CREDIT_x  \\\n",
              "0               Y             0          180000.0     1256400.0   \n",
              "1               Y             0          225000.0      448272.0   \n",
              "2               N             0          135000.0      182016.0   \n",
              "3               Y             1          180000.0      675000.0   \n",
              "4               Y             0          180000.0      254700.0   \n",
              "\n",
              "   AMT_ANNUITY_x  ...  NAME_SELLER_INDUSTRY CNT_PAYMENT NAME_YIELD_GROUP  \\\n",
              "0        40657.5  ...                   XNA         NaN              XNA   \n",
              "1        28647.0  ...          Connectivity        12.0             high   \n",
              "2        11772.0  ...                   XNA        12.0             high   \n",
              "3        36747.0  ...          Connectivity        10.0             high   \n",
              "4        16407.0  ...                   XNA         NaN              XNA   \n",
              "\n",
              "        PRODUCT_COMBINATION DAYS_FIRST_DRAWING DAYS_FIRST_DUE  \\\n",
              "0                      Cash                NaN            NaN   \n",
              "1  POS mobile with interest           365243.0         -278.0   \n",
              "2         Cash Street: high           365243.0        -1011.0   \n",
              "3  POS mobile with interest           365243.0        -2393.0   \n",
              "4                      Cash                NaN            NaN   \n",
              "\n",
              "   DAYS_LAST_DUE_1ST_VERSION  DAYS_LAST_DUE  DAYS_TERMINATION  \\\n",
              "0                        NaN            NaN               NaN   \n",
              "1                       52.0          -98.0             -94.0   \n",
              "2                     -681.0         -681.0            -672.0   \n",
              "3                    -2123.0        -2123.0           -2120.0   \n",
              "4                        NaN            NaN               NaN   \n",
              "\n",
              "   NFLAG_INSURED_ON_APPROVAL  \n",
              "0                        NaN  \n",
              "1                        0.0  \n",
              "2                        1.0  \n",
              "3                        0.0  \n",
              "4                        NaN  \n",
              "\n",
              "[5 rows x 158 columns]"
            ],
            "text/html": [
              "\n",
              "  <div id=\"df-43f02f66-8629-46bd-941f-a7bbcbc6a139\">\n",
              "    <div class=\"colab-df-container\">\n",
              "      <div>\n",
              "<style scoped>\n",
              "    .dataframe tbody tr th:only-of-type {\n",
              "        vertical-align: middle;\n",
              "    }\n",
              "\n",
              "    .dataframe tbody tr th {\n",
              "        vertical-align: top;\n",
              "    }\n",
              "\n",
              "    .dataframe thead th {\n",
              "        text-align: right;\n",
              "    }\n",
              "</style>\n",
              "<table border=\"1\" class=\"dataframe\">\n",
              "  <thead>\n",
              "    <tr style=\"text-align: right;\">\n",
              "      <th></th>\n",
              "      <th>SK_ID_CURR</th>\n",
              "      <th>TARGET</th>\n",
              "      <th>NAME_CONTRACT_TYPE_x</th>\n",
              "      <th>CODE_GENDER</th>\n",
              "      <th>FLAG_OWN_CAR</th>\n",
              "      <th>FLAG_OWN_REALTY</th>\n",
              "      <th>CNT_CHILDREN</th>\n",
              "      <th>AMT_INCOME_TOTAL</th>\n",
              "      <th>AMT_CREDIT_x</th>\n",
              "      <th>AMT_ANNUITY_x</th>\n",
              "      <th>...</th>\n",
              "      <th>NAME_SELLER_INDUSTRY</th>\n",
              "      <th>CNT_PAYMENT</th>\n",
              "      <th>NAME_YIELD_GROUP</th>\n",
              "      <th>PRODUCT_COMBINATION</th>\n",
              "      <th>DAYS_FIRST_DRAWING</th>\n",
              "      <th>DAYS_FIRST_DUE</th>\n",
              "      <th>DAYS_LAST_DUE_1ST_VERSION</th>\n",
              "      <th>DAYS_LAST_DUE</th>\n",
              "      <th>DAYS_TERMINATION</th>\n",
              "      <th>NFLAG_INSURED_ON_APPROVAL</th>\n",
              "    </tr>\n",
              "  </thead>\n",
              "  <tbody>\n",
              "    <tr>\n",
              "      <th>0</th>\n",
              "      <td>100077</td>\n",
              "      <td>0</td>\n",
              "      <td>Cash loans</td>\n",
              "      <td>M</td>\n",
              "      <td>N</td>\n",
              "      <td>Y</td>\n",
              "      <td>0</td>\n",
              "      <td>180000.0</td>\n",
              "      <td>1256400.0</td>\n",
              "      <td>40657.5</td>\n",
              "      <td>...</td>\n",
              "      <td>XNA</td>\n",
              "      <td>NaN</td>\n",
              "      <td>XNA</td>\n",
              "      <td>Cash</td>\n",
              "      <td>NaN</td>\n",
              "      <td>NaN</td>\n",
              "      <td>NaN</td>\n",
              "      <td>NaN</td>\n",
              "      <td>NaN</td>\n",
              "      <td>NaN</td>\n",
              "    </tr>\n",
              "    <tr>\n",
              "      <th>1</th>\n",
              "      <td>100124</td>\n",
              "      <td>0</td>\n",
              "      <td>Cash loans</td>\n",
              "      <td>M</td>\n",
              "      <td>N</td>\n",
              "      <td>Y</td>\n",
              "      <td>0</td>\n",
              "      <td>225000.0</td>\n",
              "      <td>448272.0</td>\n",
              "      <td>28647.0</td>\n",
              "      <td>...</td>\n",
              "      <td>Connectivity</td>\n",
              "      <td>12.0</td>\n",
              "      <td>high</td>\n",
              "      <td>POS mobile with interest</td>\n",
              "      <td>365243.0</td>\n",
              "      <td>-278.0</td>\n",
              "      <td>52.0</td>\n",
              "      <td>-98.0</td>\n",
              "      <td>-94.0</td>\n",
              "      <td>0.0</td>\n",
              "    </tr>\n",
              "    <tr>\n",
              "      <th>2</th>\n",
              "      <td>100151</td>\n",
              "      <td>0</td>\n",
              "      <td>Cash loans</td>\n",
              "      <td>M</td>\n",
              "      <td>N</td>\n",
              "      <td>N</td>\n",
              "      <td>0</td>\n",
              "      <td>135000.0</td>\n",
              "      <td>182016.0</td>\n",
              "      <td>11772.0</td>\n",
              "      <td>...</td>\n",
              "      <td>XNA</td>\n",
              "      <td>12.0</td>\n",
              "      <td>high</td>\n",
              "      <td>Cash Street: high</td>\n",
              "      <td>365243.0</td>\n",
              "      <td>-1011.0</td>\n",
              "      <td>-681.0</td>\n",
              "      <td>-681.0</td>\n",
              "      <td>-672.0</td>\n",
              "      <td>1.0</td>\n",
              "    </tr>\n",
              "    <tr>\n",
              "      <th>3</th>\n",
              "      <td>100201</td>\n",
              "      <td>0</td>\n",
              "      <td>Cash loans</td>\n",
              "      <td>F</td>\n",
              "      <td>N</td>\n",
              "      <td>Y</td>\n",
              "      <td>1</td>\n",
              "      <td>180000.0</td>\n",
              "      <td>675000.0</td>\n",
              "      <td>36747.0</td>\n",
              "      <td>...</td>\n",
              "      <td>Connectivity</td>\n",
              "      <td>10.0</td>\n",
              "      <td>high</td>\n",
              "      <td>POS mobile with interest</td>\n",
              "      <td>365243.0</td>\n",
              "      <td>-2393.0</td>\n",
              "      <td>-2123.0</td>\n",
              "      <td>-2123.0</td>\n",
              "      <td>-2120.0</td>\n",
              "      <td>0.0</td>\n",
              "    </tr>\n",
              "    <tr>\n",
              "      <th>4</th>\n",
              "      <td>100279</td>\n",
              "      <td>0</td>\n",
              "      <td>Cash loans</td>\n",
              "      <td>M</td>\n",
              "      <td>N</td>\n",
              "      <td>Y</td>\n",
              "      <td>0</td>\n",
              "      <td>180000.0</td>\n",
              "      <td>254700.0</td>\n",
              "      <td>16407.0</td>\n",
              "      <td>...</td>\n",
              "      <td>XNA</td>\n",
              "      <td>NaN</td>\n",
              "      <td>XNA</td>\n",
              "      <td>Cash</td>\n",
              "      <td>NaN</td>\n",
              "      <td>NaN</td>\n",
              "      <td>NaN</td>\n",
              "      <td>NaN</td>\n",
              "      <td>NaN</td>\n",
              "      <td>NaN</td>\n",
              "    </tr>\n",
              "  </tbody>\n",
              "</table>\n",
              "<p>5 rows × 158 columns</p>\n",
              "</div>\n",
              "      <button class=\"colab-df-convert\" onclick=\"convertToInteractive('df-43f02f66-8629-46bd-941f-a7bbcbc6a139')\"\n",
              "              title=\"Convert this dataframe to an interactive table.\"\n",
              "              style=\"display:none;\">\n",
              "        \n",
              "  <svg xmlns=\"http://www.w3.org/2000/svg\" height=\"24px\"viewBox=\"0 0 24 24\"\n",
              "       width=\"24px\">\n",
              "    <path d=\"M0 0h24v24H0V0z\" fill=\"none\"/>\n",
              "    <path d=\"M18.56 5.44l.94 2.06.94-2.06 2.06-.94-2.06-.94-.94-2.06-.94 2.06-2.06.94zm-11 1L8.5 8.5l.94-2.06 2.06-.94-2.06-.94L8.5 2.5l-.94 2.06-2.06.94zm10 10l.94 2.06.94-2.06 2.06-.94-2.06-.94-.94-2.06-.94 2.06-2.06.94z\"/><path d=\"M17.41 7.96l-1.37-1.37c-.4-.4-.92-.59-1.43-.59-.52 0-1.04.2-1.43.59L10.3 9.45l-7.72 7.72c-.78.78-.78 2.05 0 2.83L4 21.41c.39.39.9.59 1.41.59.51 0 1.02-.2 1.41-.59l7.78-7.78 2.81-2.81c.8-.78.8-2.07 0-2.86zM5.41 20L4 18.59l7.72-7.72 1.47 1.35L5.41 20z\"/>\n",
              "  </svg>\n",
              "      </button>\n",
              "      \n",
              "  <style>\n",
              "    .colab-df-container {\n",
              "      display:flex;\n",
              "      flex-wrap:wrap;\n",
              "      gap: 12px;\n",
              "    }\n",
              "\n",
              "    .colab-df-convert {\n",
              "      background-color: #E8F0FE;\n",
              "      border: none;\n",
              "      border-radius: 50%;\n",
              "      cursor: pointer;\n",
              "      display: none;\n",
              "      fill: #1967D2;\n",
              "      height: 32px;\n",
              "      padding: 0 0 0 0;\n",
              "      width: 32px;\n",
              "    }\n",
              "\n",
              "    .colab-df-convert:hover {\n",
              "      background-color: #E2EBFA;\n",
              "      box-shadow: 0px 1px 2px rgba(60, 64, 67, 0.3), 0px 1px 3px 1px rgba(60, 64, 67, 0.15);\n",
              "      fill: #174EA6;\n",
              "    }\n",
              "\n",
              "    [theme=dark] .colab-df-convert {\n",
              "      background-color: #3B4455;\n",
              "      fill: #D2E3FC;\n",
              "    }\n",
              "\n",
              "    [theme=dark] .colab-df-convert:hover {\n",
              "      background-color: #434B5C;\n",
              "      box-shadow: 0px 1px 3px 1px rgba(0, 0, 0, 0.15);\n",
              "      filter: drop-shadow(0px 1px 2px rgba(0, 0, 0, 0.3));\n",
              "      fill: #FFFFFF;\n",
              "    }\n",
              "  </style>\n",
              "\n",
              "      <script>\n",
              "        const buttonEl =\n",
              "          document.querySelector('#df-43f02f66-8629-46bd-941f-a7bbcbc6a139 button.colab-df-convert');\n",
              "        buttonEl.style.display =\n",
              "          google.colab.kernel.accessAllowed ? 'block' : 'none';\n",
              "\n",
              "        async function convertToInteractive(key) {\n",
              "          const element = document.querySelector('#df-43f02f66-8629-46bd-941f-a7bbcbc6a139');\n",
              "          const dataTable =\n",
              "            await google.colab.kernel.invokeFunction('convertToInteractive',\n",
              "                                                     [key], {});\n",
              "          if (!dataTable) return;\n",
              "\n",
              "          const docLinkHtml = 'Like what you see? Visit the ' +\n",
              "            '<a target=\"_blank\" href=https://colab.research.google.com/notebooks/data_table.ipynb>data table notebook</a>'\n",
              "            + ' to learn more about interactive tables.';\n",
              "          element.innerHTML = '';\n",
              "          dataTable['output_type'] = 'display_data';\n",
              "          await google.colab.output.renderOutput(dataTable, element);\n",
              "          const docLink = document.createElement('div');\n",
              "          docLink.innerHTML = docLinkHtml;\n",
              "          element.appendChild(docLink);\n",
              "        }\n",
              "      </script>\n",
              "    </div>\n",
              "  </div>\n",
              "  "
            ]
          },
          "metadata": {},
          "execution_count": 39
        }
      ]
    },
    {
      "cell_type": "code",
      "source": [
        "merged.shape"
      ],
      "metadata": {
        "colab": {
          "base_uri": "https://localhost:8080/"
        },
        "id": "niommfZ9FNp9",
        "outputId": "cb0cc74e-d815-444f-dbc7-6859ed4b895a"
      },
      "execution_count": null,
      "outputs": [
        {
          "output_type": "execute_result",
          "data": {
            "text/plain": [
              "(602395, 158)"
            ]
          },
          "metadata": {},
          "execution_count": 127
        }
      ]
    },
    {
      "cell_type": "code",
      "source": [
        "merged[\"NAME_CONTRACT_STATUS\"].unique()"
      ],
      "metadata": {
        "colab": {
          "base_uri": "https://localhost:8080/"
        },
        "id": "FZH6Fw01Fcbp",
        "outputId": "063850db-c85d-4be4-bece-7d2abe33e814"
      },
      "execution_count": null,
      "outputs": [
        {
          "output_type": "execute_result",
          "data": {
            "text/plain": [
              "array(['Refused', 'Approved', 'Canceled', 'Unused offer'], dtype=object)"
            ]
          },
          "metadata": {},
          "execution_count": 40
        }
      ]
    },
    {
      "cell_type": "code",
      "source": [
        "merged[\"NAME_CONTRACT_STATUS\"].value_counts() / len(merged)\n",
        "#More than 60% applications are apporved for customers having previous records"
      ],
      "metadata": {
        "colab": {
          "base_uri": "https://localhost:8080/"
        },
        "id": "_efl2djrHoxd",
        "outputId": "c7f714ea-83df-4e50-b191-9adc79bbe74b"
      },
      "execution_count": null,
      "outputs": [
        {
          "output_type": "execute_result",
          "data": {
            "text/plain": [
              "Approved        0.648045\n",
              "Refused         0.173184\n",
              "Canceled        0.162011\n",
              "Unused offer    0.016760\n",
              "Name: NAME_CONTRACT_STATUS, dtype: float64"
            ]
          },
          "metadata": {},
          "execution_count": 41
        }
      ]
    },
    {
      "cell_type": "code",
      "source": [
        "(merged[\"NAME_CONTRACT_STATUS\"].value_counts() / len(merged)).plot(kind='bar')"
      ],
      "metadata": {
        "colab": {
          "base_uri": "https://localhost:8080/",
          "height": 337
        },
        "id": "mZMs6cCpIR7g",
        "outputId": "7300cb3d-c69b-4bcd-cded-fb0b403dfd7c"
      },
      "execution_count": null,
      "outputs": [
        {
          "output_type": "execute_result",
          "data": {
            "text/plain": [
              "<matplotlib.axes._subplots.AxesSubplot at 0x7f4440d7eb50>"
            ]
          },
          "metadata": {},
          "execution_count": 42
        },
        {
          "output_type": "display_data",
          "data": {
            "text/plain": [
              "<Figure size 432x288 with 1 Axes>"
            ],
            "image/png": "[encoded data removed]"
          },
          "metadata": {
            "needs_background": "light"
          }
        }
      ]
    },
    {
      "cell_type": "code",
      "source": [
        "#Bivariate analysis for NAME_CONTRACT_STATUS vs NAME_EDUCATION_TYPE\n",
        "pd.crosstab(merged['NAME_CONTRACT_STATUS'], merged['NAME_EDUCATION_TYPE'], normalize=\"columns\")\n",
        "#People with academic degree have high chance of approval and low chance of cancellation\n",
        "#or refusal according to previous data"
      ],
      "metadata": {
        "colab": {
          "base_uri": "https://localhost:8080/",
          "height": 267
        },
        "id": "INJqK9L9JJ_B",
        "outputId": "2558c74a-235b-469c-db95-6d8f4d4bcf04"
      },
      "execution_count": null,
      "outputs": [
        {
          "output_type": "execute_result",
          "data": {
            "text/plain": [
              "NAME_EDUCATION_TYPE   Higher education  Incomplete higher  Lower secondary  \\\n",
              "NAME_CONTRACT_STATUS                                                         \n",
              "Approved                      0.557692           0.666667              1.0   \n",
              "Canceled                      0.192308           0.000000              0.0   \n",
              "Refused                       0.250000           0.333333              0.0   \n",
              "Unused offer                  0.000000           0.000000              0.0   \n",
              "\n",
              "NAME_EDUCATION_TYPE   Secondary / secondary special  \n",
              "NAME_CONTRACT_STATUS                                 \n",
              "Approved                                   0.682927  \n",
              "Canceled                                   0.154472  \n",
              "Refused                                    0.138211  \n",
              "Unused offer                               0.024390  "
            ],
            "text/html": [
              "\n",
              "  <div id=\"df-bdaddfd0-f506-4668-b8b2-5235e169669a\">\n",
              "    <div class=\"colab-df-container\">\n",
              "      <div>\n",
              "<style scoped>\n",
              "    .dataframe tbody tr th:only-of-type {\n",
              "        vertical-align: middle;\n",
              "    }\n",
              "\n",
              "    .dataframe tbody tr th {\n",
              "        vertical-align: top;\n",
              "    }\n",
              "\n",
              "    .dataframe thead th {\n",
              "        text-align: right;\n",
              "    }\n",
              "</style>\n",
              "<table border=\"1\" class=\"dataframe\">\n",
              "  <thead>\n",
              "    <tr style=\"text-align: right;\">\n",
              "      <th>NAME_EDUCATION_TYPE</th>\n",
              "      <th>Higher education</th>\n",
              "      <th>Incomplete higher</th>\n",
              "      <th>Lower secondary</th>\n",
              "      <th>Secondary / secondary special</th>\n",
              "    </tr>\n",
              "    <tr>\n",
              "      <th>NAME_CONTRACT_STATUS</th>\n",
              "      <th></th>\n",
              "      <th></th>\n",
              "      <th></th>\n",
              "      <th></th>\n",
              "    </tr>\n",
              "  </thead>\n",
              "  <tbody>\n",
              "    <tr>\n",
              "      <th>Approved</th>\n",
              "      <td>0.557692</td>\n",
              "      <td>0.666667</td>\n",
              "      <td>1.0</td>\n",
              "      <td>0.682927</td>\n",
              "    </tr>\n",
              "    <tr>\n",
              "      <th>Canceled</th>\n",
              "      <td>0.192308</td>\n",
              "      <td>0.000000</td>\n",
              "      <td>0.0</td>\n",
              "      <td>0.154472</td>\n",
              "    </tr>\n",
              "    <tr>\n",
              "      <th>Refused</th>\n",
              "      <td>0.250000</td>\n",
              "      <td>0.333333</td>\n",
              "      <td>0.0</td>\n",
              "      <td>0.138211</td>\n",
              "    </tr>\n",
              "    <tr>\n",
              "      <th>Unused offer</th>\n",
              "      <td>0.000000</td>\n",
              "      <td>0.000000</td>\n",
              "      <td>0.0</td>\n",
              "      <td>0.024390</td>\n",
              "    </tr>\n",
              "  </tbody>\n",
              "</table>\n",
              "</div>\n",
              "      <button class=\"colab-df-convert\" onclick=\"convertToInteractive('df-bdaddfd0-f506-4668-b8b2-5235e169669a')\"\n",
              "              title=\"Convert this dataframe to an interactive table.\"\n",
              "              style=\"display:none;\">\n",
              "        \n",
              "  <svg xmlns=\"http://www.w3.org/2000/svg\" height=\"24px\"viewBox=\"0 0 24 24\"\n",
              "       width=\"24px\">\n",
              "    <path d=\"M0 0h24v24H0V0z\" fill=\"none\"/>\n",
              "    <path d=\"M18.56 5.44l.94 2.06.94-2.06 2.06-.94-2.06-.94-.94-2.06-.94 2.06-2.06.94zm-11 1L8.5 8.5l.94-2.06 2.06-.94-2.06-.94L8.5 2.5l-.94 2.06-2.06.94zm10 10l.94 2.06.94-2.06 2.06-.94-2.06-.94-.94-2.06-.94 2.06-2.06.94z\"/><path d=\"M17.41 7.96l-1.37-1.37c-.4-.4-.92-.59-1.43-.59-.52 0-1.04.2-1.43.59L10.3 9.45l-7.72 7.72c-.78.78-.78 2.05 0 2.83L4 21.41c.39.39.9.59 1.41.59.51 0 1.02-.2 1.41-.59l7.78-7.78 2.81-2.81c.8-.78.8-2.07 0-2.86zM5.41 20L4 18.59l7.72-7.72 1.47 1.35L5.41 20z\"/>\n",
              "  </svg>\n",
              "      </button>\n",
              "      \n",
              "  <style>\n",
              "    .colab-df-container {\n",
              "      display:flex;\n",
              "      flex-wrap:wrap;\n",
              "      gap: 12px;\n",
              "    }\n",
              "\n",
              "    .colab-df-convert {\n",
              "      background-color: #E8F0FE;\n",
              "      border: none;\n",
              "      border-radius: 50%;\n",
              "      cursor: pointer;\n",
              "      display: none;\n",
              "      fill: #1967D2;\n",
              "      height: 32px;\n",
              "      padding: 0 0 0 0;\n",
              "      width: 32px;\n",
              "    }\n",
              "\n",
              "    .colab-df-convert:hover {\n",
              "      background-color: #E2EBFA;\n",
              "      box-shadow: 0px 1px 2px rgba(60, 64, 67, 0.3), 0px 1px 3px 1px rgba(60, 64, 67, 0.15);\n",
              "      fill: #174EA6;\n",
              "    }\n",
              "\n",
              "    [theme=dark] .colab-df-convert {\n",
              "      background-color: #3B4455;\n",
              "      fill: #D2E3FC;\n",
              "    }\n",
              "\n",
              "    [theme=dark] .colab-df-convert:hover {\n",
              "      background-color: #434B5C;\n",
              "      box-shadow: 0px 1px 3px 1px rgba(0, 0, 0, 0.15);\n",
              "      filter: drop-shadow(0px 1px 2px rgba(0, 0, 0, 0.3));\n",
              "      fill: #FFFFFF;\n",
              "    }\n",
              "  </style>\n",
              "\n",
              "      <script>\n",
              "        const buttonEl =\n",
              "          document.querySelector('#df-bdaddfd0-f506-4668-b8b2-5235e169669a button.colab-df-convert');\n",
              "        buttonEl.style.display =\n",
              "          google.colab.kernel.accessAllowed ? 'block' : 'none';\n",
              "\n",
              "        async function convertToInteractive(key) {\n",
              "          const element = document.querySelector('#df-bdaddfd0-f506-4668-b8b2-5235e169669a');\n",
              "          const dataTable =\n",
              "            await google.colab.kernel.invokeFunction('convertToInteractive',\n",
              "                                                     [key], {});\n",
              "          if (!dataTable) return;\n",
              "\n",
              "          const docLinkHtml = 'Like what you see? Visit the ' +\n",
              "            '<a target=\"_blank\" href=https://colab.research.google.com/notebooks/data_table.ipynb>data table notebook</a>'\n",
              "            + ' to learn more about interactive tables.';\n",
              "          element.innerHTML = '';\n",
              "          dataTable['output_type'] = 'display_data';\n",
              "          await google.colab.output.renderOutput(dataTable, element);\n",
              "          const docLink = document.createElement('div');\n",
              "          docLink.innerHTML = docLinkHtml;\n",
              "          element.appendChild(docLink);\n",
              "        }\n",
              "      </script>\n",
              "    </div>\n",
              "  </div>\n",
              "  "
            ]
          },
          "metadata": {},
          "execution_count": 43
        }
      ]
    },
    {
      "cell_type": "code",
      "source": [
        "sns.heatmap(pd.crosstab(merged['NAME_CONTRACT_STATUS'], merged['NAME_EDUCATION_TYPE'], normalize='columns'), annot=True)"
      ],
      "metadata": {
        "colab": {
          "base_uri": "https://localhost:8080/",
          "height": 443
        },
        "id": "UJ5dB7I5NfoR",
        "outputId": "40d2449b-8899-4d73-bca9-d7cab94cb34f"
      },
      "execution_count": null,
      "outputs": [
        {
          "output_type": "execute_result",
          "data": {
            "text/plain": [
              "<matplotlib.axes._subplots.AxesSubplot at 0x7f4440d59ad0>"
            ]
          },
          "metadata": {},
          "execution_count": 44
        },
        {
          "output_type": "display_data",
          "data": {
            "text/plain": [
              "<Figure size 432x288 with 2 Axes>"
            ],
            "image/png": "[encoded data removed]"
          },
          "metadata": {
            "needs_background": "light"
          }
        }
      ]
    },
    {
      "cell_type": "code",
      "source": [
        "#Bivariate analysis for NAME_CONTRACT_STATUS vs FLAG_OWN_CAR\n",
        "pd.crosstab(merged['NAME_CONTRACT_STATUS'], merged['FLAG_OWN_CAR'], normalize=\"columns\")\n",
        "#Nothing much can be derived from NAME_CONTRACT_STATUS based on car ownership"
      ],
      "metadata": {
        "colab": {
          "base_uri": "https://localhost:8080/",
          "height": 206
        },
        "id": "mJXekRovOsus",
        "outputId": "e0b039ea-4694-4c7c-8c46-67a12b50fa14"
      },
      "execution_count": null,
      "outputs": [
        {
          "output_type": "execute_result",
          "data": {
            "text/plain": [
              "FLAG_OWN_CAR                 N         Y\n",
              "NAME_CONTRACT_STATUS                    \n",
              "Approved              0.655172  0.634921\n",
              "Canceled              0.172414  0.142857\n",
              "Refused               0.155172  0.206349\n",
              "Unused offer          0.017241  0.015873"
            ],
            "text/html": [
              "\n",
              "  <div id=\"df-a26266a4-2e6b-4e48-a90a-02d7adae86b1\">\n",
              "    <div class=\"colab-df-container\">\n",
              "      <div>\n",
              "<style scoped>\n",
              "    .dataframe tbody tr th:only-of-type {\n",
              "        vertical-align: middle;\n",
              "    }\n",
              "\n",
              "    .dataframe tbody tr th {\n",
              "        vertical-align: top;\n",
              "    }\n",
              "\n",
              "    .dataframe thead th {\n",
              "        text-align: right;\n",
              "    }\n",
              "</style>\n",
              "<table border=\"1\" class=\"dataframe\">\n",
              "  <thead>\n",
              "    <tr style=\"text-align: right;\">\n",
              "      <th>FLAG_OWN_CAR</th>\n",
              "      <th>N</th>\n",
              "      <th>Y</th>\n",
              "    </tr>\n",
              "    <tr>\n",
              "      <th>NAME_CONTRACT_STATUS</th>\n",
              "      <th></th>\n",
              "      <th></th>\n",
              "    </tr>\n",
              "  </thead>\n",
              "  <tbody>\n",
              "    <tr>\n",
              "      <th>Approved</th>\n",
              "      <td>0.655172</td>\n",
              "      <td>0.634921</td>\n",
              "    </tr>\n",
              "    <tr>\n",
              "      <th>Canceled</th>\n",
              "      <td>0.172414</td>\n",
              "      <td>0.142857</td>\n",
              "    </tr>\n",
              "    <tr>\n",
              "      <th>Refused</th>\n",
              "      <td>0.155172</td>\n",
              "      <td>0.206349</td>\n",
              "    </tr>\n",
              "    <tr>\n",
              "      <th>Unused offer</th>\n",
              "      <td>0.017241</td>\n",
              "      <td>0.015873</td>\n",
              "    </tr>\n",
              "  </tbody>\n",
              "</table>\n",
              "</div>\n",
              "      <button class=\"colab-df-convert\" onclick=\"convertToInteractive('df-a26266a4-2e6b-4e48-a90a-02d7adae86b1')\"\n",
              "              title=\"Convert this dataframe to an interactive table.\"\n",
              "              style=\"display:none;\">\n",
              "        \n",
              "  <svg xmlns=\"http://www.w3.org/2000/svg\" height=\"24px\"viewBox=\"0 0 24 24\"\n",
              "       width=\"24px\">\n",
              "    <path d=\"M0 0h24v24H0V0z\" fill=\"none\"/>\n",
              "    <path d=\"M18.56 5.44l.94 2.06.94-2.06 2.06-.94-2.06-.94-.94-2.06-.94 2.06-2.06.94zm-11 1L8.5 8.5l.94-2.06 2.06-.94-2.06-.94L8.5 2.5l-.94 2.06-2.06.94zm10 10l.94 2.06.94-2.06 2.06-.94-2.06-.94-.94-2.06-.94 2.06-2.06.94z\"/><path d=\"M17.41 7.96l-1.37-1.37c-.4-.4-.92-.59-1.43-.59-.52 0-1.04.2-1.43.59L10.3 9.45l-7.72 7.72c-.78.78-.78 2.05 0 2.83L4 21.41c.39.39.9.59 1.41.59.51 0 1.02-.2 1.41-.59l7.78-7.78 2.81-2.81c.8-.78.8-2.07 0-2.86zM5.41 20L4 18.59l7.72-7.72 1.47 1.35L5.41 20z\"/>\n",
              "  </svg>\n",
              "      </button>\n",
              "      \n",
              "  <style>\n",
              "    .colab-df-container {\n",
              "      display:flex;\n",
              "      flex-wrap:wrap;\n",
              "      gap: 12px;\n",
              "    }\n",
              "\n",
              "    .colab-df-convert {\n",
              "      background-color: #E8F0FE;\n",
              "      border: none;\n",
              "      border-radius: 50%;\n",
              "      cursor: pointer;\n",
              "      display: none;\n",
              "      fill: #1967D2;\n",
              "      height: 32px;\n",
              "      padding: 0 0 0 0;\n",
              "      width: 32px;\n",
              "    }\n",
              "\n",
              "    .colab-df-convert:hover {\n",
              "      background-color: #E2EBFA;\n",
              "      box-shadow: 0px 1px 2px rgba(60, 64, 67, 0.3), 0px 1px 3px 1px rgba(60, 64, 67, 0.15);\n",
              "      fill: #174EA6;\n",
              "    }\n",
              "\n",
              "    [theme=dark] .colab-df-convert {\n",
              "      background-color: #3B4455;\n",
              "      fill: #D2E3FC;\n",
              "    }\n",
              "\n",
              "    [theme=dark] .colab-df-convert:hover {\n",
              "      background-color: #434B5C;\n",
              "      box-shadow: 0px 1px 3px 1px rgba(0, 0, 0, 0.15);\n",
              "      filter: drop-shadow(0px 1px 2px rgba(0, 0, 0, 0.3));\n",
              "      fill: #FFFFFF;\n",
              "    }\n",
              "  </style>\n",
              "\n",
              "      <script>\n",
              "        const buttonEl =\n",
              "          document.querySelector('#df-a26266a4-2e6b-4e48-a90a-02d7adae86b1 button.colab-df-convert');\n",
              "        buttonEl.style.display =\n",
              "          google.colab.kernel.accessAllowed ? 'block' : 'none';\n",
              "\n",
              "        async function convertToInteractive(key) {\n",
              "          const element = document.querySelector('#df-a26266a4-2e6b-4e48-a90a-02d7adae86b1');\n",
              "          const dataTable =\n",
              "            await google.colab.kernel.invokeFunction('convertToInteractive',\n",
              "                                                     [key], {});\n",
              "          if (!dataTable) return;\n",
              "\n",
              "          const docLinkHtml = 'Like what you see? Visit the ' +\n",
              "            '<a target=\"_blank\" href=https://colab.research.google.com/notebooks/data_table.ipynb>data table notebook</a>'\n",
              "            + ' to learn more about interactive tables.';\n",
              "          element.innerHTML = '';\n",
              "          dataTable['output_type'] = 'display_data';\n",
              "          await google.colab.output.renderOutput(dataTable, element);\n",
              "          const docLink = document.createElement('div');\n",
              "          docLink.innerHTML = docLinkHtml;\n",
              "          element.appendChild(docLink);\n",
              "        }\n",
              "      </script>\n",
              "    </div>\n",
              "  </div>\n",
              "  "
            ]
          },
          "metadata": {},
          "execution_count": 45
        }
      ]
    },
    {
      "cell_type": "code",
      "source": [
        "sns.heatmap(pd.crosstab(merged['NAME_CONTRACT_STATUS'], merged['FLAG_OWN_CAR'], normalize='columns'), annot=True)"
      ],
      "metadata": {
        "colab": {
          "base_uri": "https://localhost:8080/",
          "height": 297
        },
        "id": "eyhtYwddBVTN",
        "outputId": "357c7aa5-b3a4-4c12-cc97-87bb2fc0c31d"
      },
      "execution_count": null,
      "outputs": [
        {
          "output_type": "execute_result",
          "data": {
            "text/plain": [
              "<matplotlib.axes._subplots.AxesSubplot at 0x7f443e432550>"
            ]
          },
          "metadata": {},
          "execution_count": 46
        },
        {
          "output_type": "display_data",
          "data": {
            "text/plain": [
              "<Figure size 432x288 with 2 Axes>"
            ],
            "image/png": "[encoded data removed]"
          },
          "metadata": {
            "needs_background": "light"
          }
        }
      ]
    },
    {
      "cell_type": "code",
      "source": [
        "pd.crosstab(merged['NAME_CONTRACT_STATUS'], merged['TARGET'], normalize=\"columns\")\n",
        "#People having no problems in repaying the current loans are the ones \n",
        "#having more number of approvals from the previous application"
      ],
      "metadata": {
        "colab": {
          "base_uri": "https://localhost:8080/",
          "height": 206
        },
        "id": "3uonn9icPqWl",
        "outputId": "3c56c1f9-f81f-40bc-91ec-9a7e5e54a123"
      },
      "execution_count": null,
      "outputs": [
        {
          "output_type": "execute_result",
          "data": {
            "text/plain": [
              "TARGET                       0         1\n",
              "NAME_CONTRACT_STATUS                    \n",
              "Approved              0.670588  0.222222\n",
              "Canceled              0.147059  0.444444\n",
              "Refused               0.164706  0.333333\n",
              "Unused offer          0.017647  0.000000"
            ],
            "text/html": [
              "\n",
              "  <div id=\"df-3e5bb1a6-81ca-41df-9b55-924ecd2281f2\">\n",
              "    <div class=\"colab-df-container\">\n",
              "      <div>\n",
              "<style scoped>\n",
              "    .dataframe tbody tr th:only-of-type {\n",
              "        vertical-align: middle;\n",
              "    }\n",
              "\n",
              "    .dataframe tbody tr th {\n",
              "        vertical-align: top;\n",
              "    }\n",
              "\n",
              "    .dataframe thead th {\n",
              "        text-align: right;\n",
              "    }\n",
              "</style>\n",
              "<table border=\"1\" class=\"dataframe\">\n",
              "  <thead>\n",
              "    <tr style=\"text-align: right;\">\n",
              "      <th>TARGET</th>\n",
              "      <th>0</th>\n",
              "      <th>1</th>\n",
              "    </tr>\n",
              "    <tr>\n",
              "      <th>NAME_CONTRACT_STATUS</th>\n",
              "      <th></th>\n",
              "      <th></th>\n",
              "    </tr>\n",
              "  </thead>\n",
              "  <tbody>\n",
              "    <tr>\n",
              "      <th>Approved</th>\n",
              "      <td>0.670588</td>\n",
              "      <td>0.222222</td>\n",
              "    </tr>\n",
              "    <tr>\n",
              "      <th>Canceled</th>\n",
              "      <td>0.147059</td>\n",
              "      <td>0.444444</td>\n",
              "    </tr>\n",
              "    <tr>\n",
              "      <th>Refused</th>\n",
              "      <td>0.164706</td>\n",
              "      <td>0.333333</td>\n",
              "    </tr>\n",
              "    <tr>\n",
              "      <th>Unused offer</th>\n",
              "      <td>0.017647</td>\n",
              "      <td>0.000000</td>\n",
              "    </tr>\n",
              "  </tbody>\n",
              "</table>\n",
              "</div>\n",
              "      <button class=\"colab-df-convert\" onclick=\"convertToInteractive('df-3e5bb1a6-81ca-41df-9b55-924ecd2281f2')\"\n",
              "              title=\"Convert this dataframe to an interactive table.\"\n",
              "              style=\"display:none;\">\n",
              "        \n",
              "  <svg xmlns=\"http://www.w3.org/2000/svg\" height=\"24px\"viewBox=\"0 0 24 24\"\n",
              "       width=\"24px\">\n",
              "    <path d=\"M0 0h24v24H0V0z\" fill=\"none\"/>\n",
              "    <path d=\"M18.56 5.44l.94 2.06.94-2.06 2.06-.94-2.06-.94-.94-2.06-.94 2.06-2.06.94zm-11 1L8.5 8.5l.94-2.06 2.06-.94-2.06-.94L8.5 2.5l-.94 2.06-2.06.94zm10 10l.94 2.06.94-2.06 2.06-.94-2.06-.94-.94-2.06-.94 2.06-2.06.94z\"/><path d=\"M17.41 7.96l-1.37-1.37c-.4-.4-.92-.59-1.43-.59-.52 0-1.04.2-1.43.59L10.3 9.45l-7.72 7.72c-.78.78-.78 2.05 0 2.83L4 21.41c.39.39.9.59 1.41.59.51 0 1.02-.2 1.41-.59l7.78-7.78 2.81-2.81c.8-.78.8-2.07 0-2.86zM5.41 20L4 18.59l7.72-7.72 1.47 1.35L5.41 20z\"/>\n",
              "  </svg>\n",
              "      </button>\n",
              "      \n",
              "  <style>\n",
              "    .colab-df-container {\n",
              "      display:flex;\n",
              "      flex-wrap:wrap;\n",
              "      gap: 12px;\n",
              "    }\n",
              "\n",
              "    .colab-df-convert {\n",
              "      background-color: #E8F0FE;\n",
              "      border: none;\n",
              "      border-radius: 50%;\n",
              "      cursor: pointer;\n",
              "      display: none;\n",
              "      fill: #1967D2;\n",
              "      height: 32px;\n",
              "      padding: 0 0 0 0;\n",
              "      width: 32px;\n",
              "    }\n",
              "\n",
              "    .colab-df-convert:hover {\n",
              "      background-color: #E2EBFA;\n",
              "      box-shadow: 0px 1px 2px rgba(60, 64, 67, 0.3), 0px 1px 3px 1px rgba(60, 64, 67, 0.15);\n",
              "      fill: #174EA6;\n",
              "    }\n",
              "\n",
              "    [theme=dark] .colab-df-convert {\n",
              "      background-color: #3B4455;\n",
              "      fill: #D2E3FC;\n",
              "    }\n",
              "\n",
              "    [theme=dark] .colab-df-convert:hover {\n",
              "      background-color: #434B5C;\n",
              "      box-shadow: 0px 1px 3px 1px rgba(0, 0, 0, 0.15);\n",
              "      filter: drop-shadow(0px 1px 2px rgba(0, 0, 0, 0.3));\n",
              "      fill: #FFFFFF;\n",
              "    }\n",
              "  </style>\n",
              "\n",
              "      <script>\n",
              "        const buttonEl =\n",
              "          document.querySelector('#df-3e5bb1a6-81ca-41df-9b55-924ecd2281f2 button.colab-df-convert');\n",
              "        buttonEl.style.display =\n",
              "          google.colab.kernel.accessAllowed ? 'block' : 'none';\n",
              "\n",
              "        async function convertToInteractive(key) {\n",
              "          const element = document.querySelector('#df-3e5bb1a6-81ca-41df-9b55-924ecd2281f2');\n",
              "          const dataTable =\n",
              "            await google.colab.kernel.invokeFunction('convertToInteractive',\n",
              "                                                     [key], {});\n",
              "          if (!dataTable) return;\n",
              "\n",
              "          const docLinkHtml = 'Like what you see? Visit the ' +\n",
              "            '<a target=\"_blank\" href=https://colab.research.google.com/notebooks/data_table.ipynb>data table notebook</a>'\n",
              "            + ' to learn more about interactive tables.';\n",
              "          element.innerHTML = '';\n",
              "          dataTable['output_type'] = 'display_data';\n",
              "          await google.colab.output.renderOutput(dataTable, element);\n",
              "          const docLink = document.createElement('div');\n",
              "          docLink.innerHTML = docLinkHtml;\n",
              "          element.appendChild(docLink);\n",
              "        }\n",
              "      </script>\n",
              "    </div>\n",
              "  </div>\n",
              "  "
            ]
          },
          "metadata": {},
          "execution_count": 47
        }
      ]
    },
    {
      "cell_type": "code",
      "source": [
        "sns.heatmap(pd.crosstab(merged['NAME_CONTRACT_STATUS'], merged['TARGET'], normalize='columns'), annot=True)"
      ],
      "metadata": {
        "colab": {
          "base_uri": "https://localhost:8080/",
          "height": 296
        },
        "id": "2la0opnQBZ-i",
        "outputId": "348b832e-efa5-43c6-8184-a7edf0175db7"
      },
      "execution_count": null,
      "outputs": [
        {
          "output_type": "execute_result",
          "data": {
            "text/plain": [
              "<matplotlib.axes._subplots.AxesSubplot at 0x7f443e370110>"
            ]
          },
          "metadata": {},
          "execution_count": 48
        },
        {
          "output_type": "display_data",
          "data": {
            "text/plain": [
              "<Figure size 432x288 with 2 Axes>"
            ],
            "image/png": "[encoded data removed]"
          },
          "metadata": {
            "needs_background": "light"
          }
        }
      ]
    },
    {
      "cell_type": "code",
      "source": [
        "pd.crosstab(merged['NAME_CONTRACT_STATUS'], merged['NAME_INCOME_TYPE'], normalize=\"columns\")\n",
        "#For students, there are high chances of approval."
      ],
      "metadata": {
        "colab": {
          "base_uri": "https://localhost:8080/",
          "height": 206
        },
        "id": "Eo6CTzPZROQW",
        "outputId": "78621aec-2b6c-4515-cf27-91db1f202923"
      },
      "execution_count": null,
      "outputs": [
        {
          "output_type": "execute_result",
          "data": {
            "text/plain": [
              "NAME_INCOME_TYPE      Commercial associate  Pensioner  State servant   Working\n",
              "NAME_CONTRACT_STATUS                                                          \n",
              "Approved                          0.634146   0.542857       0.466667  0.727273\n",
              "Canceled                          0.121951   0.400000       0.133333  0.090909\n",
              "Refused                           0.219512   0.057143       0.400000  0.159091\n",
              "Unused offer                      0.024390   0.000000       0.000000  0.022727"
            ],
            "text/html": [
              "\n",
              "  <div id=\"df-18cc7106-9f3b-4629-85f1-26c23f97c1e5\">\n",
              "    <div class=\"colab-df-container\">\n",
              "      <div>\n",
              "<style scoped>\n",
              "    .dataframe tbody tr th:only-of-type {\n",
              "        vertical-align: middle;\n",
              "    }\n",
              "\n",
              "    .dataframe tbody tr th {\n",
              "        vertical-align: top;\n",
              "    }\n",
              "\n",
              "    .dataframe thead th {\n",
              "        text-align: right;\n",
              "    }\n",
              "</style>\n",
              "<table border=\"1\" class=\"dataframe\">\n",
              "  <thead>\n",
              "    <tr style=\"text-align: right;\">\n",
              "      <th>NAME_INCOME_TYPE</th>\n",
              "      <th>Commercial associate</th>\n",
              "      <th>Pensioner</th>\n",
              "      <th>State servant</th>\n",
              "      <th>Working</th>\n",
              "    </tr>\n",
              "    <tr>\n",
              "      <th>NAME_CONTRACT_STATUS</th>\n",
              "      <th></th>\n",
              "      <th></th>\n",
              "      <th></th>\n",
              "      <th></th>\n",
              "    </tr>\n",
              "  </thead>\n",
              "  <tbody>\n",
              "    <tr>\n",
              "      <th>Approved</th>\n",
              "      <td>0.634146</td>\n",
              "      <td>0.542857</td>\n",
              "      <td>0.466667</td>\n",
              "      <td>0.727273</td>\n",
              "    </tr>\n",
              "    <tr>\n",
              "      <th>Canceled</th>\n",
              "      <td>0.121951</td>\n",
              "      <td>0.400000</td>\n",
              "      <td>0.133333</td>\n",
              "      <td>0.090909</td>\n",
              "    </tr>\n",
              "    <tr>\n",
              "      <th>Refused</th>\n",
              "      <td>0.219512</td>\n",
              "      <td>0.057143</td>\n",
              "      <td>0.400000</td>\n",
              "      <td>0.159091</td>\n",
              "    </tr>\n",
              "    <tr>\n",
              "      <th>Unused offer</th>\n",
              "      <td>0.024390</td>\n",
              "      <td>0.000000</td>\n",
              "      <td>0.000000</td>\n",
              "      <td>0.022727</td>\n",
              "    </tr>\n",
              "  </tbody>\n",
              "</table>\n",
              "</div>\n",
              "      <button class=\"colab-df-convert\" onclick=\"convertToInteractive('df-18cc7106-9f3b-4629-85f1-26c23f97c1e5')\"\n",
              "              title=\"Convert this dataframe to an interactive table.\"\n",
              "              style=\"display:none;\">\n",
              "        \n",
              "  <svg xmlns=\"http://www.w3.org/2000/svg\" height=\"24px\"viewBox=\"0 0 24 24\"\n",
              "       width=\"24px\">\n",
              "    <path d=\"M0 0h24v24H0V0z\" fill=\"none\"/>\n",
              "    <path d=\"M18.56 5.44l.94 2.06.94-2.06 2.06-.94-2.06-.94-.94-2.06-.94 2.06-2.06.94zm-11 1L8.5 8.5l.94-2.06 2.06-.94-2.06-.94L8.5 2.5l-.94 2.06-2.06.94zm10 10l.94 2.06.94-2.06 2.06-.94-2.06-.94-.94-2.06-.94 2.06-2.06.94z\"/><path d=\"M17.41 7.96l-1.37-1.37c-.4-.4-.92-.59-1.43-.59-.52 0-1.04.2-1.43.59L10.3 9.45l-7.72 7.72c-.78.78-.78 2.05 0 2.83L4 21.41c.39.39.9.59 1.41.59.51 0 1.02-.2 1.41-.59l7.78-7.78 2.81-2.81c.8-.78.8-2.07 0-2.86zM5.41 20L4 18.59l7.72-7.72 1.47 1.35L5.41 20z\"/>\n",
              "  </svg>\n",
              "      </button>\n",
              "      \n",
              "  <style>\n",
              "    .colab-df-container {\n",
              "      display:flex;\n",
              "      flex-wrap:wrap;\n",
              "      gap: 12px;\n",
              "    }\n",
              "\n",
              "    .colab-df-convert {\n",
              "      background-color: #E8F0FE;\n",
              "      border: none;\n",
              "      border-radius: 50%;\n",
              "      cursor: pointer;\n",
              "      display: none;\n",
              "      fill: #1967D2;\n",
              "      height: 32px;\n",
              "      padding: 0 0 0 0;\n",
              "      width: 32px;\n",
              "    }\n",
              "\n",
              "    .colab-df-convert:hover {\n",
              "      background-color: #E2EBFA;\n",
              "      box-shadow: 0px 1px 2px rgba(60, 64, 67, 0.3), 0px 1px 3px 1px rgba(60, 64, 67, 0.15);\n",
              "      fill: #174EA6;\n",
              "    }\n",
              "\n",
              "    [theme=dark] .colab-df-convert {\n",
              "      background-color: #3B4455;\n",
              "      fill: #D2E3FC;\n",
              "    }\n",
              "\n",
              "    [theme=dark] .colab-df-convert:hover {\n",
              "      background-color: #434B5C;\n",
              "      box-shadow: 0px 1px 3px 1px rgba(0, 0, 0, 0.15);\n",
              "      filter: drop-shadow(0px 1px 2px rgba(0, 0, 0, 0.3));\n",
              "      fill: #FFFFFF;\n",
              "    }\n",
              "  </style>\n",
              "\n",
              "      <script>\n",
              "        const buttonEl =\n",
              "          document.querySelector('#df-18cc7106-9f3b-4629-85f1-26c23f97c1e5 button.colab-df-convert');\n",
              "        buttonEl.style.display =\n",
              "          google.colab.kernel.accessAllowed ? 'block' : 'none';\n",
              "\n",
              "        async function convertToInteractive(key) {\n",
              "          const element = document.querySelector('#df-18cc7106-9f3b-4629-85f1-26c23f97c1e5');\n",
              "          const dataTable =\n",
              "            await google.colab.kernel.invokeFunction('convertToInteractive',\n",
              "                                                     [key], {});\n",
              "          if (!dataTable) return;\n",
              "\n",
              "          const docLinkHtml = 'Like what you see? Visit the ' +\n",
              "            '<a target=\"_blank\" href=https://colab.research.google.com/notebooks/data_table.ipynb>data table notebook</a>'\n",
              "            + ' to learn more about interactive tables.';\n",
              "          element.innerHTML = '';\n",
              "          dataTable['output_type'] = 'display_data';\n",
              "          await google.colab.output.renderOutput(dataTable, element);\n",
              "          const docLink = document.createElement('div');\n",
              "          docLink.innerHTML = docLinkHtml;\n",
              "          element.appendChild(docLink);\n",
              "        }\n",
              "      </script>\n",
              "    </div>\n",
              "  </div>\n",
              "  "
            ]
          },
          "metadata": {},
          "execution_count": 49
        }
      ]
    },
    {
      "cell_type": "code",
      "source": [
        "sns.heatmap(pd.crosstab(merged['NAME_CONTRACT_STATUS'], merged['NAME_INCOME_TYPE'], normalize='columns'), annot=True)"
      ],
      "metadata": {
        "colab": {
          "base_uri": "https://localhost:8080/",
          "height": 397
        },
        "id": "tFle_SE-BgUy",
        "outputId": "69e0815d-072f-410e-9d19-1132cc1f7238"
      },
      "execution_count": null,
      "outputs": [
        {
          "output_type": "execute_result",
          "data": {
            "text/plain": [
              "<matplotlib.axes._subplots.AxesSubplot at 0x7f443e2a9610>"
            ]
          },
          "metadata": {},
          "execution_count": 50
        },
        {
          "output_type": "display_data",
          "data": {
            "text/plain": [
              "<Figure size 432x288 with 2 Axes>"
            ],
            "image/png": "[encoded data removed]"
          },
          "metadata": {
            "needs_background": "light"
          }
        }
      ]
    }
  ]
}